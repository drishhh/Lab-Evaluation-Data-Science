{
 "cells": [
  {
   "cell_type": "code",
   "execution_count": 1,
   "id": "0f4ebd89",
   "metadata": {
    "_cell_guid": "b1076dfc-b9ad-4769-8c92-a6c4dae69d19",
    "_uuid": "8f2839f25d086af736a60e9eeb907d3b93b6e0e5",
    "execution": {
     "iopub.execute_input": "2022-03-15T13:29:22.122432Z",
     "iopub.status.busy": "2022-03-15T13:29:22.121205Z",
     "iopub.status.idle": "2022-03-15T13:29:22.135213Z",
     "shell.execute_reply": "2022-03-15T13:29:22.135759Z",
     "shell.execute_reply.started": "2022-03-15T11:21:41.026500Z"
    },
    "papermill": {
     "duration": 0.066353,
     "end_time": "2022-03-15T13:29:22.136081",
     "exception": false,
     "start_time": "2022-03-15T13:29:22.069728",
     "status": "completed"
    },
    "tags": []
   },
   "outputs": [
    {
     "name": "stdout",
     "output_type": "stream",
     "text": [
      "/kaggle/input/contradictory-my-dear-watson/sample_submission.csv\n",
      "/kaggle/input/contradictory-my-dear-watson/train.csv\n",
      "/kaggle/input/contradictory-my-dear-watson/test.csv\n"
     ]
    }
   ],
   "source": [
    "# This Python 3 environment comes with many helpful analytics libraries installed\n",
    "# It is defined by the kaggle/python Docker image: https://github.com/kaggle/docker-python\n",
    "# For example, here's several helpful packages to load\n",
    "\n",
    "import numpy as np # linear algebra\n",
    "import pandas as pd # data processing, CSV file I/O (e.g. pd.read_csv)\n",
    "\n",
    "# Input data files are available in the read-only \"../input/\" directory\n",
    "# For example, running this (by clicking run or pressing Shift+Enter) will list all files under the input directory\n",
    "\n",
    "import os\n",
    "for dirname, _, filenames in os.walk('/kaggle/input'):\n",
    "    for filename in filenames:\n",
    "        print(os.path.join(dirname, filename))\n",
    "\n",
    "# You can write up to 20GB to the current directory (/kaggle/working/) that gets preserved as output when you create a version using \"Save & Run All\" \n",
    "# You can also write temporary files to /kaggle/temp/, but they won't be saved outside of the current session"
   ]
  },
  {
   "cell_type": "code",
   "execution_count": 2,
   "id": "f7b1bebe",
   "metadata": {
    "execution": {
     "iopub.execute_input": "2022-03-15T13:29:22.233800Z",
     "iopub.status.busy": "2022-03-15T13:29:22.233164Z",
     "iopub.status.idle": "2022-03-15T13:29:22.236883Z",
     "shell.execute_reply": "2022-03-15T13:29:22.237448Z",
     "shell.execute_reply.started": "2022-03-15T11:21:41.039046Z"
    },
    "papermill": {
     "duration": 0.054113,
     "end_time": "2022-03-15T13:29:22.237617",
     "exception": false,
     "start_time": "2022-03-15T13:29:22.183504",
     "status": "completed"
    },
    "tags": []
   },
   "outputs": [],
   "source": [
    "os.environ[\"WANDB_API_KEY\"] = \"0\" ## 0 to silence warning of Weights & Biases"
   ]
  },
  {
   "cell_type": "code",
   "execution_count": 3,
   "id": "d82f4532",
   "metadata": {
    "execution": {
     "iopub.execute_input": "2022-03-15T13:29:22.331770Z",
     "iopub.status.busy": "2022-03-15T13:29:22.331141Z",
     "iopub.status.idle": "2022-03-15T13:29:27.101426Z",
     "shell.execute_reply": "2022-03-15T13:29:27.100843Z",
     "shell.execute_reply.started": "2022-03-15T11:21:41.052824Z"
    },
    "papermill": {
     "duration": 4.818831,
     "end_time": "2022-03-15T13:29:27.101612",
     "exception": false,
     "start_time": "2022-03-15T13:29:22.282781",
     "status": "completed"
    },
    "tags": []
   },
   "outputs": [
    {
     "name": "stderr",
     "output_type": "stream",
     "text": [
      "2022-03-15 13:29:22.871356: W tensorflow/stream_executor/platform/default/dso_loader.cc:60] Could not load dynamic library 'libcudart.so.11.0'; dlerror: libcudart.so.11.0: cannot open shared object file: No such file or directory; LD_LIBRARY_PATH: /opt/conda/lib\n",
      "2022-03-15 13:29:22.871474: I tensorflow/stream_executor/cuda/cudart_stub.cc:29] Ignore above cudart dlerror if you do not have a GPU set up on your machine.\n"
     ]
    }
   ],
   "source": [
    "import matplotlib.pyplot as plt\n",
    "import tensorflow as tf"
   ]
  },
  {
   "cell_type": "markdown",
   "id": "e93fc43b",
   "metadata": {
    "papermill": {
     "duration": 0.045288,
     "end_time": "2022-03-15T13:29:27.192509",
     "exception": false,
     "start_time": "2022-03-15T13:29:27.147221",
     "status": "completed"
    },
    "tags": []
   },
   "source": [
    "# **Downloading Data**"
   ]
  },
  {
   "cell_type": "markdown",
   "id": "1d4ddff2",
   "metadata": {
    "papermill": {
     "duration": 0.044947,
     "end_time": "2022-03-15T13:29:27.282819",
     "exception": false,
     "start_time": "2022-03-15T13:29:27.237872",
     "status": "completed"
    },
    "tags": []
   },
   "source": [
    "*The training set contains a premise, a hypothesis, a label (0 = entailment, 1 = neutral, 2 = contradiction), and the language of the text. For more information about what these mean and how the data is structured, check out the data page: https://www.kaggle.com/c/contradictory-my-dear-watson/data*"
   ]
  },
  {
   "cell_type": "code",
   "execution_count": 4,
   "id": "04241d63",
   "metadata": {
    "execution": {
     "iopub.execute_input": "2022-03-15T13:29:27.378294Z",
     "iopub.status.busy": "2022-03-15T13:29:27.377606Z",
     "iopub.status.idle": "2022-03-15T13:29:27.379268Z",
     "shell.execute_reply": "2022-03-15T13:29:27.379834Z",
     "shell.execute_reply.started": "2022-03-15T11:21:41.065226Z"
    },
    "papermill": {
     "duration": 0.051614,
     "end_time": "2022-03-15T13:29:27.379993",
     "exception": false,
     "start_time": "2022-03-15T13:29:27.328379",
     "status": "completed"
    },
    "tags": []
   },
   "outputs": [],
   "source": [
    "#FC to download the data outside of kaggle\n",
    "#!kaggle competitions download -c contradictory-my-dear-watson "
   ]
  },
  {
   "cell_type": "markdown",
   "id": "8f233929",
   "metadata": {
    "papermill": {
     "duration": 0.045182,
     "end_time": "2022-03-15T13:29:27.470795",
     "exception": false,
     "start_time": "2022-03-15T13:29:27.425613",
     "status": "completed"
    },
    "tags": []
   },
   "source": []
  },
  {
   "cell_type": "code",
   "execution_count": 5,
   "id": "861e25ee",
   "metadata": {
    "execution": {
     "iopub.execute_input": "2022-03-15T13:29:27.564749Z",
     "iopub.status.busy": "2022-03-15T13:29:27.564091Z",
     "iopub.status.idle": "2022-03-15T13:29:27.779543Z",
     "shell.execute_reply": "2022-03-15T13:29:27.780126Z",
     "shell.execute_reply.started": "2022-03-15T11:21:41.081737Z"
    },
    "papermill": {
     "duration": 0.264146,
     "end_time": "2022-03-15T13:29:27.780309",
     "exception": false,
     "start_time": "2022-03-15T13:29:27.516163",
     "status": "completed"
    },
    "tags": []
   },
   "outputs": [],
   "source": [
    "train = pd.read_csv(\"../input/contradictory-my-dear-watson/train.csv\")\n",
    "test = pd.read_csv(\"../input/contradictory-my-dear-watson/test.csv\")"
   ]
  },
  {
   "cell_type": "code",
   "execution_count": 6,
   "id": "895609a6",
   "metadata": {
    "execution": {
     "iopub.execute_input": "2022-03-15T13:29:27.875422Z",
     "iopub.status.busy": "2022-03-15T13:29:27.874553Z",
     "iopub.status.idle": "2022-03-15T13:29:27.894444Z",
     "shell.execute_reply": "2022-03-15T13:29:27.894958Z",
     "shell.execute_reply.started": "2022-03-15T11:21:41.307780Z"
    },
    "papermill": {
     "duration": 0.069177,
     "end_time": "2022-03-15T13:29:27.895146",
     "exception": false,
     "start_time": "2022-03-15T13:29:27.825969",
     "status": "completed"
    },
    "tags": []
   },
   "outputs": [
    {
     "data": {
      "text/html": [
       "<div>\n",
       "<style scoped>\n",
       "    .dataframe tbody tr th:only-of-type {\n",
       "        vertical-align: middle;\n",
       "    }\n",
       "\n",
       "    .dataframe tbody tr th {\n",
       "        vertical-align: top;\n",
       "    }\n",
       "\n",
       "    .dataframe thead th {\n",
       "        text-align: right;\n",
       "    }\n",
       "</style>\n",
       "<table border=\"1\" class=\"dataframe\">\n",
       "  <thead>\n",
       "    <tr style=\"text-align: right;\">\n",
       "      <th></th>\n",
       "      <th>id</th>\n",
       "      <th>premise</th>\n",
       "      <th>hypothesis</th>\n",
       "      <th>lang_abv</th>\n",
       "      <th>language</th>\n",
       "      <th>label</th>\n",
       "    </tr>\n",
       "  </thead>\n",
       "  <tbody>\n",
       "    <tr>\n",
       "      <th>0</th>\n",
       "      <td>5130fd2cb5</td>\n",
       "      <td>and these comments were considered in formulat...</td>\n",
       "      <td>The rules developed in the interim were put to...</td>\n",
       "      <td>en</td>\n",
       "      <td>English</td>\n",
       "      <td>0</td>\n",
       "    </tr>\n",
       "    <tr>\n",
       "      <th>1</th>\n",
       "      <td>5b72532a0b</td>\n",
       "      <td>These are issues that we wrestle with in pract...</td>\n",
       "      <td>Practice groups are not permitted to work on t...</td>\n",
       "      <td>en</td>\n",
       "      <td>English</td>\n",
       "      <td>2</td>\n",
       "    </tr>\n",
       "    <tr>\n",
       "      <th>2</th>\n",
       "      <td>3931fbe82a</td>\n",
       "      <td>Des petites choses comme celles-là font une di...</td>\n",
       "      <td>J'essayais d'accomplir quelque chose.</td>\n",
       "      <td>fr</td>\n",
       "      <td>French</td>\n",
       "      <td>0</td>\n",
       "    </tr>\n",
       "    <tr>\n",
       "      <th>3</th>\n",
       "      <td>5622f0c60b</td>\n",
       "      <td>you know they can't really defend themselves l...</td>\n",
       "      <td>They can't defend themselves because of their ...</td>\n",
       "      <td>en</td>\n",
       "      <td>English</td>\n",
       "      <td>0</td>\n",
       "    </tr>\n",
       "    <tr>\n",
       "      <th>4</th>\n",
       "      <td>86aaa48b45</td>\n",
       "      <td>ในการเล่นบทบาทสมมุติก็เช่นกัน โอกาสที่จะได้แสด...</td>\n",
       "      <td>เด็กสามารถเห็นได้ว่าชาติพันธุ์แตกต่างกันอย่างไร</td>\n",
       "      <td>th</td>\n",
       "      <td>Thai</td>\n",
       "      <td>1</td>\n",
       "    </tr>\n",
       "  </tbody>\n",
       "</table>\n",
       "</div>"
      ],
      "text/plain": [
       "           id                                            premise  \\\n",
       "0  5130fd2cb5  and these comments were considered in formulat...   \n",
       "1  5b72532a0b  These are issues that we wrestle with in pract...   \n",
       "2  3931fbe82a  Des petites choses comme celles-là font une di...   \n",
       "3  5622f0c60b  you know they can't really defend themselves l...   \n",
       "4  86aaa48b45  ในการเล่นบทบาทสมมุติก็เช่นกัน โอกาสที่จะได้แสด...   \n",
       "\n",
       "                                          hypothesis lang_abv language  label  \n",
       "0  The rules developed in the interim were put to...       en  English      0  \n",
       "1  Practice groups are not permitted to work on t...       en  English      2  \n",
       "2              J'essayais d'accomplir quelque chose.       fr   French      0  \n",
       "3  They can't defend themselves because of their ...       en  English      0  \n",
       "4    เด็กสามารถเห็นได้ว่าชาติพันธุ์แตกต่างกันอย่างไร       th     Thai      1  "
      ]
     },
     "execution_count": 6,
     "metadata": {},
     "output_type": "execute_result"
    }
   ],
   "source": [
    "train.head()"
   ]
  },
  {
   "cell_type": "code",
   "execution_count": 7,
   "id": "f02fa711",
   "metadata": {
    "execution": {
     "iopub.execute_input": "2022-03-15T13:29:27.990319Z",
     "iopub.status.busy": "2022-03-15T13:29:27.989615Z",
     "iopub.status.idle": "2022-03-15T13:29:28.008058Z",
     "shell.execute_reply": "2022-03-15T13:29:28.008509Z",
     "shell.execute_reply.started": "2022-03-15T11:21:41.334745Z"
    },
    "papermill": {
     "duration": 0.068043,
     "end_time": "2022-03-15T13:29:28.008699",
     "exception": false,
     "start_time": "2022-03-15T13:29:27.940656",
     "status": "completed"
    },
    "tags": []
   },
   "outputs": [
    {
     "data": {
      "text/html": [
       "<div>\n",
       "<style scoped>\n",
       "    .dataframe tbody tr th:only-of-type {\n",
       "        vertical-align: middle;\n",
       "    }\n",
       "\n",
       "    .dataframe tbody tr th {\n",
       "        vertical-align: top;\n",
       "    }\n",
       "\n",
       "    .dataframe thead th {\n",
       "        text-align: right;\n",
       "    }\n",
       "</style>\n",
       "<table border=\"1\" class=\"dataframe\">\n",
       "  <thead>\n",
       "    <tr style=\"text-align: right;\">\n",
       "      <th></th>\n",
       "      <th>id</th>\n",
       "      <th>premise</th>\n",
       "      <th>hypothesis</th>\n",
       "      <th>lang_abv</th>\n",
       "      <th>language</th>\n",
       "      <th>label</th>\n",
       "    </tr>\n",
       "  </thead>\n",
       "  <tbody>\n",
       "    <tr>\n",
       "      <th>2</th>\n",
       "      <td>3931fbe82a</td>\n",
       "      <td>Des petites choses comme celles-là font une di...</td>\n",
       "      <td>J'essayais d'accomplir quelque chose.</td>\n",
       "      <td>fr</td>\n",
       "      <td>French</td>\n",
       "      <td>0</td>\n",
       "    </tr>\n",
       "    <tr>\n",
       "      <th>41</th>\n",
       "      <td>b277ab420e</td>\n",
       "      <td>regarder une fille dans un parka en fourrure b...</td>\n",
       "      <td>La fille est habillée tout en rouge.</td>\n",
       "      <td>fr</td>\n",
       "      <td>French</td>\n",
       "      <td>2</td>\n",
       "    </tr>\n",
       "    <tr>\n",
       "      <th>60</th>\n",
       "      <td>bda3f7467b</td>\n",
       "      <td>Correctement mise en œuvre, cette approche fou...</td>\n",
       "      <td>L'approche vous montre le voyage qui a eu lieu.</td>\n",
       "      <td>fr</td>\n",
       "      <td>French</td>\n",
       "      <td>0</td>\n",
       "    </tr>\n",
       "    <tr>\n",
       "      <th>69</th>\n",
       "      <td>26ef4fcb0c</td>\n",
       "      <td>La complexité du subjonctif en français ne le ...</td>\n",
       "      <td>Il n'essaie pas parce qu'il n'a aucune motivat...</td>\n",
       "      <td>fr</td>\n",
       "      <td>French</td>\n",
       "      <td>1</td>\n",
       "    </tr>\n",
       "    <tr>\n",
       "      <th>70</th>\n",
       "      <td>7fa1543ed0</td>\n",
       "      <td>La Maison Blanche va-t-elle se raviser ?</td>\n",
       "      <td>La Maison-Blanche changera-t-elle d'avis ?</td>\n",
       "      <td>fr</td>\n",
       "      <td>French</td>\n",
       "      <td>0</td>\n",
       "    </tr>\n",
       "  </tbody>\n",
       "</table>\n",
       "</div>"
      ],
      "text/plain": [
       "            id                                            premise  \\\n",
       "2   3931fbe82a  Des petites choses comme celles-là font une di...   \n",
       "41  b277ab420e  regarder une fille dans un parka en fourrure b...   \n",
       "60  bda3f7467b  Correctement mise en œuvre, cette approche fou...   \n",
       "69  26ef4fcb0c  La complexité du subjonctif en français ne le ...   \n",
       "70  7fa1543ed0           La Maison Blanche va-t-elle se raviser ?   \n",
       "\n",
       "                                           hypothesis lang_abv language  label  \n",
       "2               J'essayais d'accomplir quelque chose.       fr   French      0  \n",
       "41               La fille est habillée tout en rouge.       fr   French      2  \n",
       "60    L'approche vous montre le voyage qui a eu lieu.       fr   French      0  \n",
       "69  Il n'essaie pas parce qu'il n'a aucune motivat...       fr   French      1  \n",
       "70         La Maison-Blanche changera-t-elle d'avis ?       fr   French      0  "
      ]
     },
     "execution_count": 7,
     "metadata": {},
     "output_type": "execute_result"
    }
   ],
   "source": [
    "#FC : only French texts\n",
    "train[train.lang_abv=='fr'].head()"
   ]
  },
  {
   "cell_type": "code",
   "execution_count": 8,
   "id": "db10f485",
   "metadata": {
    "execution": {
     "iopub.execute_input": "2022-03-15T13:29:28.105346Z",
     "iopub.status.busy": "2022-03-15T13:29:28.104702Z",
     "iopub.status.idle": "2022-03-15T13:29:28.110874Z",
     "shell.execute_reply": "2022-03-15T13:29:28.111493Z",
     "shell.execute_reply.started": "2022-03-15T11:21:41.361305Z"
    },
    "papermill": {
     "duration": 0.056487,
     "end_time": "2022-03-15T13:29:28.111660",
     "exception": false,
     "start_time": "2022-03-15T13:29:28.055173",
     "status": "completed"
    },
    "tags": []
   },
   "outputs": [
    {
     "name": "stdout",
     "output_type": "stream",
     "text": [
      "Entailment example \n",
      "\n",
      "Des petites choses comme celles-là font une différence énorme dans ce que j'essaye de faire.\n",
      "J'essayais d'accomplir quelque chose.\n",
      "0\n"
     ]
    }
   ],
   "source": [
    "print(\"Entailment example\",\"\\n\")\n",
    "print(train.premise.values[2])\n",
    "print(train.hypothesis.values[2])\n",
    "print(train.label.values[2])"
   ]
  },
  {
   "cell_type": "code",
   "execution_count": 9,
   "id": "29a1620a",
   "metadata": {
    "execution": {
     "iopub.execute_input": "2022-03-15T13:29:28.210325Z",
     "iopub.status.busy": "2022-03-15T13:29:28.209332Z",
     "iopub.status.idle": "2022-03-15T13:29:28.217129Z",
     "shell.execute_reply": "2022-03-15T13:29:28.216386Z",
     "shell.execute_reply.started": "2022-03-15T11:21:41.371197Z"
    },
    "papermill": {
     "duration": 0.058504,
     "end_time": "2022-03-15T13:29:28.217328",
     "exception": false,
     "start_time": "2022-03-15T13:29:28.158824",
     "status": "completed"
    },
    "tags": []
   },
   "outputs": [
    {
     "name": "stdout",
     "output_type": "stream",
     "text": [
      "Neutral example \n",
      "\n",
      "La complexité du subjonctif en français ne le soucie pas le moins du monde, pour la bonne et simple raison qu'il n'essaye pas de l'employer.\n",
      "Il n'essaie pas parce qu'il n'a aucune motivation.\n",
      "1\n"
     ]
    }
   ],
   "source": [
    "print(\"Neutral example\",\"\\n\")\n",
    "print(train.premise.values[69])\n",
    "print(train.hypothesis.values[69])\n",
    "print(train.label.values[69])"
   ]
  },
  {
   "cell_type": "code",
   "execution_count": 10,
   "id": "63eda503",
   "metadata": {
    "execution": {
     "iopub.execute_input": "2022-03-15T13:29:28.316956Z",
     "iopub.status.busy": "2022-03-15T13:29:28.315963Z",
     "iopub.status.idle": "2022-03-15T13:29:28.322374Z",
     "shell.execute_reply": "2022-03-15T13:29:28.322882Z",
     "shell.execute_reply.started": "2022-03-15T11:21:41.387831Z"
    },
    "papermill": {
     "duration": 0.057572,
     "end_time": "2022-03-15T13:29:28.323070",
     "exception": false,
     "start_time": "2022-03-15T13:29:28.265498",
     "status": "completed"
    },
    "tags": []
   },
   "outputs": [
    {
     "name": "stdout",
     "output_type": "stream",
     "text": [
      "Contradictory example \n",
      "\n",
      "regarder une fille dans un parka en fourrure blanche avec des bottes\n",
      "La fille est habillée tout en rouge.\n",
      "2\n"
     ]
    }
   ],
   "source": [
    "print(\"Contradictory example\",\"\\n\")\n",
    "print(train.premise.values[41])\n",
    "print(train.hypothesis.values[41])\n",
    "print(train.label.values[41])"
   ]
  },
  {
   "cell_type": "markdown",
   "id": "dfca537b",
   "metadata": {
    "papermill": {
     "duration": 0.047341,
     "end_time": "2022-03-15T13:29:28.417846",
     "exception": false,
     "start_time": "2022-03-15T13:29:28.370505",
     "status": "completed"
    },
    "tags": []
   },
   "source": [
    "Let's look at the size of the dataset and the distribution of languages in the training set.\n",
    "\n",
    "Dataset from https://www.kaggle.com/hugoarmandopazvivas/contradictory-my-dear-watson-hapv"
   ]
  },
  {
   "cell_type": "code",
   "execution_count": 11,
   "id": "4879e51f",
   "metadata": {
    "execution": {
     "iopub.execute_input": "2022-03-15T13:29:28.517321Z",
     "iopub.status.busy": "2022-03-15T13:29:28.516403Z",
     "iopub.status.idle": "2022-03-15T13:29:28.519424Z",
     "shell.execute_reply": "2022-03-15T13:29:28.519861Z",
     "shell.execute_reply.started": "2022-03-15T11:21:41.399661Z"
    },
    "papermill": {
     "duration": 0.054696,
     "end_time": "2022-03-15T13:29:28.520048",
     "exception": false,
     "start_time": "2022-03-15T13:29:28.465352",
     "status": "completed"
    },
    "tags": []
   },
   "outputs": [],
   "source": [
    "#!pip3 install datasets version==1\n",
    "#!pip3 install sentencepiece"
   ]
  },
  {
   "cell_type": "code",
   "execution_count": 12,
   "id": "b1172674",
   "metadata": {
    "execution": {
     "iopub.execute_input": "2022-03-15T13:29:28.619745Z",
     "iopub.status.busy": "2022-03-15T13:29:28.618738Z",
     "iopub.status.idle": "2022-03-15T13:29:28.622162Z",
     "shell.execute_reply": "2022-03-15T13:29:28.622762Z",
     "shell.execute_reply.started": "2022-03-15T11:21:41.411780Z"
    },
    "papermill": {
     "duration": 0.054742,
     "end_time": "2022-03-15T13:29:28.622933",
     "exception": false,
     "start_time": "2022-03-15T13:29:28.568191",
     "status": "completed"
    },
    "tags": []
   },
   "outputs": [],
   "source": [
    "#We are going to import more data to train our model"
   ]
  },
  {
   "cell_type": "markdown",
   "id": "9b27f114",
   "metadata": {
    "papermill": {
     "duration": 0.048174,
     "end_time": "2022-03-15T13:29:28.718755",
     "exception": false,
     "start_time": "2022-03-15T13:29:28.670581",
     "status": "completed"
    },
    "tags": []
   },
   "source": [
    "****"
   ]
  },
  {
   "cell_type": "code",
   "execution_count": 13,
   "id": "c8b905c1",
   "metadata": {
    "execution": {
     "iopub.execute_input": "2022-03-15T13:29:28.818624Z",
     "iopub.status.busy": "2022-03-15T13:29:28.817636Z",
     "iopub.status.idle": "2022-03-15T13:29:41.164112Z",
     "shell.execute_reply": "2022-03-15T13:29:41.163368Z",
     "shell.execute_reply.started": "2022-03-15T11:21:41.423335Z"
    },
    "papermill": {
     "duration": 12.397716,
     "end_time": "2022-03-15T13:29:41.164275",
     "exception": false,
     "start_time": "2022-03-15T13:29:28.766559",
     "status": "completed"
    },
    "tags": []
   },
   "outputs": [
    {
     "name": "stdout",
     "output_type": "stream",
     "text": [
      "Collecting nlp\r\n",
      "  Downloading nlp-0.4.0-py3-none-any.whl (1.7 MB)\r\n",
      "\u001b[K     |████████████████████████████████| 1.7 MB 1.8 MB/s \r\n",
      "\u001b[?25hRequirement already satisfied: requests>=2.19.0 in /opt/conda/lib/python3.7/site-packages (from nlp) (2.25.1)\r\n",
      "Requirement already satisfied: filelock in /opt/conda/lib/python3.7/site-packages (from nlp) (3.0.12)\r\n",
      "Requirement already satisfied: xxhash in /opt/conda/lib/python3.7/site-packages (from nlp) (2.0.2)\r\n",
      "Requirement already satisfied: pandas in /opt/conda/lib/python3.7/site-packages (from nlp) (1.3.2)\r\n",
      "Requirement already satisfied: dill in /opt/conda/lib/python3.7/site-packages (from nlp) (0.3.4)\r\n",
      "Requirement already satisfied: numpy in /opt/conda/lib/python3.7/site-packages (from nlp) (1.19.5)\r\n",
      "Requirement already satisfied: tqdm>=4.27 in /opt/conda/lib/python3.7/site-packages (from nlp) (4.62.1)\r\n",
      "Requirement already satisfied: pyarrow>=0.16.0 in /opt/conda/lib/python3.7/site-packages (from nlp) (5.0.0)\r\n",
      "Requirement already satisfied: certifi>=2017.4.17 in /opt/conda/lib/python3.7/site-packages (from requests>=2.19.0->nlp) (2021.5.30)\r\n",
      "Requirement already satisfied: urllib3<1.27,>=1.21.1 in /opt/conda/lib/python3.7/site-packages (from requests>=2.19.0->nlp) (1.26.6)\r\n",
      "Requirement already satisfied: chardet<5,>=3.0.2 in /opt/conda/lib/python3.7/site-packages (from requests>=2.19.0->nlp) (4.0.0)\r\n",
      "Requirement already satisfied: idna<3,>=2.5 in /opt/conda/lib/python3.7/site-packages (from requests>=2.19.0->nlp) (2.10)\r\n",
      "Requirement already satisfied: python-dateutil>=2.7.3 in /opt/conda/lib/python3.7/site-packages (from pandas->nlp) (2.8.0)\r\n",
      "Requirement already satisfied: pytz>=2017.3 in /opt/conda/lib/python3.7/site-packages (from pandas->nlp) (2021.1)\r\n",
      "Requirement already satisfied: six>=1.5 in /opt/conda/lib/python3.7/site-packages (from python-dateutil>=2.7.3->pandas->nlp) (1.15.0)\r\n",
      "Installing collected packages: nlp\r\n",
      "Successfully installed nlp-0.4.0\r\n",
      "\u001b[33mWARNING: Running pip as the 'root' user can result in broken permissions and conflicting behaviour with the system package manager. It is recommended to use a virtual environment instead: https://pip.pypa.io/warnings/venv\u001b[0m\r\n"
     ]
    }
   ],
   "source": [
    "!pip install nlp\n",
    "from nlp import load_dataset"
   ]
  },
  {
   "cell_type": "code",
   "execution_count": 14,
   "id": "9d15a189",
   "metadata": {
    "execution": {
     "iopub.execute_input": "2022-03-15T13:29:41.278948Z",
     "iopub.status.busy": "2022-03-15T13:29:41.277921Z",
     "iopub.status.idle": "2022-03-15T13:29:41.280425Z",
     "shell.execute_reply": "2022-03-15T13:29:41.280860Z",
     "shell.execute_reply.started": "2022-03-15T11:21:53.970825Z"
    },
    "papermill": {
     "duration": 0.062858,
     "end_time": "2022-03-15T13:29:41.281066",
     "exception": false,
     "start_time": "2022-03-15T13:29:41.218208",
     "status": "completed"
    },
    "tags": []
   },
   "outputs": [],
   "source": [
    "def load_mnli(use_validation=True):\n",
    "    result = []\n",
    "    dataset = load_dataset('multi_nli')\n",
    "    print(dataset['train'])\n",
    "    keys = ['train', 'validation_matched','validation_mismatched'] if use_validation else ['train']\n",
    "    for k in keys:\n",
    "        for record in dataset[k]:\n",
    "            c1, c2, c3 = record['premise'], record['hypothesis'], record['label']\n",
    "            if c1 and c2 and c3 in {0,1,2}:\n",
    "                result.append((c1,c2,c3,'en'))\n",
    "    result = pd.DataFrame(result, columns=['premise','hypothesis', 'label','lang_abv'])\n",
    "    return result"
   ]
  },
  {
   "cell_type": "code",
   "execution_count": 15,
   "id": "b46659f8",
   "metadata": {
    "execution": {
     "iopub.execute_input": "2022-03-15T13:29:41.386706Z",
     "iopub.status.busy": "2022-03-15T13:29:41.385739Z",
     "iopub.status.idle": "2022-03-15T13:30:24.938128Z",
     "shell.execute_reply": "2022-03-15T13:30:24.937538Z",
     "shell.execute_reply.started": "2022-03-15T11:21:53.981190Z"
    },
    "papermill": {
     "duration": 43.606427,
     "end_time": "2022-03-15T13:30:24.938285",
     "exception": false,
     "start_time": "2022-03-15T13:29:41.331858",
     "status": "completed"
    },
    "tags": []
   },
   "outputs": [
    {
     "data": {
      "application/vnd.jupyter.widget-view+json": {
       "model_id": "2ebf4453d9de4cebbd8e9984aa28cf0d",
       "version_major": 2,
       "version_minor": 0
      },
      "text/plain": [
       "Downloading:   0%|          | 0.00/5.05k [00:00<?, ?B/s]"
      ]
     },
     "metadata": {},
     "output_type": "display_data"
    },
    {
     "data": {
      "application/vnd.jupyter.widget-view+json": {
       "model_id": "b96c1ecc1daf4a7fa36b0c0d63223e84",
       "version_major": 2,
       "version_minor": 0
      },
      "text/plain": [
       "Downloading:   0%|          | 0.00/2.47k [00:00<?, ?B/s]"
      ]
     },
     "metadata": {},
     "output_type": "display_data"
    },
    {
     "name": "stdout",
     "output_type": "stream",
     "text": [
      "Downloading and preparing dataset multi_nli/plain_text (download: 216.34 MiB, generated: 73.39 MiB, post-processed: Unknown sizetotal: 289.74 MiB) to /root/.cache/huggingface/datasets/multi_nli/plain_text/1.0.0/60774175381b9f3f1e6ae1028229e3cdb270d50379f45b9f2c01008f50f09e6b...\n"
     ]
    },
    {
     "data": {
      "application/vnd.jupyter.widget-view+json": {
       "model_id": "90b82b3509f14f7eb3c763eb3a1a5c50",
       "version_major": 2,
       "version_minor": 0
      },
      "text/plain": [
       "Downloading:   0%|          | 0.00/227M [00:00<?, ?B/s]"
      ]
     },
     "metadata": {},
     "output_type": "display_data"
    },
    {
     "data": {
      "application/vnd.jupyter.widget-view+json": {
       "model_id": "09d043151298454ab3f83cc2c44fb46e",
       "version_major": 2,
       "version_minor": 0
      },
      "text/plain": [
       "0 examples [00:00, ? examples/s]"
      ]
     },
     "metadata": {},
     "output_type": "display_data"
    },
    {
     "data": {
      "application/vnd.jupyter.widget-view+json": {
       "model_id": "7099674a91b24ff8906cea42fca2c0bd",
       "version_major": 2,
       "version_minor": 0
      },
      "text/plain": [
       "0 examples [00:00, ? examples/s]"
      ]
     },
     "metadata": {},
     "output_type": "display_data"
    },
    {
     "data": {
      "application/vnd.jupyter.widget-view+json": {
       "model_id": "401fe7f4223a407ea46db86a3ea1390c",
       "version_major": 2,
       "version_minor": 0
      },
      "text/plain": [
       "0 examples [00:00, ? examples/s]"
      ]
     },
     "metadata": {},
     "output_type": "display_data"
    },
    {
     "name": "stdout",
     "output_type": "stream",
     "text": [
      "Dataset multi_nli downloaded and prepared to /root/.cache/huggingface/datasets/multi_nli/plain_text/1.0.0/60774175381b9f3f1e6ae1028229e3cdb270d50379f45b9f2c01008f50f09e6b. Subsequent calls will reuse this data.\n",
      "Dataset(features: {'premise': Value(dtype='string', id=None), 'hypothesis': Value(dtype='string', id=None), 'label': ClassLabel(num_classes=3, names=['entailment', 'neutral', 'contradiction'], names_file=None, id=None)}, num_rows: 392702)\n"
     ]
    }
   ],
   "source": [
    "mnli = load_mnli()"
   ]
  },
  {
   "cell_type": "code",
   "execution_count": 16,
   "id": "36c1b908",
   "metadata": {
    "execution": {
     "iopub.execute_input": "2022-03-15T13:30:25.069873Z",
     "iopub.status.busy": "2022-03-15T13:30:25.054885Z",
     "iopub.status.idle": "2022-03-15T13:30:25.073401Z",
     "shell.execute_reply": "2022-03-15T13:30:25.072783Z",
     "shell.execute_reply.started": "2022-03-15T11:22:36.621221Z"
    },
    "papermill": {
     "duration": 0.079421,
     "end_time": "2022-03-15T13:30:25.073540",
     "exception": false,
     "start_time": "2022-03-15T13:30:24.994119",
     "status": "completed"
    },
    "tags": []
   },
   "outputs": [
    {
     "data": {
      "text/html": [
       "<div>\n",
       "<style scoped>\n",
       "    .dataframe tbody tr th:only-of-type {\n",
       "        vertical-align: middle;\n",
       "    }\n",
       "\n",
       "    .dataframe tbody tr th {\n",
       "        vertical-align: top;\n",
       "    }\n",
       "\n",
       "    .dataframe thead th {\n",
       "        text-align: right;\n",
       "    }\n",
       "</style>\n",
       "<table border=\"1\" class=\"dataframe\">\n",
       "  <thead>\n",
       "    <tr style=\"text-align: right;\">\n",
       "      <th></th>\n",
       "      <th>id</th>\n",
       "      <th>premise</th>\n",
       "      <th>hypothesis</th>\n",
       "      <th>lang_abv</th>\n",
       "      <th>language</th>\n",
       "      <th>label</th>\n",
       "    </tr>\n",
       "  </thead>\n",
       "  <tbody>\n",
       "    <tr>\n",
       "      <th>0</th>\n",
       "      <td>5130fd2cb5</td>\n",
       "      <td>and these comments were considered in formulat...</td>\n",
       "      <td>The rules developed in the interim were put to...</td>\n",
       "      <td>en</td>\n",
       "      <td>English</td>\n",
       "      <td>0</td>\n",
       "    </tr>\n",
       "    <tr>\n",
       "      <th>1</th>\n",
       "      <td>5b72532a0b</td>\n",
       "      <td>These are issues that we wrestle with in pract...</td>\n",
       "      <td>Practice groups are not permitted to work on t...</td>\n",
       "      <td>en</td>\n",
       "      <td>English</td>\n",
       "      <td>2</td>\n",
       "    </tr>\n",
       "    <tr>\n",
       "      <th>2</th>\n",
       "      <td>3931fbe82a</td>\n",
       "      <td>Des petites choses comme celles-là font une di...</td>\n",
       "      <td>J'essayais d'accomplir quelque chose.</td>\n",
       "      <td>fr</td>\n",
       "      <td>French</td>\n",
       "      <td>0</td>\n",
       "    </tr>\n",
       "    <tr>\n",
       "      <th>3</th>\n",
       "      <td>5622f0c60b</td>\n",
       "      <td>you know they can't really defend themselves l...</td>\n",
       "      <td>They can't defend themselves because of their ...</td>\n",
       "      <td>en</td>\n",
       "      <td>English</td>\n",
       "      <td>0</td>\n",
       "    </tr>\n",
       "    <tr>\n",
       "      <th>4</th>\n",
       "      <td>86aaa48b45</td>\n",
       "      <td>ในการเล่นบทบาทสมมุติก็เช่นกัน โอกาสที่จะได้แสด...</td>\n",
       "      <td>เด็กสามารถเห็นได้ว่าชาติพันธุ์แตกต่างกันอย่างไร</td>\n",
       "      <td>th</td>\n",
       "      <td>Thai</td>\n",
       "      <td>1</td>\n",
       "    </tr>\n",
       "    <tr>\n",
       "      <th>...</th>\n",
       "      <td>...</td>\n",
       "      <td>...</td>\n",
       "      <td>...</td>\n",
       "      <td>...</td>\n",
       "      <td>...</td>\n",
       "      <td>...</td>\n",
       "    </tr>\n",
       "    <tr>\n",
       "      <th>12115</th>\n",
       "      <td>2b78e2a914</td>\n",
       "      <td>The results of even the most well designed epi...</td>\n",
       "      <td>All studies have the same amount of uncertaint...</td>\n",
       "      <td>en</td>\n",
       "      <td>English</td>\n",
       "      <td>2</td>\n",
       "    </tr>\n",
       "    <tr>\n",
       "      <th>12116</th>\n",
       "      <td>7e9943d152</td>\n",
       "      <td>But there are two kinds of  the pleasure of do...</td>\n",
       "      <td>But there are two kinds of the pleasure of doi...</td>\n",
       "      <td>en</td>\n",
       "      <td>English</td>\n",
       "      <td>0</td>\n",
       "    </tr>\n",
       "    <tr>\n",
       "      <th>12117</th>\n",
       "      <td>5085923e6c</td>\n",
       "      <td>The important thing is to realize that it's wa...</td>\n",
       "      <td>It cannot be moved, now or ever.</td>\n",
       "      <td>en</td>\n",
       "      <td>English</td>\n",
       "      <td>2</td>\n",
       "    </tr>\n",
       "    <tr>\n",
       "      <th>12118</th>\n",
       "      <td>fc8e2fd1fe</td>\n",
       "      <td>At the west end is a detailed model of the who...</td>\n",
       "      <td>The model temple complex is at the east end.</td>\n",
       "      <td>en</td>\n",
       "      <td>English</td>\n",
       "      <td>2</td>\n",
       "    </tr>\n",
       "    <tr>\n",
       "      <th>12119</th>\n",
       "      <td>44301dfb14</td>\n",
       "      <td>For himself he chose Atat??rk, or Father of th...</td>\n",
       "      <td>Ataturk was the father of the Turkish nation.</td>\n",
       "      <td>en</td>\n",
       "      <td>English</td>\n",
       "      <td>0</td>\n",
       "    </tr>\n",
       "  </tbody>\n",
       "</table>\n",
       "<p>12120 rows × 6 columns</p>\n",
       "</div>"
      ],
      "text/plain": [
       "               id                                            premise  \\\n",
       "0      5130fd2cb5  and these comments were considered in formulat...   \n",
       "1      5b72532a0b  These are issues that we wrestle with in pract...   \n",
       "2      3931fbe82a  Des petites choses comme celles-là font une di...   \n",
       "3      5622f0c60b  you know they can't really defend themselves l...   \n",
       "4      86aaa48b45  ในการเล่นบทบาทสมมุติก็เช่นกัน โอกาสที่จะได้แสด...   \n",
       "...           ...                                                ...   \n",
       "12115  2b78e2a914  The results of even the most well designed epi...   \n",
       "12116  7e9943d152  But there are two kinds of  the pleasure of do...   \n",
       "12117  5085923e6c  The important thing is to realize that it's wa...   \n",
       "12118  fc8e2fd1fe  At the west end is a detailed model of the who...   \n",
       "12119  44301dfb14  For himself he chose Atat??rk, or Father of th...   \n",
       "\n",
       "                                              hypothesis lang_abv language  \\\n",
       "0      The rules developed in the interim were put to...       en  English   \n",
       "1      Practice groups are not permitted to work on t...       en  English   \n",
       "2                  J'essayais d'accomplir quelque chose.       fr   French   \n",
       "3      They can't defend themselves because of their ...       en  English   \n",
       "4        เด็กสามารถเห็นได้ว่าชาติพันธุ์แตกต่างกันอย่างไร       th     Thai   \n",
       "...                                                  ...      ...      ...   \n",
       "12115  All studies have the same amount of uncertaint...       en  English   \n",
       "12116  But there are two kinds of the pleasure of doi...       en  English   \n",
       "12117                   It cannot be moved, now or ever.       en  English   \n",
       "12118       The model temple complex is at the east end.       en  English   \n",
       "12119      Ataturk was the father of the Turkish nation.       en  English   \n",
       "\n",
       "       label  \n",
       "0          0  \n",
       "1          2  \n",
       "2          0  \n",
       "3          0  \n",
       "4          1  \n",
       "...      ...  \n",
       "12115      2  \n",
       "12116      0  \n",
       "12117      2  \n",
       "12118      2  \n",
       "12119      0  \n",
       "\n",
       "[12120 rows x 6 columns]"
      ]
     },
     "execution_count": 16,
     "metadata": {},
     "output_type": "execute_result"
    }
   ],
   "source": [
    "total_train = train[['id', 'premise', 'hypothesis','lang_abv', 'language', 'label']]\n",
    "total_train"
   ]
  },
  {
   "cell_type": "code",
   "execution_count": 17,
   "id": "7d9e6165",
   "metadata": {
    "execution": {
     "iopub.execute_input": "2022-03-15T13:30:25.231177Z",
     "iopub.status.busy": "2022-03-15T13:30:25.230149Z",
     "iopub.status.idle": "2022-03-15T13:30:25.378748Z",
     "shell.execute_reply": "2022-03-15T13:30:25.379299Z",
     "shell.execute_reply.started": "2022-03-15T11:22:36.643726Z"
    },
    "papermill": {
     "duration": 0.251347,
     "end_time": "2022-03-15T13:30:25.379494",
     "exception": false,
     "start_time": "2022-03-15T13:30:25.128147",
     "status": "completed"
    },
    "tags": []
   },
   "outputs": [
    {
     "data": {
      "text/html": [
       "<div>\n",
       "<style scoped>\n",
       "    .dataframe tbody tr th:only-of-type {\n",
       "        vertical-align: middle;\n",
       "    }\n",
       "\n",
       "    .dataframe tbody tr th {\n",
       "        vertical-align: top;\n",
       "    }\n",
       "\n",
       "    .dataframe thead th {\n",
       "        text-align: right;\n",
       "    }\n",
       "</style>\n",
       "<table border=\"1\" class=\"dataframe\">\n",
       "  <thead>\n",
       "    <tr style=\"text-align: right;\">\n",
       "      <th></th>\n",
       "      <th>id</th>\n",
       "      <th>premise</th>\n",
       "      <th>hypothesis</th>\n",
       "      <th>lang_abv</th>\n",
       "      <th>language</th>\n",
       "      <th>label</th>\n",
       "    </tr>\n",
       "  </thead>\n",
       "  <tbody>\n",
       "    <tr>\n",
       "      <th>0</th>\n",
       "      <td>xxx</td>\n",
       "      <td>Conceptually cream skimming has two basic dime...</td>\n",
       "      <td>Product and geography are what make cream skim...</td>\n",
       "      <td>en</td>\n",
       "      <td>English</td>\n",
       "      <td>1</td>\n",
       "    </tr>\n",
       "    <tr>\n",
       "      <th>1</th>\n",
       "      <td>xxx</td>\n",
       "      <td>you know during the season and i guess at at y...</td>\n",
       "      <td>You lose the things to the following level if ...</td>\n",
       "      <td>en</td>\n",
       "      <td>English</td>\n",
       "      <td>0</td>\n",
       "    </tr>\n",
       "    <tr>\n",
       "      <th>2</th>\n",
       "      <td>xxx</td>\n",
       "      <td>One of our number will carry out your instruct...</td>\n",
       "      <td>A member of my team will execute your orders w...</td>\n",
       "      <td>en</td>\n",
       "      <td>English</td>\n",
       "      <td>0</td>\n",
       "    </tr>\n",
       "    <tr>\n",
       "      <th>3</th>\n",
       "      <td>xxx</td>\n",
       "      <td>How do you know? All this is their information...</td>\n",
       "      <td>This information belongs to them.</td>\n",
       "      <td>en</td>\n",
       "      <td>English</td>\n",
       "      <td>0</td>\n",
       "    </tr>\n",
       "    <tr>\n",
       "      <th>4</th>\n",
       "      <td>xxx</td>\n",
       "      <td>yeah i tell you what though if you go price so...</td>\n",
       "      <td>The tennis shoes have a range of prices.</td>\n",
       "      <td>en</td>\n",
       "      <td>English</td>\n",
       "      <td>1</td>\n",
       "    </tr>\n",
       "    <tr>\n",
       "      <th>...</th>\n",
       "      <td>...</td>\n",
       "      <td>...</td>\n",
       "      <td>...</td>\n",
       "      <td>...</td>\n",
       "      <td>...</td>\n",
       "      <td>...</td>\n",
       "    </tr>\n",
       "    <tr>\n",
       "      <th>412344</th>\n",
       "      <td>xxx</td>\n",
       "      <td>Do you watch that?</td>\n",
       "      <td>Can you see?</td>\n",
       "      <td>en</td>\n",
       "      <td>English</td>\n",
       "      <td>2</td>\n",
       "    </tr>\n",
       "    <tr>\n",
       "      <th>412345</th>\n",
       "      <td>xxx</td>\n",
       "      <td>To a Western ear, the most predictable of lang...</td>\n",
       "      <td>To the Western ear, the least predictable of l...</td>\n",
       "      <td>en</td>\n",
       "      <td>English</td>\n",
       "      <td>2</td>\n",
       "    </tr>\n",
       "    <tr>\n",
       "      <th>412346</th>\n",
       "      <td>xxx</td>\n",
       "      <td>The recorder captured the sounds of loud thump...</td>\n",
       "      <td>The recorder didn't capture any of the sounds.</td>\n",
       "      <td>en</td>\n",
       "      <td>English</td>\n",
       "      <td>2</td>\n",
       "    </tr>\n",
       "    <tr>\n",
       "      <th>412347</th>\n",
       "      <td>xxx</td>\n",
       "      <td>That's a good attitude!</td>\n",
       "      <td>You feel good about this, don't you?</td>\n",
       "      <td>en</td>\n",
       "      <td>English</td>\n",
       "      <td>1</td>\n",
       "    </tr>\n",
       "    <tr>\n",
       "      <th>412348</th>\n",
       "      <td>xxx</td>\n",
       "      <td>Bloomer (for `flower'), butter (for `ram'), or...</td>\n",
       "      <td>Bloomer is another word for flower, butter is ...</td>\n",
       "      <td>en</td>\n",
       "      <td>English</td>\n",
       "      <td>0</td>\n",
       "    </tr>\n",
       "  </tbody>\n",
       "</table>\n",
       "<p>412349 rows × 6 columns</p>\n",
       "</div>"
      ],
      "text/plain": [
       "         id                                            premise  \\\n",
       "0       xxx  Conceptually cream skimming has two basic dime...   \n",
       "1       xxx  you know during the season and i guess at at y...   \n",
       "2       xxx  One of our number will carry out your instruct...   \n",
       "3       xxx  How do you know? All this is their information...   \n",
       "4       xxx  yeah i tell you what though if you go price so...   \n",
       "...     ...                                                ...   \n",
       "412344  xxx                                 Do you watch that?   \n",
       "412345  xxx  To a Western ear, the most predictable of lang...   \n",
       "412346  xxx  The recorder captured the sounds of loud thump...   \n",
       "412347  xxx                            That's a good attitude!   \n",
       "412348  xxx  Bloomer (for `flower'), butter (for `ram'), or...   \n",
       "\n",
       "                                               hypothesis lang_abv language  \\\n",
       "0       Product and geography are what make cream skim...       en  English   \n",
       "1       You lose the things to the following level if ...       en  English   \n",
       "2       A member of my team will execute your orders w...       en  English   \n",
       "3                       This information belongs to them.       en  English   \n",
       "4                The tennis shoes have a range of prices.       en  English   \n",
       "...                                                   ...      ...      ...   \n",
       "412344                                       Can you see?       en  English   \n",
       "412345  To the Western ear, the least predictable of l...       en  English   \n",
       "412346     The recorder didn't capture any of the sounds.       en  English   \n",
       "412347              You feel good about this, don't you?        en  English   \n",
       "412348  Bloomer is another word for flower, butter is ...       en  English   \n",
       "\n",
       "        label  \n",
       "0           1  \n",
       "1           0  \n",
       "2           0  \n",
       "3           0  \n",
       "4           1  \n",
       "...       ...  \n",
       "412344      2  \n",
       "412345      2  \n",
       "412346      2  \n",
       "412347      1  \n",
       "412348      0  \n",
       "\n",
       "[412349 rows x 6 columns]"
      ]
     },
     "execution_count": 17,
     "metadata": {},
     "output_type": "execute_result"
    }
   ],
   "source": [
    "mnli = mnli[['premise', 'hypothesis', 'lang_abv', 'label']]\n",
    "mnli.insert(0, 'language', 'English')\n",
    "mnli = mnli[['premise', 'hypothesis', 'lang_abv', 'language', 'label']]\n",
    "mnli.insert(0, 'id', 'xxx')\n",
    "mnli"
   ]
  },
  {
   "cell_type": "code",
   "execution_count": 18,
   "id": "46578b6e",
   "metadata": {
    "execution": {
     "iopub.execute_input": "2022-03-15T13:30:25.496163Z",
     "iopub.status.busy": "2022-03-15T13:30:25.495520Z",
     "iopub.status.idle": "2022-03-15T13:30:25.568266Z",
     "shell.execute_reply": "2022-03-15T13:30:25.567657Z",
     "shell.execute_reply.started": "2022-03-15T11:22:36.834496Z"
    },
    "papermill": {
     "duration": 0.133117,
     "end_time": "2022-03-15T13:30:25.568422",
     "exception": false,
     "start_time": "2022-03-15T13:30:25.435305",
     "status": "completed"
    },
    "tags": []
   },
   "outputs": [
    {
     "data": {
      "text/html": [
       "<div>\n",
       "<style scoped>\n",
       "    .dataframe tbody tr th:only-of-type {\n",
       "        vertical-align: middle;\n",
       "    }\n",
       "\n",
       "    .dataframe tbody tr th {\n",
       "        vertical-align: top;\n",
       "    }\n",
       "\n",
       "    .dataframe thead th {\n",
       "        text-align: right;\n",
       "    }\n",
       "</style>\n",
       "<table border=\"1\" class=\"dataframe\">\n",
       "  <thead>\n",
       "    <tr style=\"text-align: right;\">\n",
       "      <th></th>\n",
       "      <th>id</th>\n",
       "      <th>premise</th>\n",
       "      <th>hypothesis</th>\n",
       "      <th>lang_abv</th>\n",
       "      <th>language</th>\n",
       "      <th>label</th>\n",
       "    </tr>\n",
       "  </thead>\n",
       "  <tbody>\n",
       "    <tr>\n",
       "      <th>0</th>\n",
       "      <td>5130fd2cb5</td>\n",
       "      <td>and these comments were considered in formulat...</td>\n",
       "      <td>The rules developed in the interim were put to...</td>\n",
       "      <td>en</td>\n",
       "      <td>English</td>\n",
       "      <td>0</td>\n",
       "    </tr>\n",
       "    <tr>\n",
       "      <th>1</th>\n",
       "      <td>5b72532a0b</td>\n",
       "      <td>These are issues that we wrestle with in pract...</td>\n",
       "      <td>Practice groups are not permitted to work on t...</td>\n",
       "      <td>en</td>\n",
       "      <td>English</td>\n",
       "      <td>2</td>\n",
       "    </tr>\n",
       "    <tr>\n",
       "      <th>2</th>\n",
       "      <td>3931fbe82a</td>\n",
       "      <td>Des petites choses comme celles-là font une di...</td>\n",
       "      <td>J'essayais d'accomplir quelque chose.</td>\n",
       "      <td>fr</td>\n",
       "      <td>French</td>\n",
       "      <td>0</td>\n",
       "    </tr>\n",
       "    <tr>\n",
       "      <th>3</th>\n",
       "      <td>5622f0c60b</td>\n",
       "      <td>you know they can't really defend themselves l...</td>\n",
       "      <td>They can't defend themselves because of their ...</td>\n",
       "      <td>en</td>\n",
       "      <td>English</td>\n",
       "      <td>0</td>\n",
       "    </tr>\n",
       "    <tr>\n",
       "      <th>4</th>\n",
       "      <td>86aaa48b45</td>\n",
       "      <td>ในการเล่นบทบาทสมมุติก็เช่นกัน โอกาสที่จะได้แสด...</td>\n",
       "      <td>เด็กสามารถเห็นได้ว่าชาติพันธุ์แตกต่างกันอย่างไร</td>\n",
       "      <td>th</td>\n",
       "      <td>Thai</td>\n",
       "      <td>1</td>\n",
       "    </tr>\n",
       "    <tr>\n",
       "      <th>...</th>\n",
       "      <td>...</td>\n",
       "      <td>...</td>\n",
       "      <td>...</td>\n",
       "      <td>...</td>\n",
       "      <td>...</td>\n",
       "      <td>...</td>\n",
       "    </tr>\n",
       "    <tr>\n",
       "      <th>412344</th>\n",
       "      <td>xxx</td>\n",
       "      <td>Do you watch that?</td>\n",
       "      <td>Can you see?</td>\n",
       "      <td>en</td>\n",
       "      <td>English</td>\n",
       "      <td>2</td>\n",
       "    </tr>\n",
       "    <tr>\n",
       "      <th>412345</th>\n",
       "      <td>xxx</td>\n",
       "      <td>To a Western ear, the most predictable of lang...</td>\n",
       "      <td>To the Western ear, the least predictable of l...</td>\n",
       "      <td>en</td>\n",
       "      <td>English</td>\n",
       "      <td>2</td>\n",
       "    </tr>\n",
       "    <tr>\n",
       "      <th>412346</th>\n",
       "      <td>xxx</td>\n",
       "      <td>The recorder captured the sounds of loud thump...</td>\n",
       "      <td>The recorder didn't capture any of the sounds.</td>\n",
       "      <td>en</td>\n",
       "      <td>English</td>\n",
       "      <td>2</td>\n",
       "    </tr>\n",
       "    <tr>\n",
       "      <th>412347</th>\n",
       "      <td>xxx</td>\n",
       "      <td>That's a good attitude!</td>\n",
       "      <td>You feel good about this, don't you?</td>\n",
       "      <td>en</td>\n",
       "      <td>English</td>\n",
       "      <td>1</td>\n",
       "    </tr>\n",
       "    <tr>\n",
       "      <th>412348</th>\n",
       "      <td>xxx</td>\n",
       "      <td>Bloomer (for `flower'), butter (for `ram'), or...</td>\n",
       "      <td>Bloomer is another word for flower, butter is ...</td>\n",
       "      <td>en</td>\n",
       "      <td>English</td>\n",
       "      <td>0</td>\n",
       "    </tr>\n",
       "  </tbody>\n",
       "</table>\n",
       "<p>424469 rows × 6 columns</p>\n",
       "</div>"
      ],
      "text/plain": [
       "                id                                            premise  \\\n",
       "0       5130fd2cb5  and these comments were considered in formulat...   \n",
       "1       5b72532a0b  These are issues that we wrestle with in pract...   \n",
       "2       3931fbe82a  Des petites choses comme celles-là font une di...   \n",
       "3       5622f0c60b  you know they can't really defend themselves l...   \n",
       "4       86aaa48b45  ในการเล่นบทบาทสมมุติก็เช่นกัน โอกาสที่จะได้แสด...   \n",
       "...            ...                                                ...   \n",
       "412344         xxx                                 Do you watch that?   \n",
       "412345         xxx  To a Western ear, the most predictable of lang...   \n",
       "412346         xxx  The recorder captured the sounds of loud thump...   \n",
       "412347         xxx                            That's a good attitude!   \n",
       "412348         xxx  Bloomer (for `flower'), butter (for `ram'), or...   \n",
       "\n",
       "                                               hypothesis lang_abv language  \\\n",
       "0       The rules developed in the interim were put to...       en  English   \n",
       "1       Practice groups are not permitted to work on t...       en  English   \n",
       "2                   J'essayais d'accomplir quelque chose.       fr   French   \n",
       "3       They can't defend themselves because of their ...       en  English   \n",
       "4         เด็กสามารถเห็นได้ว่าชาติพันธุ์แตกต่างกันอย่างไร       th     Thai   \n",
       "...                                                   ...      ...      ...   \n",
       "412344                                       Can you see?       en  English   \n",
       "412345  To the Western ear, the least predictable of l...       en  English   \n",
       "412346     The recorder didn't capture any of the sounds.       en  English   \n",
       "412347              You feel good about this, don't you?        en  English   \n",
       "412348  Bloomer is another word for flower, butter is ...       en  English   \n",
       "\n",
       "        label  \n",
       "0           0  \n",
       "1           2  \n",
       "2           0  \n",
       "3           0  \n",
       "4           1  \n",
       "...       ...  \n",
       "412344      2  \n",
       "412345      2  \n",
       "412346      2  \n",
       "412347      1  \n",
       "412348      0  \n",
       "\n",
       "[424469 rows x 6 columns]"
      ]
     },
     "execution_count": 18,
     "metadata": {},
     "output_type": "execute_result"
    }
   ],
   "source": [
    "total_train = pd.concat([total_train, mnli], axis = 0)\n",
    "total_train"
   ]
  },
  {
   "cell_type": "code",
   "execution_count": 19,
   "id": "792c7675",
   "metadata": {
    "execution": {
     "iopub.execute_input": "2022-03-15T13:30:25.692860Z",
     "iopub.status.busy": "2022-03-15T13:30:25.692192Z",
     "iopub.status.idle": "2022-03-15T13:30:25.740209Z",
     "shell.execute_reply": "2022-03-15T13:30:25.740696Z",
     "shell.execute_reply.started": "2022-03-15T11:22:36.910353Z"
    },
    "papermill": {
     "duration": 0.116021,
     "end_time": "2022-03-15T13:30:25.740865",
     "exception": false,
     "start_time": "2022-03-15T13:30:25.624844",
     "status": "completed"
    },
    "tags": []
   },
   "outputs": [
    {
     "data": {
      "text/html": [
       "<div>\n",
       "<style scoped>\n",
       "    .dataframe tbody tr th:only-of-type {\n",
       "        vertical-align: middle;\n",
       "    }\n",
       "\n",
       "    .dataframe tbody tr th {\n",
       "        vertical-align: top;\n",
       "    }\n",
       "\n",
       "    .dataframe thead th {\n",
       "        text-align: right;\n",
       "    }\n",
       "</style>\n",
       "<table border=\"1\" class=\"dataframe\">\n",
       "  <thead>\n",
       "    <tr style=\"text-align: right;\">\n",
       "      <th></th>\n",
       "      <th>id</th>\n",
       "      <th>premise</th>\n",
       "      <th>hypothesis</th>\n",
       "      <th>lang_abv</th>\n",
       "      <th>language</th>\n",
       "      <th>label</th>\n",
       "    </tr>\n",
       "  </thead>\n",
       "  <tbody>\n",
       "    <tr>\n",
       "      <th>count</th>\n",
       "      <td>12120</td>\n",
       "      <td>12120</td>\n",
       "      <td>12120</td>\n",
       "      <td>12120</td>\n",
       "      <td>12120</td>\n",
       "      <td>12120.000000</td>\n",
       "    </tr>\n",
       "    <tr>\n",
       "      <th>unique</th>\n",
       "      <td>12120</td>\n",
       "      <td>8209</td>\n",
       "      <td>12119</td>\n",
       "      <td>15</td>\n",
       "      <td>15</td>\n",
       "      <td>NaN</td>\n",
       "    </tr>\n",
       "    <tr>\n",
       "      <th>top</th>\n",
       "      <td>5130fd2cb5</td>\n",
       "      <td>and these comments were considered in formulat...</td>\n",
       "      <td>I am not sure.</td>\n",
       "      <td>en</td>\n",
       "      <td>English</td>\n",
       "      <td>NaN</td>\n",
       "    </tr>\n",
       "    <tr>\n",
       "      <th>freq</th>\n",
       "      <td>1</td>\n",
       "      <td>3</td>\n",
       "      <td>2</td>\n",
       "      <td>6870</td>\n",
       "      <td>6870</td>\n",
       "      <td>NaN</td>\n",
       "    </tr>\n",
       "    <tr>\n",
       "      <th>mean</th>\n",
       "      <td>NaN</td>\n",
       "      <td>NaN</td>\n",
       "      <td>NaN</td>\n",
       "      <td>NaN</td>\n",
       "      <td>NaN</td>\n",
       "      <td>0.990759</td>\n",
       "    </tr>\n",
       "    <tr>\n",
       "      <th>std</th>\n",
       "      <td>NaN</td>\n",
       "      <td>NaN</td>\n",
       "      <td>NaN</td>\n",
       "      <td>NaN</td>\n",
       "      <td>NaN</td>\n",
       "      <td>0.824523</td>\n",
       "    </tr>\n",
       "    <tr>\n",
       "      <th>min</th>\n",
       "      <td>NaN</td>\n",
       "      <td>NaN</td>\n",
       "      <td>NaN</td>\n",
       "      <td>NaN</td>\n",
       "      <td>NaN</td>\n",
       "      <td>0.000000</td>\n",
       "    </tr>\n",
       "    <tr>\n",
       "      <th>25%</th>\n",
       "      <td>NaN</td>\n",
       "      <td>NaN</td>\n",
       "      <td>NaN</td>\n",
       "      <td>NaN</td>\n",
       "      <td>NaN</td>\n",
       "      <td>0.000000</td>\n",
       "    </tr>\n",
       "    <tr>\n",
       "      <th>50%</th>\n",
       "      <td>NaN</td>\n",
       "      <td>NaN</td>\n",
       "      <td>NaN</td>\n",
       "      <td>NaN</td>\n",
       "      <td>NaN</td>\n",
       "      <td>1.000000</td>\n",
       "    </tr>\n",
       "    <tr>\n",
       "      <th>75%</th>\n",
       "      <td>NaN</td>\n",
       "      <td>NaN</td>\n",
       "      <td>NaN</td>\n",
       "      <td>NaN</td>\n",
       "      <td>NaN</td>\n",
       "      <td>2.000000</td>\n",
       "    </tr>\n",
       "    <tr>\n",
       "      <th>max</th>\n",
       "      <td>NaN</td>\n",
       "      <td>NaN</td>\n",
       "      <td>NaN</td>\n",
       "      <td>NaN</td>\n",
       "      <td>NaN</td>\n",
       "      <td>2.000000</td>\n",
       "    </tr>\n",
       "  </tbody>\n",
       "</table>\n",
       "</div>"
      ],
      "text/plain": [
       "                id                                            premise  \\\n",
       "count        12120                                              12120   \n",
       "unique       12120                                               8209   \n",
       "top     5130fd2cb5  and these comments were considered in formulat...   \n",
       "freq             1                                                  3   \n",
       "mean           NaN                                                NaN   \n",
       "std            NaN                                                NaN   \n",
       "min            NaN                                                NaN   \n",
       "25%            NaN                                                NaN   \n",
       "50%            NaN                                                NaN   \n",
       "75%            NaN                                                NaN   \n",
       "max            NaN                                                NaN   \n",
       "\n",
       "            hypothesis lang_abv language         label  \n",
       "count            12120    12120    12120  12120.000000  \n",
       "unique           12119       15       15           NaN  \n",
       "top     I am not sure.       en  English           NaN  \n",
       "freq                 2     6870     6870           NaN  \n",
       "mean               NaN      NaN      NaN      0.990759  \n",
       "std                NaN      NaN      NaN      0.824523  \n",
       "min                NaN      NaN      NaN      0.000000  \n",
       "25%                NaN      NaN      NaN      0.000000  \n",
       "50%                NaN      NaN      NaN      1.000000  \n",
       "75%                NaN      NaN      NaN      2.000000  \n",
       "max                NaN      NaN      NaN      2.000000  "
      ]
     },
     "execution_count": 19,
     "metadata": {},
     "output_type": "execute_result"
    }
   ],
   "source": [
    "train.describe(include='all')\n"
   ]
  },
  {
   "cell_type": "code",
   "execution_count": 20,
   "id": "54856e61",
   "metadata": {
    "execution": {
     "iopub.execute_input": "2022-03-15T13:30:25.859337Z",
     "iopub.status.busy": "2022-03-15T13:30:25.858466Z",
     "iopub.status.idle": "2022-03-15T13:30:25.888711Z",
     "shell.execute_reply": "2022-03-15T13:30:25.889190Z",
     "shell.execute_reply.started": "2022-03-15T11:22:36.970857Z"
    },
    "papermill": {
     "duration": 0.091481,
     "end_time": "2022-03-15T13:30:25.889371",
     "exception": false,
     "start_time": "2022-03-15T13:30:25.797890",
     "status": "completed"
    },
    "tags": []
   },
   "outputs": [
    {
     "data": {
      "text/html": [
       "<div>\n",
       "<style scoped>\n",
       "    .dataframe tbody tr th:only-of-type {\n",
       "        vertical-align: middle;\n",
       "    }\n",
       "\n",
       "    .dataframe tbody tr th {\n",
       "        vertical-align: top;\n",
       "    }\n",
       "\n",
       "    .dataframe thead th {\n",
       "        text-align: right;\n",
       "    }\n",
       "</style>\n",
       "<table border=\"1\" class=\"dataframe\">\n",
       "  <thead>\n",
       "    <tr style=\"text-align: right;\">\n",
       "      <th></th>\n",
       "      <th>id</th>\n",
       "      <th>premise</th>\n",
       "      <th>hypothesis</th>\n",
       "      <th>lang_abv</th>\n",
       "      <th>language</th>\n",
       "    </tr>\n",
       "  </thead>\n",
       "  <tbody>\n",
       "    <tr>\n",
       "      <th>count</th>\n",
       "      <td>5195</td>\n",
       "      <td>5195</td>\n",
       "      <td>5195</td>\n",
       "      <td>5195</td>\n",
       "      <td>5195</td>\n",
       "    </tr>\n",
       "    <tr>\n",
       "      <th>unique</th>\n",
       "      <td>5195</td>\n",
       "      <td>4336</td>\n",
       "      <td>5195</td>\n",
       "      <td>15</td>\n",
       "      <td>15</td>\n",
       "    </tr>\n",
       "    <tr>\n",
       "      <th>top</th>\n",
       "      <td>c6d58c3f69</td>\n",
       "      <td>The movie isn't clear on where the secret repo...</td>\n",
       "      <td>کیسی کے لئے کوئی یادگار نہیں ہوگا, کولمین ہائی...</td>\n",
       "      <td>en</td>\n",
       "      <td>English</td>\n",
       "    </tr>\n",
       "    <tr>\n",
       "      <th>freq</th>\n",
       "      <td>1</td>\n",
       "      <td>3</td>\n",
       "      <td>1</td>\n",
       "      <td>2945</td>\n",
       "      <td>2945</td>\n",
       "    </tr>\n",
       "  </tbody>\n",
       "</table>\n",
       "</div>"
      ],
      "text/plain": [
       "                id                                            premise  \\\n",
       "count         5195                                               5195   \n",
       "unique        5195                                               4336   \n",
       "top     c6d58c3f69  The movie isn't clear on where the secret repo...   \n",
       "freq             1                                                  3   \n",
       "\n",
       "                                               hypothesis lang_abv language  \n",
       "count                                                5195     5195     5195  \n",
       "unique                                               5195       15       15  \n",
       "top     کیسی کے لئے کوئی یادگار نہیں ہوگا, کولمین ہائی...       en  English  \n",
       "freq                                                    1     2945     2945  "
      ]
     },
     "execution_count": 20,
     "metadata": {},
     "output_type": "execute_result"
    }
   ],
   "source": [
    "test.describe(include='all')"
   ]
  },
  {
   "cell_type": "code",
   "execution_count": 21,
   "id": "d7a487ee",
   "metadata": {
    "execution": {
     "iopub.execute_input": "2022-03-15T13:30:26.008836Z",
     "iopub.status.busy": "2022-03-15T13:30:26.008219Z",
     "iopub.status.idle": "2022-03-15T13:30:26.295643Z",
     "shell.execute_reply": "2022-03-15T13:30:26.296166Z",
     "shell.execute_reply.started": "2022-03-15T11:22:37.006374Z"
    },
    "papermill": {
     "duration": 0.348283,
     "end_time": "2022-03-15T13:30:26.296348",
     "exception": false,
     "start_time": "2022-03-15T13:30:25.948065",
     "status": "completed"
    },
    "tags": []
   },
   "outputs": [
    {
     "data": {
      "image/png": "[encoded data removed]",
      "text/plain": [
       "<Figure size 720x720 with 1 Axes>"
      ]
     },
     "metadata": {},
     "output_type": "display_data"
    }
   ],
   "source": [
    "labels, frequencies = np.unique(train.language.values, return_counts = True)\n",
    "\n",
    "plt.figure(figsize = (10,10))\n",
    "plt.pie(frequencies,labels = labels, autopct = '%1.1f%%')\n",
    "plt.show()"
   ]
  },
  {
   "cell_type": "code",
   "execution_count": 22,
   "id": "6d811cd0",
   "metadata": {
    "execution": {
     "iopub.execute_input": "2022-03-15T13:30:26.423146Z",
     "iopub.status.busy": "2022-03-15T13:30:26.422460Z",
     "iopub.status.idle": "2022-03-15T13:30:27.590233Z",
     "shell.execute_reply": "2022-03-15T13:30:27.589569Z",
     "shell.execute_reply.started": "2022-03-15T11:22:37.435903Z"
    },
    "papermill": {
     "duration": 1.234158,
     "end_time": "2022-03-15T13:30:27.590380",
     "exception": false,
     "start_time": "2022-03-15T13:30:26.356222",
     "status": "completed"
    },
    "tags": []
   },
   "outputs": [
    {
     "name": "stderr",
     "output_type": "stream",
     "text": [
      "/opt/conda/lib/python3.7/site-packages/seaborn/_decorators.py:43: FutureWarning: Pass the following variable as a keyword arg: x. From version 0.12, the only valid positional argument will be `data`, and passing other arguments without an explicit keyword will result in an error or misinterpretation.\n",
      "  FutureWarning\n"
     ]
    },
    {
     "data": {
      "image/png": "[encoded data removed]",
      "text/plain": [
       "<Figure size 864x360 with 1 Axes>"
      ]
     },
     "metadata": {
      "needs_background": "light"
     },
     "output_type": "display_data"
    }
   ],
   "source": [
    "import seaborn as sns\n",
    "#explore the distribution of classes and languages\n",
    "fig, ax = plt.subplots(figsize = (12,5))\n",
    "\n",
    "#for maximum aesthetics\n",
    "palette = sns.cubehelix_palette(8, start=2, rot=0, dark=0, light=.95, reverse=True)\n",
    "\n",
    "graph1 = sns.countplot(train['language'], hue = train['label'])#, palette = palette)\n",
    "\n",
    "#set title\n",
    "graph1.set_title('Distribution of Languages and Labels')\n",
    "\n",
    "plt.tight_layout()\n",
    "plt.show()"
   ]
  },
  {
   "cell_type": "markdown",
   "id": "174eedb6",
   "metadata": {
    "papermill": {
     "duration": 0.060927,
     "end_time": "2022-03-15T13:30:27.712336",
     "exception": false,
     "start_time": "2022-03-15T13:30:27.651409",
     "status": "completed"
    },
    "tags": []
   },
   "source": [
    "# **Preparing Data for Input**"
   ]
  },
  {
   "cell_type": "code",
   "execution_count": 23,
   "id": "a8d5a5f6",
   "metadata": {
    "execution": {
     "iopub.execute_input": "2022-03-15T13:30:27.840935Z",
     "iopub.status.busy": "2022-03-15T13:30:27.840162Z",
     "iopub.status.idle": "2022-03-15T13:30:33.454869Z",
     "shell.execute_reply": "2022-03-15T13:30:33.455419Z",
     "shell.execute_reply.started": "2022-03-15T11:22:38.818450Z"
    },
    "papermill": {
     "duration": 5.682648,
     "end_time": "2022-03-15T13:30:33.455598",
     "exception": false,
     "start_time": "2022-03-15T13:30:27.772950",
     "status": "completed"
    },
    "tags": []
   },
   "outputs": [
    {
     "data": {
      "application/vnd.jupyter.widget-view+json": {
       "model_id": "73521b20adef4117b42d43f3e10d0654",
       "version_major": 2,
       "version_minor": 0
      },
      "text/plain": [
       "Downloading:   0%|          | 0.00/734 [00:00<?, ?B/s]"
      ]
     },
     "metadata": {},
     "output_type": "display_data"
    },
    {
     "data": {
      "application/vnd.jupyter.widget-view+json": {
       "model_id": "a5990624349c49ef95f07a6d4a970183",
       "version_major": 2,
       "version_minor": 0
      },
      "text/plain": [
       "Downloading:   0%|          | 0.00/5.07M [00:00<?, ?B/s]"
      ]
     },
     "metadata": {},
     "output_type": "display_data"
    },
    {
     "data": {
      "application/vnd.jupyter.widget-view+json": {
       "model_id": "9128facce5564282b0d651e5ea9dca27",
       "version_major": 2,
       "version_minor": 0
      },
      "text/plain": [
       "Downloading:   0%|          | 0.00/150 [00:00<?, ?B/s]"
      ]
     },
     "metadata": {},
     "output_type": "display_data"
    },
    {
     "data": {
      "application/vnd.jupyter.widget-view+json": {
       "model_id": "e40c7c91cd3b4de89f0b2bc31b87d0f6",
       "version_major": 2,
       "version_minor": 0
      },
      "text/plain": [
       "Downloading:   0%|          | 0.00/25.0 [00:00<?, ?B/s]"
      ]
     },
     "metadata": {},
     "output_type": "display_data"
    }
   ],
   "source": [
    "from transformers import BertTokenizer, TFBertModel, TFAutoModel,AutoTokenizer\n",
    "\n",
    "#model_name = \"bert-base-multilingual-cased\"\n",
    "#tokenizer = BertTokenizer.from_pretrained(model_name) # FC: this is the tokenizer we will use on our text data to tokenize it\n",
    "\n",
    "model_name = \"joeddav/xlm-roberta-large-xnli\"\n",
    "tokenizer = AutoTokenizer.from_pretrained(model_name)"
   ]
  },
  {
   "cell_type": "code",
   "execution_count": 24,
   "id": "a2d5bdea",
   "metadata": {
    "execution": {
     "iopub.execute_input": "2022-03-15T13:30:33.585141Z",
     "iopub.status.busy": "2022-03-15T13:30:33.584491Z",
     "iopub.status.idle": "2022-03-15T13:30:33.591807Z",
     "shell.execute_reply": "2022-03-15T13:30:33.592423Z",
     "shell.execute_reply.started": "2022-03-15T11:22:44.694906Z"
    },
    "papermill": {
     "duration": 0.073163,
     "end_time": "2022-03-15T13:30:33.592594",
     "exception": false,
     "start_time": "2022-03-15T13:30:33.519431",
     "status": "completed"
    },
    "tags": []
   },
   "outputs": [
    {
     "data": {
      "text/plain": [
       "['▁I', '▁love', '▁machine', '▁learning']"
      ]
     },
     "execution_count": 24,
     "metadata": {},
     "output_type": "execute_result"
    }
   ],
   "source": [
    "list(tokenizer.tokenize(\"I love machine learning\")) # FC: tokenize only create a list of words"
   ]
  },
  {
   "cell_type": "code",
   "execution_count": 25,
   "id": "414be2a6",
   "metadata": {
    "execution": {
     "iopub.execute_input": "2022-03-15T13:30:33.721715Z",
     "iopub.status.busy": "2022-03-15T13:30:33.721068Z",
     "iopub.status.idle": "2022-03-15T13:30:33.726135Z",
     "shell.execute_reply": "2022-03-15T13:30:33.725574Z",
     "shell.execute_reply.started": "2022-03-15T11:22:44.704722Z"
    },
    "papermill": {
     "duration": 0.070366,
     "end_time": "2022-03-15T13:30:33.726276",
     "exception": false,
     "start_time": "2022-03-15T13:30:33.655910",
     "status": "completed"
    },
    "tags": []
   },
   "outputs": [],
   "source": [
    "# FC we make a function in order to have a list of the id for each word and the separator \n",
    "def encode_sentence(s):\n",
    "   tokens = list(tokenizer.tokenize(s)) # FC: split the sentence into tokens that are either words or sub-words\n",
    "   tokens.append('[SEP]') # FC: a token called [SEP] (=separator) is added to mark end of each sentence\n",
    "   return tokenizer.convert_tokens_to_ids(tokens) # FC: instead of returning the list of tokens, a list of each token ID is returned"
   ]
  },
  {
   "cell_type": "code",
   "execution_count": 26,
   "id": "24543351",
   "metadata": {
    "execution": {
     "iopub.execute_input": "2022-03-15T13:30:33.855419Z",
     "iopub.status.busy": "2022-03-15T13:30:33.854796Z",
     "iopub.status.idle": "2022-03-15T13:30:33.860067Z",
     "shell.execute_reply": "2022-03-15T13:30:33.860606Z",
     "shell.execute_reply.started": "2022-03-15T11:22:44.926862Z"
    },
    "papermill": {
     "duration": 0.071229,
     "end_time": "2022-03-15T13:30:33.860773",
     "exception": false,
     "start_time": "2022-03-15T13:30:33.789544",
     "status": "completed"
    },
    "tags": []
   },
   "outputs": [
    {
     "data": {
      "text/plain": [
       "[87, 5161, 36279, 52080, 3]"
      ]
     },
     "execution_count": 26,
     "metadata": {},
     "output_type": "execute_result"
    }
   ],
   "source": [
    "encode_sentence(\"I love machine learning\") # FC: the output is a number for each word plus the ID for the [SEP] token"
   ]
  },
  {
   "cell_type": "code",
   "execution_count": 27,
   "id": "792d8fd1",
   "metadata": {
    "execution": {
     "iopub.execute_input": "2022-03-15T13:30:33.990137Z",
     "iopub.status.busy": "2022-03-15T13:30:33.989445Z",
     "iopub.status.idle": "2022-03-15T13:30:33.998204Z",
     "shell.execute_reply": "2022-03-15T13:30:33.998752Z",
     "shell.execute_reply.started": "2022-03-15T11:22:44.939583Z"
    },
    "papermill": {
     "duration": 0.074494,
     "end_time": "2022-03-15T13:30:33.998924",
     "exception": false,
     "start_time": "2022-03-15T13:30:33.924430",
     "status": "completed"
    },
    "tags": []
   },
   "outputs": [],
   "source": [
    "def bert_encode(hypotheses, premises, tokenizer): # FC: for RoBERTa we remove the input_type_ids from the inputs of the model\n",
    "    \n",
    "  num_examples = len(hypotheses)\n",
    "  \n",
    "  sentence1 = tf.ragged.constant([   # FC: constructs a constant ragged tensor. every entry has a different length\n",
    "      encode_sentence(s) for s in np.array(hypotheses)])\n",
    "  \n",
    "  sentence2 = tf.ragged.constant([\n",
    "      encode_sentence(s) for s in np.array(premises)])\n",
    "  \n",
    "  cls = [tokenizer.convert_tokens_to_ids(['[CLS]'])]*sentence1.shape[0] # FC: list of IDs for the token '[CLS]' to denote each beginning\n",
    "  \n",
    "  input_word_ids = tf.concat([cls, sentence1, sentence2], axis=-1) # FC: put everything together. every row still has a different length.\n",
    "  \n",
    "  #input_word_ids2 = tf.concat([cls, sentence2, sentence1], axis=-1)\n",
    "  \n",
    "  #input_word_ids = tf.concat([input_word_ids1, input_word_ids2], axis=0) # we duplicate the dataset inverting sentence 1 and 2\n",
    "    \n",
    "  input_mask = tf.ones_like(input_word_ids).to_tensor() # FC: first, a tensor with just ones in it is constructed in the same size as input_word_ids. Then, by applying to_tensor the ends of each row are padded with zeros to give every row the same length\n",
    "\n",
    "  # type is not need for the RoBERTa model it will not be include in the output of this function\n",
    "  type_cls = tf.zeros_like(cls) # FC: creates a tensor same shape as cls with only zeros in it\n",
    "  \n",
    "  type_s1 = tf.zeros_like(sentence1)\n",
    "  \n",
    "  type_s2 = tf.ones_like(sentence2) # FC: creates a tensor same shape as sentence2 with only ones in it to mark the 2nd sentence\n",
    "  \n",
    "  input_type_ids = tf.concat(\n",
    "      [type_cls, type_s1, type_s2], axis=-1).to_tensor() # FC: concatenates everything and again adds padding \n",
    "  \n",
    "  inputs = {\n",
    "      'input_word_ids': input_word_ids.to_tensor(), # FC: input_word_ids hasn't been padded yet - do it here now\n",
    "      'input_mask': input_mask\n",
    "      \n",
    "      #,'input_type_ids': input_type_ids\n",
    "  }\n",
    "\n",
    "  return inputs"
   ]
  },
  {
   "cell_type": "code",
   "execution_count": 28,
   "id": "7878990c",
   "metadata": {
    "execution": {
     "iopub.execute_input": "2022-03-15T13:30:34.130396Z",
     "iopub.status.busy": "2022-03-15T13:30:34.129753Z",
     "iopub.status.idle": "2022-03-15T13:30:42.216173Z",
     "shell.execute_reply": "2022-03-15T13:30:42.216694Z",
     "shell.execute_reply.started": "2022-03-15T11:22:44.950980Z"
    },
    "papermill": {
     "duration": 8.153446,
     "end_time": "2022-03-15T13:30:42.216873",
     "exception": false,
     "start_time": "2022-03-15T13:30:34.063427",
     "status": "completed"
    },
    "tags": []
   },
   "outputs": [
    {
     "name": "stderr",
     "output_type": "stream",
     "text": [
      "2022-03-15 13:30:39.029958: I tensorflow/compiler/jit/xla_cpu_device.cc:41] Not creating XLA devices, tf_xla_enable_xla_devices not set\n",
      "2022-03-15 13:30:39.034305: W tensorflow/stream_executor/platform/default/dso_loader.cc:60] Could not load dynamic library 'libcuda.so.1'; dlerror: libcuda.so.1: cannot open shared object file: No such file or directory; LD_LIBRARY_PATH: /opt/conda/lib\n",
      "2022-03-15 13:30:39.034360: W tensorflow/stream_executor/cuda/cuda_driver.cc:326] failed call to cuInit: UNKNOWN ERROR (303)\n",
      "2022-03-15 13:30:39.034403: I tensorflow/stream_executor/cuda/cuda_diagnostics.cc:156] kernel driver does not appear to be running on this host (98545693cfd0): /proc/driver/nvidia/version does not exist\n",
      "2022-03-15 13:30:39.037126: I tensorflow/core/platform/cpu_feature_guard.cc:142] This TensorFlow binary is optimized with oneAPI Deep Neural Network Library (oneDNN) to use the following CPU instructions in performance-critical operations:  AVX2 FMA\n",
      "To enable them in other operations, rebuild TensorFlow with the appropriate compiler flags.\n",
      "2022-03-15 13:30:39.038929: I tensorflow/compiler/jit/xla_gpu_device.cc:99] Not creating XLA devices, tf_xla_enable_xla_devices not set\n"
     ]
    }
   ],
   "source": [
    "train_input = bert_encode(train.premise.values, train.hypothesis.values, tokenizer)"
   ]
  },
  {
   "cell_type": "code",
   "execution_count": 29,
   "id": "fa1afec3",
   "metadata": {
    "execution": {
     "iopub.execute_input": "2022-03-15T13:30:42.347926Z",
     "iopub.status.busy": "2022-03-15T13:30:42.347309Z",
     "iopub.status.idle": "2022-03-15T13:30:42.354695Z",
     "shell.execute_reply": "2022-03-15T13:30:42.355181Z",
     "shell.execute_reply.started": "2022-03-15T11:22:53.360573Z"
    },
    "papermill": {
     "duration": 0.074586,
     "end_time": "2022-03-15T13:30:42.355374",
     "exception": false,
     "start_time": "2022-03-15T13:30:42.280788",
     "status": "completed"
    },
    "tags": []
   },
   "outputs": [
    {
     "data": {
      "text/plain": [
       "{'input_word_ids': <tf.Tensor: shape=(12120, 245), dtype=int32, numpy=\n",
       " array([[    3,   136,  6097, ...,     0,     0,     0],\n",
       "        [    3, 32255,   621, ...,     0,     0,     0],\n",
       "        [    3,  5581, 69332, ...,     0,     0,     0],\n",
       "        ...,\n",
       "        [    3,   581,  5526, ...,     0,     0,     0],\n",
       "        [    3,  1913,    70, ...,     0,     0,     0],\n",
       "        [    3,  1326, 66570, ...,     0,     0,     0]], dtype=int32)>,\n",
       " 'input_mask': <tf.Tensor: shape=(12120, 245), dtype=int32, numpy=\n",
       " array([[1, 1, 1, ..., 0, 0, 0],\n",
       "        [1, 1, 1, ..., 0, 0, 0],\n",
       "        [1, 1, 1, ..., 0, 0, 0],\n",
       "        ...,\n",
       "        [1, 1, 1, ..., 0, 0, 0],\n",
       "        [1, 1, 1, ..., 0, 0, 0],\n",
       "        [1, 1, 1, ..., 0, 0, 0]], dtype=int32)>}"
      ]
     },
     "execution_count": 29,
     "metadata": {},
     "output_type": "execute_result"
    }
   ],
   "source": [
    "train_input"
   ]
  },
  {
   "cell_type": "code",
   "execution_count": 30,
   "id": "ebfb892b",
   "metadata": {
    "execution": {
     "iopub.execute_input": "2022-03-15T13:30:42.487678Z",
     "iopub.status.busy": "2022-03-15T13:30:42.485591Z",
     "iopub.status.idle": "2022-03-15T13:35:09.513185Z",
     "shell.execute_reply": "2022-03-15T13:35:09.512221Z",
     "shell.execute_reply.started": "2022-03-15T11:22:53.504801Z"
    },
    "papermill": {
     "duration": 267.094708,
     "end_time": "2022-03-15T13:35:09.513415",
     "exception": false,
     "start_time": "2022-03-15T13:30:42.418707",
     "status": "completed"
    },
    "tags": []
   },
   "outputs": [],
   "source": [
    "total_train_input = bert_encode(total_train.premise.values, total_train.hypothesis.values, tokenizer)"
   ]
  },
  {
   "cell_type": "code",
   "execution_count": 31,
   "id": "aadaf38d",
   "metadata": {
    "execution": {
     "iopub.execute_input": "2022-03-15T13:35:09.658834Z",
     "iopub.status.busy": "2022-03-15T13:35:09.657880Z",
     "iopub.status.idle": "2022-03-15T13:35:09.660938Z",
     "shell.execute_reply": "2022-03-15T13:35:09.661470Z",
     "shell.execute_reply.started": "2022-03-15T11:27:19.534502Z"
    },
    "papermill": {
     "duration": 0.077635,
     "end_time": "2022-03-15T13:35:09.661707",
     "exception": false,
     "start_time": "2022-03-15T13:35:09.584072",
     "status": "completed"
    },
    "tags": []
   },
   "outputs": [
    {
     "data": {
      "text/plain": [
       "(12120,)"
      ]
     },
     "execution_count": 31,
     "metadata": {},
     "output_type": "execute_result"
    }
   ],
   "source": [
    "train.label.values.shape"
   ]
  },
  {
   "cell_type": "code",
   "execution_count": 32,
   "id": "74fa7765",
   "metadata": {
    "execution": {
     "iopub.execute_input": "2022-03-15T13:35:09.808200Z",
     "iopub.status.busy": "2022-03-15T13:35:09.807573Z",
     "iopub.status.idle": "2022-03-15T13:35:09.812942Z",
     "shell.execute_reply": "2022-03-15T13:35:09.813682Z",
     "shell.execute_reply.started": "2022-03-15T11:27:19.542064Z"
    },
    "papermill": {
     "duration": 0.07907,
     "end_time": "2022-03-15T13:35:09.813891",
     "exception": false,
     "start_time": "2022-03-15T13:35:09.734821",
     "status": "completed"
    },
    "tags": []
   },
   "outputs": [
    {
     "data": {
      "text/plain": [
       "(424469,)"
      ]
     },
     "execution_count": 32,
     "metadata": {},
     "output_type": "execute_result"
    }
   ],
   "source": [
    "total_train.label.values.shape"
   ]
  },
  {
   "cell_type": "code",
   "execution_count": 33,
   "id": "7edc5704",
   "metadata": {
    "execution": {
     "iopub.execute_input": "2022-03-15T13:35:09.956962Z",
     "iopub.status.busy": "2022-03-15T13:35:09.956343Z",
     "iopub.status.idle": "2022-03-15T13:35:09.970500Z",
     "shell.execute_reply": "2022-03-15T13:35:09.971222Z",
     "shell.execute_reply.started": "2022-03-15T11:27:19.557725Z"
    },
    "papermill": {
     "duration": 0.086895,
     "end_time": "2022-03-15T13:35:09.971420",
     "exception": false,
     "start_time": "2022-03-15T13:35:09.884525",
     "status": "completed"
    },
    "tags": []
   },
   "outputs": [
    {
     "name": "stdout",
     "output_type": "stream",
     "text": [
      "[32 37 37 ... 29 28 30]\n"
     ]
    }
   ],
   "source": [
    "print(np.count_nonzero(train_input['input_word_ids'], axis=1))"
   ]
  },
  {
   "cell_type": "code",
   "execution_count": 34,
   "id": "123fb33f",
   "metadata": {
    "execution": {
     "iopub.execute_input": "2022-03-15T13:35:10.114915Z",
     "iopub.status.busy": "2022-03-15T13:35:10.114029Z",
     "iopub.status.idle": "2022-03-15T13:35:10.451916Z",
     "shell.execute_reply": "2022-03-15T13:35:10.451368Z",
     "shell.execute_reply.started": "2022-03-15T11:27:19.591471Z"
    },
    "papermill": {
     "duration": 0.410661,
     "end_time": "2022-03-15T13:35:10.452079",
     "exception": false,
     "start_time": "2022-03-15T13:35:10.041418",
     "status": "completed"
    },
    "tags": []
   },
   "outputs": [
    {
     "data": {
      "image/png": "[encoded data removed]",
      "text/plain": [
       "<Figure size 432x288 with 1 Axes>"
      ]
     },
     "metadata": {
      "needs_background": "light"
     },
     "output_type": "display_data"
    }
   ],
   "source": [
    "import numpy as np\n",
    "import matplotlib.pyplot as plt\n",
    "\n",
    "# Fixing random state for reproducibility\n",
    "np.random.seed(19680801)\n",
    "\n",
    "\n",
    "x = np.count_nonzero(train_input['input_word_ids'], axis=1)\n",
    "\n",
    "# the histogram of the data\n",
    "n, bins, patches = plt.hist(x, 50, density=True, facecolor='b', alpha=0.75)\n",
    "\n",
    "\n",
    "plt.xlabel('input word lenght')\n",
    "plt.ylabel('Probability')\n",
    "plt.title('Distribution of word length on the train set')\n",
    "plt.text(60, .021, r'max_length=245')\n",
    "plt.xlim(0, 250)\n",
    "#plt.ylim(0, 0.03)\n",
    "plt.grid(True)\n",
    "plt.show()"
   ]
  },
  {
   "cell_type": "code",
   "execution_count": 35,
   "id": "124b7d7a",
   "metadata": {
    "execution": {
     "iopub.execute_input": "2022-03-15T13:35:10.602133Z",
     "iopub.status.busy": "2022-03-15T13:35:10.601470Z",
     "iopub.status.idle": "2022-03-15T13:35:14.381868Z",
     "shell.execute_reply": "2022-03-15T13:35:14.381218Z",
     "shell.execute_reply.started": "2022-03-15T11:27:19.906801Z"
    },
    "papermill": {
     "duration": 3.859153,
     "end_time": "2022-03-15T13:35:14.382053",
     "exception": false,
     "start_time": "2022-03-15T13:35:10.522900",
     "status": "completed"
    },
    "tags": []
   },
   "outputs": [],
   "source": [
    "test_input = bert_encode(test.premise.values, test.hypothesis.values, tokenizer)"
   ]
  },
  {
   "cell_type": "code",
   "execution_count": 36,
   "id": "8e546c10",
   "metadata": {
    "execution": {
     "iopub.execute_input": "2022-03-15T13:35:14.534478Z",
     "iopub.status.busy": "2022-03-15T13:35:14.533470Z",
     "iopub.status.idle": "2022-03-15T13:35:14.866738Z",
     "shell.execute_reply": "2022-03-15T13:35:14.867362Z",
     "shell.execute_reply.started": "2022-03-15T11:27:23.335465Z"
    },
    "papermill": {
     "duration": 0.411915,
     "end_time": "2022-03-15T13:35:14.867548",
     "exception": false,
     "start_time": "2022-03-15T13:35:14.455633",
     "status": "completed"
    },
    "tags": []
   },
   "outputs": [
    {
     "data": {
      "image/png": "[encoded data removed]",
      "text/plain": [
       "<Figure size 432x288 with 1 Axes>"
      ]
     },
     "metadata": {
      "needs_background": "light"
     },
     "output_type": "display_data"
    }
   ],
   "source": [
    "import numpy as np\n",
    "import matplotlib.pyplot as plt\n",
    "\n",
    "# Fixing random state for reproducibility\n",
    "np.random.seed(19680801)\n",
    "\n",
    "\n",
    "x = np.count_nonzero(test_input['input_word_ids'], axis=1)\n",
    "\n",
    "# the histogram of the data\n",
    "n, bins, patches = plt.hist(x, 50, density=True, facecolor='b', alpha=0.75)\n",
    "\n",
    "\n",
    "plt.xlabel('input word lenght')\n",
    "plt.ylabel('Probability')\n",
    "plt.title('Distribution of word length on the test set')\n",
    "plt.text(60, .021, r'max_length=236')\n",
    "plt.xlim(0, 250)\n",
    "#plt.ylim(0, 0.03)\n",
    "plt.grid(True)\n",
    "plt.show()"
   ]
  },
  {
   "cell_type": "markdown",
   "id": "8cfa7515",
   "metadata": {
    "papermill": {
     "duration": 0.071076,
     "end_time": "2022-03-15T13:35:15.011674",
     "exception": false,
     "start_time": "2022-03-15T13:35:14.940598",
     "status": "completed"
    },
    "tags": []
   },
   "source": [
    "# Creating & Training Model"
   ]
  },
  {
   "cell_type": "code",
   "execution_count": 37,
   "id": "73c969c5",
   "metadata": {
    "execution": {
     "iopub.execute_input": "2022-03-15T13:35:15.167490Z",
     "iopub.status.busy": "2022-03-15T13:35:15.163401Z",
     "iopub.status.idle": "2022-03-15T13:35:15.170676Z",
     "shell.execute_reply": "2022-03-15T13:35:15.170112Z",
     "shell.execute_reply.started": "2022-03-15T11:27:23.647542Z"
    },
    "papermill": {
     "duration": 0.086955,
     "end_time": "2022-03-15T13:35:15.170839",
     "exception": false,
     "start_time": "2022-03-15T13:35:15.083884",
     "status": "completed"
    },
    "tags": []
   },
   "outputs": [],
   "source": [
    "max_len = 236 #: FC 50 in the initial tutorial\n",
    "\n",
    "def build_model():\n",
    "    #encoder = TFBertModel.from_pretrained(model_name) \n",
    "    # FC: constructs a RoBERTa model pre-trained on the above described language model 'xlm-roberta-large-xnli'\n",
    "    encoder = TFAutoModel.from_pretrained('joeddav/xlm-roberta-large-xnli')\n",
    "    # FC: now we adjust the model so that it can accept our input by telling the model what the input looks like:\n",
    "    input_word_ids = tf.keras.Input(shape=(max_len,), dtype=tf.int32, name=\"input_word_ids\") # FC: tf.keras.Input constructs a symbolic tensor object whith certain attributes: \"shape\" tells it that the expected input will be in batches of max_len-dimensional vectors; \"dtype\" tells it that the data type will be int32; \"name\" will be the name string for the input layer\n",
    "    input_mask = tf.keras.Input(shape=(max_len,), dtype=tf.int32, name=\"input_mask\") # FC: repeat the same for the other two input variables\n",
    "    # FC: the input type is only needed for the BERT model\n",
    "    #input_type_ids = tf.keras.Input(shape=(max_len,), dtype=tf.int32, name=\"input_type_ids\")\n",
    "    \n",
    "    # FC: now follows, what we want to happen with our input:\n",
    "    # FC: first, our input goes into the BERT model bert_encoder. It will return a tuple and the contextualized embeddings that we need are stored in the first element of that tuple\n",
    "    embedding = encoder([input_word_ids, input_mask])[0] # FC: add_input_type_ids for the BERT model\n",
    "    # FC: we only need the output corresponding to the first token [CLS], which is a 2D-tensor with size (#sentence pairs, 768) and is accessd with embedding[:,0,:]. This will be input for our classifier, which is a regular densely-connected neural network constructed through tf.keras.layers.Dense. The inputs mean: \"3\" is the dimensionality of the output space, which means that the output has shape (#sentence pairs,3). More practically speaking, for each sentence pair that we input, the output will have 3 probability values for each of the 3 possible labels (entailment, neutral, contradiction). They will be in range(0,1) and add up to 1; \"activation\" denotes the activation function, in this case 'softmax', which connects a real vector to a vector of categorical possibilities.\n",
    "    \n",
    "    # I tried to put another layer put it doesn't help in performance\n",
    "    #output = tf.keras.layers.Dense(10, activation='softmax')(embedding[:,0,:]) #FC: no need of a GlobalAveragePooling for BERT\n",
    "    \n",
    "    output = tf.keras.layers.Dense(3, activation='softmax')(embedding[:,0,:])\n",
    "    # FC: we also have the posibility of making a globalAveragepooling of all the embeddings, but the resuls are not better \n",
    "    #output = tf.keras.layers.GlobalAveragePooling1D()(embedding) \n",
    "    #output = tf.keras.layers.Dense(3, activation='softmax')(output) \n",
    "    \n",
    "       \n",
    "    model = tf.keras.Model(inputs=[input_word_ids, input_mask], outputs=output) # FC: based on the code in the lines above, a model is now constructed and passed into the variable model\n",
    "    model.compile(tf.keras.optimizers.Adam(lr=1e-5), loss='sparse_categorical_crossentropy', metrics=['accuracy']) # FC: we tell the model how we want it to train and evaluate: \"tf.keras.optimizers.Adam\": use an optimizer that implements the Adam algorithm. \"lr\" denotes the learning rate; \"loss\" denotes the loss function to use; \"metrics\" specifies which kind of metrics to use for training and testing\n",
    "    \n",
    "    return model "
   ]
  },
  {
   "cell_type": "code",
   "execution_count": 38,
   "id": "500b7007",
   "metadata": {
    "execution": {
     "iopub.execute_input": "2022-03-15T13:35:15.353387Z",
     "iopub.status.busy": "2022-03-15T13:35:15.352573Z",
     "iopub.status.idle": "2022-03-15T13:35:20.936076Z",
     "shell.execute_reply": "2022-03-15T13:35:20.936662Z",
     "shell.execute_reply.started": "2022-03-15T11:27:23.659287Z"
    },
    "papermill": {
     "duration": 5.679958,
     "end_time": "2022-03-15T13:35:20.936872",
     "exception": false,
     "start_time": "2022-03-15T13:35:15.256914",
     "status": "completed"
    },
    "tags": []
   },
   "outputs": [
    {
     "name": "stderr",
     "output_type": "stream",
     "text": [
      "2022-03-15 13:35:15.376246: I tensorflow/core/distributed_runtime/rpc/grpc_channel.cc:301] Initialize GrpcChannelCache for job worker -> {0 -> 10.0.0.2:8470}\n",
      "2022-03-15 13:35:15.376381: I tensorflow/core/distributed_runtime/rpc/grpc_channel.cc:301] Initialize GrpcChannelCache for job localhost -> {0 -> localhost:30020}\n",
      "2022-03-15 13:35:15.396364: I tensorflow/core/distributed_runtime/rpc/grpc_channel.cc:301] Initialize GrpcChannelCache for job worker -> {0 -> 10.0.0.2:8470}\n",
      "2022-03-15 13:35:15.396422: I tensorflow/core/distributed_runtime/rpc/grpc_channel.cc:301] Initialize GrpcChannelCache for job localhost -> {0 -> localhost:30020}\n",
      "2022-03-15 13:35:15.397174: I tensorflow/core/distributed_runtime/rpc/grpc_server_lib.cc:411] Started server with target: grpc://localhost:30020\n"
     ]
    }
   ],
   "source": [
    "try:\n",
    "    # detect and init the TPU\n",
    "    tpu = tf.distribute.cluster_resolver.TPUClusterResolver() # FC: detect and init the TPU: TPUClusterResolver() locates the TPUs on the network\n",
    "    # instantiate a distribution strategy\n",
    "    tf.config.experimental_connect_to_cluster(tpu)\n",
    "    tf.tpu.experimental.initialize_tpu_system(tpu)\n",
    "    \n",
    "    strategy = tf.distribute.experimental.TPUStrategy(tpu) # FC: \"strategy\" contains the necessary distributed training code that will work on the TPUs\n",
    "except ValueError: # FC: in case Accelerator is not set to TPU in the Notebook Settings\n",
    "    strategy = tf.distribute.get_strategy() # for CPU and single GPU\n",
    "    print('Number of replicas:', strategy.num_replicas_in_sync) # FC: returns the number of cores"
   ]
  },
  {
   "cell_type": "code",
   "execution_count": 39,
   "id": "c156f5ba",
   "metadata": {
    "execution": {
     "iopub.execute_input": "2022-03-15T13:35:21.084350Z",
     "iopub.status.busy": "2022-03-15T13:35:21.082309Z",
     "iopub.status.idle": "2022-03-15T13:35:28.777866Z",
     "shell.execute_reply": "2022-03-15T13:35:28.777170Z",
     "shell.execute_reply.started": "2022-03-15T11:27:29.333237Z"
    },
    "papermill": {
     "duration": 7.773819,
     "end_time": "2022-03-15T13:35:28.778037",
     "exception": false,
     "start_time": "2022-03-15T13:35:21.004218",
     "status": "completed"
    },
    "tags": []
   },
   "outputs": [
    {
     "name": "stdout",
     "output_type": "stream",
     "text": [
      "Running on TPU  ['10.0.0.2:8470']\n",
      "Number of accelerators:  8\n"
     ]
    }
   ],
   "source": [
    "try:\n",
    "  tpu = tf.distribute.cluster_resolver.TPUClusterResolver() # TPU detection\n",
    "except ValueError:\n",
    "  tpu = None\n",
    "  gpus = tf.config.experimental.list_logical_devices(\"GPU\")\n",
    "\n",
    "if tpu:\n",
    "  tf.tpu.experimental.initialize_tpu_system(tpu)\n",
    "  strategy = tf.distribute.experimental.TPUStrategy(tpu,) # Going back and forth between TPU and host is expensive. Better to run 128 batches on the TPU before reporting back.\n",
    "  print('Running on TPU ', tpu.cluster_spec().as_dict()['worker'])\n",
    "elif len(gpus) > 1:\n",
    "  strategy = tf.distribute.MirroredStrategy([gpu.name for gpu in gpus])\n",
    "  print('Running on multiple GPUs ', [gpu.name for gpu in gpus])\n",
    "elif len(gpus) == 1:\n",
    "  strategy = tf.distribute.get_strategy() # default strategy that works on CPU and single GPU\n",
    "  print('Running on single GPU ', gpus[0].name)\n",
    "else:\n",
    "  strategy = tf.distribute.get_strategy() # default strategy that works on CPU and single GPU\n",
    "  print('Running on CPU')\n",
    "print(\"Number of accelerators: \", strategy.num_replicas_in_sync)"
   ]
  },
  {
   "cell_type": "code",
   "execution_count": 40,
   "id": "45ee1679",
   "metadata": {
    "execution": {
     "iopub.execute_input": "2022-03-15T13:35:28.931682Z",
     "iopub.status.busy": "2022-03-15T13:35:28.931021Z",
     "iopub.status.idle": "2022-03-15T13:37:25.360835Z",
     "shell.execute_reply": "2022-03-15T13:37:25.358301Z",
     "shell.execute_reply.started": "2022-03-15T11:27:37.694811Z"
    },
    "papermill": {
     "duration": 116.507814,
     "end_time": "2022-03-15T13:37:25.361563",
     "exception": false,
     "start_time": "2022-03-15T13:35:28.853749",
     "status": "completed"
    },
    "tags": []
   },
   "outputs": [
    {
     "data": {
      "application/vnd.jupyter.widget-view+json": {
       "model_id": "bbbc9f4ad58e4d0d9123c0d33398056c",
       "version_major": 2,
       "version_minor": 0
      },
      "text/plain": [
       "Downloading:   0%|          | 0.00/2.24G [00:00<?, ?B/s]"
      ]
     },
     "metadata": {},
     "output_type": "display_data"
    },
    {
     "name": "stderr",
     "output_type": "stream",
     "text": [
      "2022-03-15 13:36:46.926547: W tensorflow/core/framework/cpu_allocator_impl.cc:80] Allocation of 1024008192 exceeds 10% of free system memory.\n",
      "2022-03-15 13:36:49.438266: W tensorflow/core/framework/cpu_allocator_impl.cc:80] Allocation of 1024008192 exceeds 10% of free system memory.\n",
      "2022-03-15 13:36:52.034533: W tensorflow/core/framework/cpu_allocator_impl.cc:80] Allocation of 1024008192 exceeds 10% of free system memory.\n",
      "2022-03-15 13:36:54.647750: W tensorflow/core/framework/cpu_allocator_impl.cc:80] Allocation of 1024008192 exceeds 10% of free system memory.\n",
      "2022-03-15 13:36:57.208880: W tensorflow/core/framework/cpu_allocator_impl.cc:80] Allocation of 1024008192 exceeds 10% of free system memory.\n",
      "Some layers from the model checkpoint at joeddav/xlm-roberta-large-xnli were not used when initializing TFXLMRobertaModel: ['classifier']\n",
      "- This IS expected if you are initializing TFXLMRobertaModel from the checkpoint of a model trained on another task or with another architecture (e.g. initializing a BertForSequenceClassification model from a BertForPreTraining model).\n",
      "- This IS NOT expected if you are initializing TFXLMRobertaModel from the checkpoint of a model that you expect to be exactly identical (initializing a BertForSequenceClassification model from a BertForSequenceClassification model).\n",
      "All the layers of TFXLMRobertaModel were initialized from the model checkpoint at joeddav/xlm-roberta-large-xnli.\n",
      "If your task is similar to the task the model of the checkpoint was trained on, you can already use TFXLMRobertaModel for predictions without further training.\n"
     ]
    },
    {
     "name": "stdout",
     "output_type": "stream",
     "text": [
      "Model: \"model\"\n",
      "__________________________________________________________________________________________________\n",
      "Layer (type)                    Output Shape         Param #     Connected to                     \n",
      "==================================================================================================\n",
      "input_word_ids (InputLayer)     [(None, 236)]        0                                            \n",
      "__________________________________________________________________________________________________\n",
      "input_mask (InputLayer)         [(None, 236)]        0                                            \n",
      "__________________________________________________________________________________________________\n",
      "tfxlm_roberta_model (TFXLMRober TFBaseModelOutputWit 559890432   input_word_ids[0][0]             \n",
      "                                                                 input_mask[0][0]                 \n",
      "__________________________________________________________________________________________________\n",
      "tf.__operators__.getitem (Slici (None, 1024)         0           tfxlm_roberta_model[0][0]        \n",
      "__________________________________________________________________________________________________\n",
      "dense (Dense)                   (None, 3)            3075        tf.__operators__.getitem[0][0]   \n",
      "==================================================================================================\n",
      "Total params: 559,893,507\n",
      "Trainable params: 559,893,507\n",
      "Non-trainable params: 0\n",
      "__________________________________________________________________________________________________\n",
      "huggingface/tokenizers: The current process just got forked, after parallelism has already been used. Disabling parallelism to avoid deadlocks...\n",
      "To disable this warning, you can either:\n",
      "\t- Avoid using `tokenizers` before the fork if possible\n",
      "\t- Explicitly set the environment variable TOKENIZERS_PARALLELISM=(true | false)\n",
      "huggingface/tokenizers: The current process just got forked, after parallelism has already been used. Disabling parallelism to avoid deadlocks...\n",
      "To disable this warning, you can either:\n",
      "\t- Avoid using `tokenizers` before the fork if possible\n",
      "\t- Explicitly set the environment variable TOKENIZERS_PARALLELISM=(true | false)\n"
     ]
    },
    {
     "data": {
      "image/png": "[encoded data removed]",
      "text/plain": [
       "<IPython.core.display.Image object>"
      ]
     },
     "execution_count": 40,
     "metadata": {},
     "output_type": "execute_result"
    }
   ],
   "source": [
    "# instantiating the model in the strategy scope creates the model on the TPU\n",
    "\n",
    "with strategy.scope(): # FC: defines the compute distribution policy for building the model. or in other words: makes sure that the model is created on the TPU/GPU/CPU, depending on to what the Accelerator is set in the Notebook Settings\n",
    "    model = build_model() # FC: our model is being built\n",
    "    model.summary()       # FC: let's look at some of its properties\n",
    "\n",
    "tf.keras.utils.plot_model(model, \"my_model.png\", show_shapes=True) # FC: I added this line because it gives a nice visualization showing the individual components of our model"
   ]
  },
  {
   "cell_type": "code",
   "execution_count": 41,
   "id": "87b464a1",
   "metadata": {
    "execution": {
     "iopub.execute_input": "2022-03-15T13:37:25.731876Z",
     "iopub.status.busy": "2022-03-15T13:37:25.730822Z",
     "iopub.status.idle": "2022-03-15T13:37:25.775854Z",
     "shell.execute_reply": "2022-03-15T13:37:25.777394Z",
     "shell.execute_reply.started": "2022-03-15T11:29:30.708369Z"
    },
    "papermill": {
     "duration": 0.218356,
     "end_time": "2022-03-15T13:37:25.777608",
     "exception": false,
     "start_time": "2022-03-15T13:37:25.559252",
     "status": "completed"
    },
    "tags": []
   },
   "outputs": [
    {
     "name": "stdout",
     "output_type": "stream",
     "text": [
      "<transformers.models.xlm_roberta.modeling_tf_xlm_roberta.TFXLMRobertaModel object at 0x7f16cfd6c890>\n"
     ]
    }
   ],
   "source": [
    "# We can freeze the RoBERTa weights in order to save some time\n",
    "print(model.layers[2])\n",
    "model.layers[2].trainable=True"
   ]
  },
  {
   "cell_type": "code",
   "execution_count": 42,
   "id": "90ecd8cb",
   "metadata": {
    "execution": {
     "iopub.execute_input": "2022-03-15T13:37:26.104734Z",
     "iopub.status.busy": "2022-03-15T13:37:26.104066Z",
     "iopub.status.idle": "2022-03-15T13:37:26.180802Z",
     "shell.execute_reply": "2022-03-15T13:37:26.179213Z",
     "shell.execute_reply.started": "2022-03-15T11:29:30.734043Z"
    },
    "papermill": {
     "duration": 0.243273,
     "end_time": "2022-03-15T13:37:26.181062",
     "exception": false,
     "start_time": "2022-03-15T13:37:25.937789",
     "status": "completed"
    },
    "tags": []
   },
   "outputs": [],
   "source": [
    "# We need to put the train set with the same size of the model\n",
    "for key in train_input.keys():\n",
    "    train_input[key] = train_input[key][:,:max_len]"
   ]
  },
  {
   "cell_type": "code",
   "execution_count": 43,
   "id": "d3dbed39",
   "metadata": {
    "execution": {
     "iopub.execute_input": "2022-03-15T13:37:26.390129Z",
     "iopub.status.busy": "2022-03-15T13:37:26.389293Z",
     "iopub.status.idle": "2022-03-15T13:37:30.756951Z",
     "shell.execute_reply": "2022-03-15T13:37:30.756138Z",
     "shell.execute_reply.started": "2022-03-15T11:29:30.748052Z"
    },
    "papermill": {
     "duration": 4.462303,
     "end_time": "2022-03-15T13:37:30.757187",
     "exception": false,
     "start_time": "2022-03-15T13:37:26.294884",
     "status": "completed"
    },
    "tags": []
   },
   "outputs": [],
   "source": [
    "# We need to put the train set with the same size of the model\n",
    "for key in total_train_input.keys():\n",
    "    total_train_input[key] = total_train_input[key][:,:max_len]"
   ]
  },
  {
   "cell_type": "code",
   "execution_count": 44,
   "id": "d7bcd778",
   "metadata": {
    "execution": {
     "iopub.execute_input": "2022-03-15T13:37:30.920634Z",
     "iopub.status.busy": "2022-03-15T13:37:30.919922Z",
     "iopub.status.idle": "2022-03-15T15:06:23.267137Z",
     "shell.execute_reply": "2022-03-15T15:06:23.267883Z",
     "shell.execute_reply.started": "2022-03-15T11:29:30.760445Z"
    },
    "papermill": {
     "duration": 5332.424887,
     "end_time": "2022-03-15T15:06:23.268291",
     "exception": false,
     "start_time": "2022-03-15T13:37:30.843404",
     "status": "completed"
    },
    "tags": []
   },
   "outputs": [
    {
     "name": "stdout",
     "output_type": "stream",
     "text": [
      "Epoch 1/30\n"
     ]
    },
    {
     "name": "stderr",
     "output_type": "stream",
     "text": [
      "/opt/conda/lib/python3.7/site-packages/tensorflow/python/framework/indexed_slices.py:430: UserWarning: Converting sparse IndexedSlices to a dense Tensor with 256002048 elements. This may consume a large amount of memory.\n",
      "  num_elements)\n"
     ]
    },
    {
     "name": "stdout",
     "output_type": "stream",
     "text": [
      "3283/3283 [==============================] - 1425s 400ms/step - loss: 0.2511 - accuracy: 0.9106 - val_loss: 0.3355 - val_accuracy: 0.8876\n",
      "Epoch 2/30\n",
      "3283/3283 [==============================] - 1283s 391ms/step - loss: 0.1779 - accuracy: 0.9381 - val_loss: 0.3669 - val_accuracy: 0.8881\n",
      "Epoch 3/30\n",
      "3283/3283 [==============================] - 1283s 391ms/step - loss: 0.1370 - accuracy: 0.9533 - val_loss: 0.3736 - val_accuracy: 0.8879\n",
      "Epoch 4/30\n",
      "3283/3283 [==============================] - 1284s 391ms/step - loss: 0.1073 - accuracy: 0.9634 - val_loss: 0.4416 - val_accuracy: 0.8876\n"
     ]
    },
    {
     "data": {
      "text/plain": [
       "<tensorflow.python.keras.callbacks.History at 0x7f160d16c110>"
      ]
     },
     "execution_count": 44,
     "metadata": {},
     "output_type": "execute_result"
    }
   ],
   "source": [
    "early_stop = tf.keras.callbacks.EarlyStopping(patience=3,restore_best_weights=True)\n",
    "# FC: make sure that TPU in Accelerator under Notebook Settings is turned on so that model trains on the TPU. Otherwise this line will crash\n",
    "model.fit(total_train_input, total_train.label.values, epochs = 30, verbose = 1, validation_split = 0.01,\n",
    "         batch_size=16*strategy.num_replicas_in_sync\n",
    "          ,callbacks=[early_stop]\n",
    "         ) # FC: now we fit the model to our training data that we prepared before. The number of training epochs is 2, verbose = 1 shows progress bar, # of rows in each batch is 64, and 20% of the data is used for validation"
   ]
  },
  {
   "cell_type": "code",
   "execution_count": 45,
   "id": "5318ec0b",
   "metadata": {
    "execution": {
     "iopub.execute_input": "2022-03-15T15:06:31.451218Z",
     "iopub.status.busy": "2022-03-15T15:06:31.450527Z",
     "iopub.status.idle": "2022-03-15T15:06:35.198023Z",
     "shell.execute_reply": "2022-03-15T15:06:35.197388Z",
     "shell.execute_reply.started": "2022-03-15T12:58:13.283857Z"
    },
    "papermill": {
     "duration": 7.870498,
     "end_time": "2022-03-15T15:06:35.198204",
     "exception": false,
     "start_time": "2022-03-15T15:06:27.327706",
     "status": "completed"
    },
    "tags": []
   },
   "outputs": [],
   "source": [
    "test = pd.read_csv(\"../input/contradictory-my-dear-watson/test.csv\")\n",
    "test_input = bert_encode(test.premise.values, test.hypothesis.values, tokenizer) # FC: finally we prepare our competition data for the model"
   ]
  },
  {
   "cell_type": "code",
   "execution_count": 46,
   "id": "18ba5dd4",
   "metadata": {
    "execution": {
     "iopub.execute_input": "2022-03-15T15:06:43.455315Z",
     "iopub.status.busy": "2022-03-15T15:06:43.454508Z",
     "iopub.status.idle": "2022-03-15T15:06:43.457886Z",
     "shell.execute_reply": "2022-03-15T15:06:43.457391Z",
     "shell.execute_reply.started": "2022-03-15T12:58:17.290247Z"
    },
    "papermill": {
     "duration": 4.136251,
     "end_time": "2022-03-15T15:06:43.458051",
     "exception": false,
     "start_time": "2022-03-15T15:06:39.321800",
     "status": "completed"
    },
    "tags": []
   },
   "outputs": [],
   "source": [
    "# same for the test set we need to put it in the same size of the model\n",
    "for key in test_input.keys():\n",
    "    test_input[key] = test_input[key][:,:max_len]"
   ]
  },
  {
   "cell_type": "code",
   "execution_count": 47,
   "id": "3ffaa716",
   "metadata": {
    "execution": {
     "iopub.execute_input": "2022-03-15T15:06:51.646918Z",
     "iopub.status.busy": "2022-03-15T15:06:51.646121Z",
     "iopub.status.idle": "2022-03-15T15:06:51.649584Z",
     "shell.execute_reply": "2022-03-15T15:06:51.650093Z",
     "shell.execute_reply.started": "2022-03-15T12:58:17.298744Z"
    },
    "papermill": {
     "duration": 4.120498,
     "end_time": "2022-03-15T15:06:51.650263",
     "exception": false,
     "start_time": "2022-03-15T15:06:47.529765",
     "status": "completed"
    },
    "tags": []
   },
   "outputs": [
    {
     "data": {
      "text/html": [
       "<div>\n",
       "<style scoped>\n",
       "    .dataframe tbody tr th:only-of-type {\n",
       "        vertical-align: middle;\n",
       "    }\n",
       "\n",
       "    .dataframe tbody tr th {\n",
       "        vertical-align: top;\n",
       "    }\n",
       "\n",
       "    .dataframe thead th {\n",
       "        text-align: right;\n",
       "    }\n",
       "</style>\n",
       "<table border=\"1\" class=\"dataframe\">\n",
       "  <thead>\n",
       "    <tr style=\"text-align: right;\">\n",
       "      <th></th>\n",
       "      <th>id</th>\n",
       "      <th>premise</th>\n",
       "      <th>hypothesis</th>\n",
       "      <th>lang_abv</th>\n",
       "      <th>language</th>\n",
       "    </tr>\n",
       "  </thead>\n",
       "  <tbody>\n",
       "    <tr>\n",
       "      <th>0</th>\n",
       "      <td>c6d58c3f69</td>\n",
       "      <td>بکس، کیسی، راہیل، یسعیاہ، کیلی، کیلی، اور کولم...</td>\n",
       "      <td>کیسی کے لئے کوئی یادگار نہیں ہوگا, کولمین ہائی...</td>\n",
       "      <td>ur</td>\n",
       "      <td>Urdu</td>\n",
       "    </tr>\n",
       "    <tr>\n",
       "      <th>1</th>\n",
       "      <td>cefcc82292</td>\n",
       "      <td>هذا هو ما تم نصحنا به.</td>\n",
       "      <td>عندما يتم إخبارهم بما يجب عليهم فعله ، فشلت ال...</td>\n",
       "      <td>ar</td>\n",
       "      <td>Arabic</td>\n",
       "    </tr>\n",
       "    <tr>\n",
       "      <th>2</th>\n",
       "      <td>e98005252c</td>\n",
       "      <td>et cela est en grande partie dû au fait que le...</td>\n",
       "      <td>Les mères se droguent.</td>\n",
       "      <td>fr</td>\n",
       "      <td>French</td>\n",
       "    </tr>\n",
       "    <tr>\n",
       "      <th>3</th>\n",
       "      <td>58518c10ba</td>\n",
       "      <td>与城市及其他公民及社区组织代表就IMA的艺术发展进行对话&amp;amp</td>\n",
       "      <td>IMA与其他组织合作，因为它们都依靠共享资金。</td>\n",
       "      <td>zh</td>\n",
       "      <td>Chinese</td>\n",
       "    </tr>\n",
       "    <tr>\n",
       "      <th>4</th>\n",
       "      <td>c32b0d16df</td>\n",
       "      <td>Она все еще была там.</td>\n",
       "      <td>Мы думали, что она ушла, однако, она осталась.</td>\n",
       "      <td>ru</td>\n",
       "      <td>Russian</td>\n",
       "    </tr>\n",
       "  </tbody>\n",
       "</table>\n",
       "</div>"
      ],
      "text/plain": [
       "           id                                            premise  \\\n",
       "0  c6d58c3f69  بکس، کیسی، راہیل، یسعیاہ، کیلی، کیلی، اور کولم...   \n",
       "1  cefcc82292                             هذا هو ما تم نصحنا به.   \n",
       "2  e98005252c  et cela est en grande partie dû au fait que le...   \n",
       "3  58518c10ba                   与城市及其他公民及社区组织代表就IMA的艺术发展进行对话&amp   \n",
       "4  c32b0d16df                              Она все еще была там.   \n",
       "\n",
       "                                          hypothesis lang_abv language  \n",
       "0  کیسی کے لئے کوئی یادگار نہیں ہوگا, کولمین ہائی...       ur     Urdu  \n",
       "1  عندما يتم إخبارهم بما يجب عليهم فعله ، فشلت ال...       ar   Arabic  \n",
       "2                             Les mères se droguent.       fr   French  \n",
       "3                            IMA与其他组织合作，因为它们都依靠共享资金。       zh  Chinese  \n",
       "4     Мы думали, что она ушла, однако, она осталась.       ru  Russian  "
      ]
     },
     "execution_count": 47,
     "metadata": {},
     "output_type": "execute_result"
    }
   ],
   "source": [
    "test.head()"
   ]
  },
  {
   "cell_type": "markdown",
   "id": "41eb4556",
   "metadata": {
    "papermill": {
     "duration": 4.081062,
     "end_time": "2022-03-15T15:06:59.850861",
     "exception": false,
     "start_time": "2022-03-15T15:06:55.769799",
     "status": "completed"
    },
    "tags": []
   },
   "source": [
    "# Generating & Submitting Predictions"
   ]
  },
  {
   "cell_type": "markdown",
   "id": "da721a6b",
   "metadata": {
    "papermill": {
     "duration": 4.12936,
     "end_time": "2022-03-15T15:07:08.023282",
     "exception": false,
     "start_time": "2022-03-15T15:07:03.893922",
     "status": "completed"
    },
    "tags": []
   },
   "source": []
  },
  {
   "cell_type": "code",
   "execution_count": 48,
   "id": "9fcdf8bb",
   "metadata": {
    "execution": {
     "iopub.execute_input": "2022-03-15T15:07:16.204235Z",
     "iopub.status.busy": "2022-03-15T15:07:16.203505Z",
     "iopub.status.idle": "2022-03-15T15:07:50.019036Z",
     "shell.execute_reply": "2022-03-15T15:07:50.018377Z",
     "shell.execute_reply.started": "2022-03-15T12:58:17.326918Z"
    },
    "papermill": {
     "duration": 37.946284,
     "end_time": "2022-03-15T15:07:50.019225",
     "exception": false,
     "start_time": "2022-03-15T15:07:12.072941",
     "status": "completed"
    },
    "tags": []
   },
   "outputs": [],
   "source": [
    "predictions = [np.argmax(i) for i in model.predict(test_input)] # FC; ve the model predict three categorical probabilities, choose the highest probability, and save the respective label ID (0,1, or 2)"
   ]
  },
  {
   "cell_type": "code",
   "execution_count": 49,
   "id": "9cf60b7c",
   "metadata": {
    "execution": {
     "iopub.execute_input": "2022-03-15T15:07:59.391229Z",
     "iopub.status.busy": "2022-03-15T15:07:59.390159Z",
     "iopub.status.idle": "2022-03-15T15:07:59.400823Z",
     "shell.execute_reply": "2022-03-15T15:07:59.400247Z",
     "shell.execute_reply.started": "2022-03-15T12:58:51.658590Z"
    },
    "papermill": {
     "duration": 4.668591,
     "end_time": "2022-03-15T15:07:59.400985",
     "exception": false,
     "start_time": "2022-03-15T15:07:54.732394",
     "status": "completed"
    },
    "tags": []
   },
   "outputs": [],
   "source": [
    "submission = test.id.copy().to_frame()\n",
    "submission['prediction'] = predictions"
   ]
  },
  {
   "cell_type": "code",
   "execution_count": 50,
   "id": "053beb4b",
   "metadata": {
    "execution": {
     "iopub.execute_input": "2022-03-15T15:08:08.532591Z",
     "iopub.status.busy": "2022-03-15T15:08:08.531954Z",
     "iopub.status.idle": "2022-03-15T15:08:08.536769Z",
     "shell.execute_reply": "2022-03-15T15:08:08.537312Z",
     "shell.execute_reply.started": "2022-03-15T12:58:51.671972Z"
    },
    "papermill": {
     "duration": 4.514001,
     "end_time": "2022-03-15T15:08:08.537478",
     "exception": false,
     "start_time": "2022-03-15T15:08:04.023477",
     "status": "completed"
    },
    "tags": []
   },
   "outputs": [
    {
     "data": {
      "text/html": [
       "<div>\n",
       "<style scoped>\n",
       "    .dataframe tbody tr th:only-of-type {\n",
       "        vertical-align: middle;\n",
       "    }\n",
       "\n",
       "    .dataframe tbody tr th {\n",
       "        vertical-align: top;\n",
       "    }\n",
       "\n",
       "    .dataframe thead th {\n",
       "        text-align: right;\n",
       "    }\n",
       "</style>\n",
       "<table border=\"1\" class=\"dataframe\">\n",
       "  <thead>\n",
       "    <tr style=\"text-align: right;\">\n",
       "      <th></th>\n",
       "      <th>id</th>\n",
       "      <th>prediction</th>\n",
       "    </tr>\n",
       "  </thead>\n",
       "  <tbody>\n",
       "    <tr>\n",
       "      <th>0</th>\n",
       "      <td>c6d58c3f69</td>\n",
       "      <td>2</td>\n",
       "    </tr>\n",
       "    <tr>\n",
       "      <th>1</th>\n",
       "      <td>cefcc82292</td>\n",
       "      <td>1</td>\n",
       "    </tr>\n",
       "    <tr>\n",
       "      <th>2</th>\n",
       "      <td>e98005252c</td>\n",
       "      <td>0</td>\n",
       "    </tr>\n",
       "    <tr>\n",
       "      <th>3</th>\n",
       "      <td>58518c10ba</td>\n",
       "      <td>1</td>\n",
       "    </tr>\n",
       "    <tr>\n",
       "      <th>4</th>\n",
       "      <td>c32b0d16df</td>\n",
       "      <td>1</td>\n",
       "    </tr>\n",
       "  </tbody>\n",
       "</table>\n",
       "</div>"
      ],
      "text/plain": [
       "           id  prediction\n",
       "0  c6d58c3f69           2\n",
       "1  cefcc82292           1\n",
       "2  e98005252c           0\n",
       "3  58518c10ba           1\n",
       "4  c32b0d16df           1"
      ]
     },
     "execution_count": 50,
     "metadata": {},
     "output_type": "execute_result"
    }
   ],
   "source": [
    "submission.head()"
   ]
  },
  {
   "cell_type": "code",
   "execution_count": 51,
   "id": "41f93c01",
   "metadata": {
    "execution": {
     "iopub.execute_input": "2022-03-15T15:08:16.699413Z",
     "iopub.status.busy": "2022-03-15T15:08:16.698549Z",
     "iopub.status.idle": "2022-03-15T15:08:16.718814Z",
     "shell.execute_reply": "2022-03-15T15:08:16.718227Z",
     "shell.execute_reply.started": "2022-03-15T12:58:51.697367Z"
    },
    "papermill": {
     "duration": 4.120164,
     "end_time": "2022-03-15T15:08:16.718953",
     "exception": false,
     "start_time": "2022-03-15T15:08:12.598789",
     "status": "completed"
    },
    "tags": []
   },
   "outputs": [],
   "source": [
    "submission.to_csv(\"submission.csv\", index = False)"
   ]
  }
 ],
 "metadata": {
  "kernelspec": {
   "display_name": "Python 3",
   "language": "python",
   "name": "python3"
  },
  "language_info": {
   "codemirror_mode": {
    "name": "ipython",
    "version": 3
   },
   "file_extension": ".py",
   "mimetype": "text/x-python",
   "name": "python",
   "nbconvert_exporter": "python",
   "pygments_lexer": "ipython3",
   "version": "3.7.10"
  },
  "papermill": {
   "default_parameters": {},
   "duration": 5950.518838,
   "end_time": "2022-03-15T15:08:24.464896",
   "environment_variables": {},
   "exception": null,
   "input_path": "__notebook__.ipynb",
   "output_path": "__notebook__.ipynb",
   "parameters": {},
   "start_time": "2022-03-15T13:29:13.946058",
   "version": "2.3.3"
  },
  "widgets": {
   "application/vnd.jupyter.widget-state+json": {
    "state": {
     "0278c23287d940e2b3d8c00ba19a5d4a": {
      "model_module": "@jupyter-widgets/controls",
      "model_module_version": "1.5.0",
      "model_name": "HTMLModel",
      "state": {
       "_dom_classes": [],
       "_model_module": "@jupyter-widgets/controls",
       "_model_module_version": "1.5.0",
       "_model_name": "HTMLModel",
       "_view_count": null,
       "_view_module": "@jupyter-widgets/controls",
       "_view_module_version": "1.5.0",
       "_view_name": "HTMLView",
       "description": "",
       "description_tooltip": null,
       "layout": "IPY_MODEL_fd65cab379214d6fb146bbee69077309",
       "placeholder": "​",
       "style": "IPY_MODEL_2af8911585c1431aa857585e1b42836a",
       "value": "Downloading: 100%"
      }
     },
     "03120778763d464184f6f8ec4503b05e": {
      "model_module": "@jupyter-widgets/controls",
      "model_module_version": "1.5.0",
      "model_name": "ProgressStyleModel",
      "state": {
       "_model_module": "@jupyter-widgets/controls",
       "_model_module_version": "1.5.0",
       "_model_name": "ProgressStyleModel",
       "_view_count": null,
       "_view_module": "@jupyter-widgets/base",
       "_view_module_version": "1.2.0",
       "_view_name": "StyleView",
       "bar_color": null,
       "description_width": ""
      }
     },
     "0455dbf7edbb4fd5a7f339c946543a3a": {
      "model_module": "@jupyter-widgets/base",
      "model_module_version": "1.2.0",
      "model_name": "LayoutModel",
      "state": {
       "_model_module": "@jupyter-widgets/base",
       "_model_module_version": "1.2.0",
       "_model_name": "LayoutModel",
       "_view_count": null,
       "_view_module": "@jupyter-widgets/base",
       "_view_module_version": "1.2.0",
       "_view_name": "LayoutView",
       "align_content": null,
       "align_items": null,
       "align_self": null,
       "border": null,
       "bottom": null,
       "display": null,
       "flex": null,
       "flex_flow": null,
       "grid_area": null,
       "grid_auto_columns": null,
       "grid_auto_flow": null,
       "grid_auto_rows": null,
       "grid_column": null,
       "grid_gap": null,
       "grid_row": null,
       "grid_template_areas": null,
       "grid_template_columns": null,
       "grid_template_rows": null,
       "height": null,
       "justify_content": null,
       "justify_items": null,
       "left": null,
       "margin": null,
       "max_height": null,
       "max_width": null,
       "min_height": null,
       "min_width": null,
       "object_fit": null,
       "object_position": null,
       "order": null,
       "overflow": null,
       "overflow_x": null,
       "overflow_y": null,
       "padding": null,
       "right": null,
       "top": null,
       "visibility": null,
       "width": null
      }
     },
     "0535f0cefe304b918074a8687720b2c1": {
      "model_module": "@jupyter-widgets/base",
      "model_module_version": "1.2.0",
      "model_name": "LayoutModel",
      "state": {
       "_model_module": "@jupyter-widgets/base",
       "_model_module_version": "1.2.0",
       "_model_name": "LayoutModel",
       "_view_count": null,
       "_view_module": "@jupyter-widgets/base",
       "_view_module_version": "1.2.0",
       "_view_name": "LayoutView",
       "align_content": null,
       "align_items": null,
       "align_self": null,
       "border": null,
       "bottom": null,
       "display": null,
       "flex": null,
       "flex_flow": null,
       "grid_area": null,
       "grid_auto_columns": null,
       "grid_auto_flow": null,
       "grid_auto_rows": null,
       "grid_column": null,
       "grid_gap": null,
       "grid_row": null,
       "grid_template_areas": null,
       "grid_template_columns": null,
       "grid_template_rows": null,
       "height": null,
       "justify_content": null,
       "justify_items": null,
       "left": null,
       "margin": null,
       "max_height": null,
       "max_width": null,
       "min_height": null,
       "min_width": null,
       "object_fit": null,
       "object_position": null,
       "order": null,
       "overflow": null,
       "overflow_x": null,
       "overflow_y": null,
       "padding": null,
       "right": null,
       "top": null,
       "visibility": null,
       "width": null
      }
     },
     "0541492c56ba4f14b026015fbc971359": {
      "model_module": "@jupyter-widgets/controls",
      "model_module_version": "1.5.0",
      "model_name": "ProgressStyleModel",
      "state": {
       "_model_module": "@jupyter-widgets/controls",
       "_model_module_version": "1.5.0",
       "_model_name": "ProgressStyleModel",
       "_view_count": null,
       "_view_module": "@jupyter-widgets/base",
       "_view_module_version": "1.2.0",
       "_view_name": "StyleView",
       "bar_color": null,
       "description_width": ""
      }
     },
     "08f3559a27564812a989f6e8dd774f42": {
      "model_module": "@jupyter-widgets/controls",
      "model_module_version": "1.5.0",
      "model_name": "FloatProgressModel",
      "state": {
       "_dom_classes": [],
       "_model_module": "@jupyter-widgets/controls",
       "_model_module_version": "1.5.0",
       "_model_name": "FloatProgressModel",
       "_view_count": null,
       "_view_module": "@jupyter-widgets/controls",
       "_view_module_version": "1.5.0",
       "_view_name": "ProgressView",
       "bar_style": "success",
       "description": "",
       "description_tooltip": null,
       "layout": "IPY_MODEL_0455dbf7edbb4fd5a7f339c946543a3a",
       "max": 226850426.0,
       "min": 0.0,
       "orientation": "horizontal",
       "style": "IPY_MODEL_22bbe6c40ea84e60a6a28a4f8635824b",
       "value": 226850426.0
      }
     },
     "091c80a3ce5c4a619d54909b1ea40b5c": {
      "model_module": "@jupyter-widgets/controls",
      "model_module_version": "1.5.0",
      "model_name": "DescriptionStyleModel",
      "state": {
       "_model_module": "@jupyter-widgets/controls",
       "_model_module_version": "1.5.0",
       "_model_name": "DescriptionStyleModel",
       "_view_count": null,
       "_view_module": "@jupyter-widgets/base",
       "_view_module_version": "1.2.0",
       "_view_name": "StyleView",
       "description_width": ""
      }
     },
     "0992349aeda547f8b258928fe876aa1a": {
      "model_module": "@jupyter-widgets/base",
      "model_module_version": "1.2.0",
      "model_name": "LayoutModel",
      "state": {
       "_model_module": "@jupyter-widgets/base",
       "_model_module_version": "1.2.0",
       "_model_name": "LayoutModel",
       "_view_count": null,
       "_view_module": "@jupyter-widgets/base",
       "_view_module_version": "1.2.0",
       "_view_name": "LayoutView",
       "align_content": null,
       "align_items": null,
       "align_self": null,
       "border": null,
       "bottom": null,
       "display": null,
       "flex": null,
       "flex_flow": null,
       "grid_area": null,
       "grid_auto_columns": null,
       "grid_auto_flow": null,
       "grid_auto_rows": null,
       "grid_column": null,
       "grid_gap": null,
       "grid_row": null,
       "grid_template_areas": null,
       "grid_template_columns": null,
       "grid_template_rows": null,
       "height": null,
       "justify_content": null,
       "justify_items": null,
       "left": null,
       "margin": null,
       "max_height": null,
       "max_width": null,
       "min_height": null,
       "min_width": null,
       "object_fit": null,
       "object_position": null,
       "order": null,
       "overflow": null,
       "overflow_x": null,
       "overflow_y": null,
       "padding": null,
       "right": null,
       "top": null,
       "visibility": null,
       "width": null
      }
     },
     "09cbab4a71c54d918cc12af4d2d54aa4": {
      "model_module": "@jupyter-widgets/controls",
      "model_module_version": "1.5.0",
      "model_name": "HTMLModel",
      "state": {
       "_dom_classes": [],
       "_model_module": "@jupyter-widgets/controls",
       "_model_module_version": "1.5.0",
       "_model_name": "HTMLModel",
       "_view_count": null,
       "_view_module": "@jupyter-widgets/controls",
       "_view_module_version": "1.5.0",
       "_view_name": "HTMLView",
       "description": "",
       "description_tooltip": null,
       "layout": "IPY_MODEL_c0ca3e7b41fd45209c18b65356e00e45",
       "placeholder": "​",
       "style": "IPY_MODEL_10f4bc513c004ce88ce95e7eebb6e0b3",
       "value": " 391543/0 [00:11&lt;00:00, 34771.53 examples/s]"
      }
     },
     "09d043151298454ab3f83cc2c44fb46e": {
      "model_module": "@jupyter-widgets/controls",
      "model_module_version": "1.5.0",
      "model_name": "HBoxModel",
      "state": {
       "_dom_classes": [],
       "_model_module": "@jupyter-widgets/controls",
       "_model_module_version": "1.5.0",
       "_model_name": "HBoxModel",
       "_view_count": null,
       "_view_module": "@jupyter-widgets/controls",
       "_view_module_version": "1.5.0",
       "_view_name": "HBoxView",
       "box_style": "",
       "children": [
        "IPY_MODEL_70d82c14dbdc4c2789edaec591aa0632",
        "IPY_MODEL_a5207b94b6f1427893bb08a0ee88d721",
        "IPY_MODEL_09cbab4a71c54d918cc12af4d2d54aa4"
       ],
       "layout": "IPY_MODEL_4788564c9f004c6792b9f1a1ec8547a1"
      }
     },
     "0c2f7756ff4448d09a0737578229c4b3": {
      "model_module": "@jupyter-widgets/controls",
      "model_module_version": "1.5.0",
      "model_name": "DescriptionStyleModel",
      "state": {
       "_model_module": "@jupyter-widgets/controls",
       "_model_module_version": "1.5.0",
       "_model_name": "DescriptionStyleModel",
       "_view_count": null,
       "_view_module": "@jupyter-widgets/base",
       "_view_module_version": "1.2.0",
       "_view_name": "StyleView",
       "description_width": ""
      }
     },
     "0f99f154b64649cab22ea0b98b8a1285": {
      "model_module": "@jupyter-widgets/base",
      "model_module_version": "1.2.0",
      "model_name": "LayoutModel",
      "state": {
       "_model_module": "@jupyter-widgets/base",
       "_model_module_version": "1.2.0",
       "_model_name": "LayoutModel",
       "_view_count": null,
       "_view_module": "@jupyter-widgets/base",
       "_view_module_version": "1.2.0",
       "_view_name": "LayoutView",
       "align_content": null,
       "align_items": null,
       "align_self": null,
       "border": null,
       "bottom": null,
       "display": null,
       "flex": null,
       "flex_flow": null,
       "grid_area": null,
       "grid_auto_columns": null,
       "grid_auto_flow": null,
       "grid_auto_rows": null,
       "grid_column": null,
       "grid_gap": null,
       "grid_row": null,
       "grid_template_areas": null,
       "grid_template_columns": null,
       "grid_template_rows": null,
       "height": null,
       "justify_content": null,
       "justify_items": null,
       "left": null,
       "margin": null,
       "max_height": null,
       "max_width": null,
       "min_height": null,
       "min_width": null,
       "object_fit": null,
       "object_position": null,
       "order": null,
       "overflow": null,
       "overflow_x": null,
       "overflow_y": null,
       "padding": null,
       "right": null,
       "top": null,
       "visibility": null,
       "width": null
      }
     },
     "10f4bc513c004ce88ce95e7eebb6e0b3": {
      "model_module": "@jupyter-widgets/controls",
      "model_module_version": "1.5.0",
      "model_name": "DescriptionStyleModel",
      "state": {
       "_model_module": "@jupyter-widgets/controls",
       "_model_module_version": "1.5.0",
       "_model_name": "DescriptionStyleModel",
       "_view_count": null,
       "_view_module": "@jupyter-widgets/base",
       "_view_module_version": "1.2.0",
       "_view_name": "StyleView",
       "description_width": ""
      }
     },
     "11d1a460d9f544dea314ac0d2fd1e9f7": {
      "model_module": "@jupyter-widgets/controls",
      "model_module_version": "1.5.0",
      "model_name": "ProgressStyleModel",
      "state": {
       "_model_module": "@jupyter-widgets/controls",
       "_model_module_version": "1.5.0",
       "_model_name": "ProgressStyleModel",
       "_view_count": null,
       "_view_module": "@jupyter-widgets/base",
       "_view_module_version": "1.2.0",
       "_view_name": "StyleView",
       "bar_color": null,
       "description_width": ""
      }
     },
     "14203862449f4fe598e8f8487ef81f62": {
      "model_module": "@jupyter-widgets/controls",
      "model_module_version": "1.5.0",
      "model_name": "HTMLModel",
      "state": {
       "_dom_classes": [],
       "_model_module": "@jupyter-widgets/controls",
       "_model_module_version": "1.5.0",
       "_model_name": "HTMLModel",
       "_view_count": null,
       "_view_module": "@jupyter-widgets/controls",
       "_view_module_version": "1.5.0",
       "_view_name": "HTMLView",
       "description": "",
       "description_tooltip": null,
       "layout": "IPY_MODEL_581c6be19b6e4b11b67b45a86745c967",
       "placeholder": "​",
       "style": "IPY_MODEL_091c80a3ce5c4a619d54909b1ea40b5c",
       "value": " 9312/0 [00:00&lt;00:00, 32383.93 examples/s]"
      }
     },
     "14f3c81271d54cf689438885cfacefa3": {
      "model_module": "@jupyter-widgets/base",
      "model_module_version": "1.2.0",
      "model_name": "LayoutModel",
      "state": {
       "_model_module": "@jupyter-widgets/base",
       "_model_module_version": "1.2.0",
       "_model_name": "LayoutModel",
       "_view_count": null,
       "_view_module": "@jupyter-widgets/base",
       "_view_module_version": "1.2.0",
       "_view_name": "LayoutView",
       "align_content": null,
       "align_items": null,
       "align_self": null,
       "border": null,
       "bottom": null,
       "display": null,
       "flex": null,
       "flex_flow": null,
       "grid_area": null,
       "grid_auto_columns": null,
       "grid_auto_flow": null,
       "grid_auto_rows": null,
       "grid_column": null,
       "grid_gap": null,
       "grid_row": null,
       "grid_template_areas": null,
       "grid_template_columns": null,
       "grid_template_rows": null,
       "height": null,
       "justify_content": null,
       "justify_items": null,
       "left": null,
       "margin": null,
       "max_height": null,
       "max_width": null,
       "min_height": null,
       "min_width": null,
       "object_fit": null,
       "object_position": null,
       "order": null,
       "overflow": null,
       "overflow_x": null,
       "overflow_y": null,
       "padding": null,
       "right": null,
       "top": null,
       "visibility": null,
       "width": null
      }
     },
     "15f1040ab76247ddaa5edca8f53ab28f": {
      "model_module": "@jupyter-widgets/controls",
      "model_module_version": "1.5.0",
      "model_name": "FloatProgressModel",
      "state": {
       "_dom_classes": [],
       "_model_module": "@jupyter-widgets/controls",
       "_model_module_version": "1.5.0",
       "_model_name": "FloatProgressModel",
       "_view_count": null,
       "_view_module": "@jupyter-widgets/controls",
       "_view_module_version": "1.5.0",
       "_view_name": "ProgressView",
       "bar_style": "success",
       "description": "",
       "description_tooltip": null,
       "layout": "IPY_MODEL_3f2fcc76510f4b4c8680e2442b471d57",
       "max": 150.0,
       "min": 0.0,
       "orientation": "horizontal",
       "style": "IPY_MODEL_03120778763d464184f6f8ec4503b05e",
       "value": 150.0
      }
     },
     "195611292f744c028dafe6a095e1c2dd": {
      "model_module": "@jupyter-widgets/controls",
      "model_module_version": "1.5.0",
      "model_name": "DescriptionStyleModel",
      "state": {
       "_model_module": "@jupyter-widgets/controls",
       "_model_module_version": "1.5.0",
       "_model_name": "DescriptionStyleModel",
       "_view_count": null,
       "_view_module": "@jupyter-widgets/base",
       "_view_module_version": "1.2.0",
       "_view_name": "StyleView",
       "description_width": ""
      }
     },
     "1b404407ed854dd99e8574e5641941e3": {
      "model_module": "@jupyter-widgets/controls",
      "model_module_version": "1.5.0",
      "model_name": "HTMLModel",
      "state": {
       "_dom_classes": [],
       "_model_module": "@jupyter-widgets/controls",
       "_model_module_version": "1.5.0",
       "_model_name": "HTMLModel",
       "_view_count": null,
       "_view_module": "@jupyter-widgets/controls",
       "_view_module_version": "1.5.0",
       "_view_name": "HTMLView",
       "description": "",
       "description_tooltip": null,
       "layout": "IPY_MODEL_77a70cfd336a42e2b6ba5209ba725c29",
       "placeholder": "​",
       "style": "IPY_MODEL_dbea1050e8264ec39a8efaa9b120985c",
       "value": "Downloading: 100%"
      }
     },
     "22bbe6c40ea84e60a6a28a4f8635824b": {
      "model_module": "@jupyter-widgets/controls",
      "model_module_version": "1.5.0",
      "model_name": "ProgressStyleModel",
      "state": {
       "_model_module": "@jupyter-widgets/controls",
       "_model_module_version": "1.5.0",
       "_model_name": "ProgressStyleModel",
       "_view_count": null,
       "_view_module": "@jupyter-widgets/base",
       "_view_module_version": "1.2.0",
       "_view_name": "StyleView",
       "bar_color": null,
       "description_width": ""
      }
     },
     "23b2241b64aa4b4dacb5bc20db42dee0": {
      "model_module": "@jupyter-widgets/base",
      "model_module_version": "1.2.0",
      "model_name": "LayoutModel",
      "state": {
       "_model_module": "@jupyter-widgets/base",
       "_model_module_version": "1.2.0",
       "_model_name": "LayoutModel",
       "_view_count": null,
       "_view_module": "@jupyter-widgets/base",
       "_view_module_version": "1.2.0",
       "_view_name": "LayoutView",
       "align_content": null,
       "align_items": null,
       "align_self": null,
       "border": null,
       "bottom": null,
       "display": null,
       "flex": null,
       "flex_flow": null,
       "grid_area": null,
       "grid_auto_columns": null,
       "grid_auto_flow": null,
       "grid_auto_rows": null,
       "grid_column": null,
       "grid_gap": null,
       "grid_row": null,
       "grid_template_areas": null,
       "grid_template_columns": null,
       "grid_template_rows": null,
       "height": null,
       "justify_content": null,
       "justify_items": null,
       "left": null,
       "margin": null,
       "max_height": null,
       "max_width": null,
       "min_height": null,
       "min_width": null,
       "object_fit": null,
       "object_position": null,
       "order": null,
       "overflow": null,
       "overflow_x": null,
       "overflow_y": null,
       "padding": null,
       "right": null,
       "top": null,
       "visibility": null,
       "width": null
      }
     },
     "27212ef7c255490b83a7e471e211cd8d": {
      "model_module": "@jupyter-widgets/controls",
      "model_module_version": "1.5.0",
      "model_name": "DescriptionStyleModel",
      "state": {
       "_model_module": "@jupyter-widgets/controls",
       "_model_module_version": "1.5.0",
       "_model_name": "DescriptionStyleModel",
       "_view_count": null,
       "_view_module": "@jupyter-widgets/base",
       "_view_module_version": "1.2.0",
       "_view_name": "StyleView",
       "description_width": ""
      }
     },
     "285be0e72f774ed380f6bba3046f5773": {
      "model_module": "@jupyter-widgets/base",
      "model_module_version": "1.2.0",
      "model_name": "LayoutModel",
      "state": {
       "_model_module": "@jupyter-widgets/base",
       "_model_module_version": "1.2.0",
       "_model_name": "LayoutModel",
       "_view_count": null,
       "_view_module": "@jupyter-widgets/base",
       "_view_module_version": "1.2.0",
       "_view_name": "LayoutView",
       "align_content": null,
       "align_items": null,
       "align_self": null,
       "border": null,
       "bottom": null,
       "display": null,
       "flex": null,
       "flex_flow": null,
       "grid_area": null,
       "grid_auto_columns": null,
       "grid_auto_flow": null,
       "grid_auto_rows": null,
       "grid_column": null,
       "grid_gap": null,
       "grid_row": null,
       "grid_template_areas": null,
       "grid_template_columns": null,
       "grid_template_rows": null,
       "height": null,
       "justify_content": null,
       "justify_items": null,
       "left": null,
       "margin": null,
       "max_height": null,
       "max_width": null,
       "min_height": null,
       "min_width": null,
       "object_fit": null,
       "object_position": null,
       "order": null,
       "overflow": null,
       "overflow_x": null,
       "overflow_y": null,
       "padding": null,
       "right": null,
       "top": null,
       "visibility": null,
       "width": "20px"
      }
     },
     "290e7b308c614dc3af135423019dc4e4": {
      "model_module": "@jupyter-widgets/controls",
      "model_module_version": "1.5.0",
      "model_name": "ProgressStyleModel",
      "state": {
       "_model_module": "@jupyter-widgets/controls",
       "_model_module_version": "1.5.0",
       "_model_name": "ProgressStyleModel",
       "_view_count": null,
       "_view_module": "@jupyter-widgets/base",
       "_view_module_version": "1.2.0",
       "_view_name": "StyleView",
       "bar_color": null,
       "description_width": ""
      }
     },
     "2aacdbf9cbca45a7a35b7500b1656da9": {
      "model_module": "@jupyter-widgets/base",
      "model_module_version": "1.2.0",
      "model_name": "LayoutModel",
      "state": {
       "_model_module": "@jupyter-widgets/base",
       "_model_module_version": "1.2.0",
       "_model_name": "LayoutModel",
       "_view_count": null,
       "_view_module": "@jupyter-widgets/base",
       "_view_module_version": "1.2.0",
       "_view_name": "LayoutView",
       "align_content": null,
       "align_items": null,
       "align_self": null,
       "border": null,
       "bottom": null,
       "display": null,
       "flex": null,
       "flex_flow": null,
       "grid_area": null,
       "grid_auto_columns": null,
       "grid_auto_flow": null,
       "grid_auto_rows": null,
       "grid_column": null,
       "grid_gap": null,
       "grid_row": null,
       "grid_template_areas": null,
       "grid_template_columns": null,
       "grid_template_rows": null,
       "height": null,
       "justify_content": null,
       "justify_items": null,
       "left": null,
       "margin": null,
       "max_height": null,
       "max_width": null,
       "min_height": null,
       "min_width": null,
       "object_fit": null,
       "object_position": null,
       "order": null,
       "overflow": null,
       "overflow_x": null,
       "overflow_y": null,
       "padding": null,
       "right": null,
       "top": null,
       "visibility": null,
       "width": null
      }
     },
     "2af8911585c1431aa857585e1b42836a": {
      "model_module": "@jupyter-widgets/controls",
      "model_module_version": "1.5.0",
      "model_name": "DescriptionStyleModel",
      "state": {
       "_model_module": "@jupyter-widgets/controls",
       "_model_module_version": "1.5.0",
       "_model_name": "DescriptionStyleModel",
       "_view_count": null,
       "_view_module": "@jupyter-widgets/base",
       "_view_module_version": "1.2.0",
       "_view_name": "StyleView",
       "description_width": ""
      }
     },
     "2b5469e71a9243798d4e9d89cb5557f9": {
      "model_module": "@jupyter-widgets/base",
      "model_module_version": "1.2.0",
      "model_name": "LayoutModel",
      "state": {
       "_model_module": "@jupyter-widgets/base",
       "_model_module_version": "1.2.0",
       "_model_name": "LayoutModel",
       "_view_count": null,
       "_view_module": "@jupyter-widgets/base",
       "_view_module_version": "1.2.0",
       "_view_name": "LayoutView",
       "align_content": null,
       "align_items": null,
       "align_self": null,
       "border": null,
       "bottom": null,
       "display": null,
       "flex": null,
       "flex_flow": null,
       "grid_area": null,
       "grid_auto_columns": null,
       "grid_auto_flow": null,
       "grid_auto_rows": null,
       "grid_column": null,
       "grid_gap": null,
       "grid_row": null,
       "grid_template_areas": null,
       "grid_template_columns": null,
       "grid_template_rows": null,
       "height": null,
       "justify_content": null,
       "justify_items": null,
       "left": null,
       "margin": null,
       "max_height": null,
       "max_width": null,
       "min_height": null,
       "min_width": null,
       "object_fit": null,
       "object_position": null,
       "order": null,
       "overflow": null,
       "overflow_x": null,
       "overflow_y": null,
       "padding": null,
       "right": null,
       "top": null,
       "visibility": null,
       "width": null
      }
     },
     "2c925863710848f3b64b0065886edf2d": {
      "model_module": "@jupyter-widgets/controls",
      "model_module_version": "1.5.0",
      "model_name": "HTMLModel",
      "state": {
       "_dom_classes": [],
       "_model_module": "@jupyter-widgets/controls",
       "_model_module_version": "1.5.0",
       "_model_name": "HTMLModel",
       "_view_count": null,
       "_view_module": "@jupyter-widgets/controls",
       "_view_module_version": "1.5.0",
       "_view_name": "HTMLView",
       "description": "",
       "description_tooltip": null,
       "layout": "IPY_MODEL_f7d1bbaeda5c48b590a6545ff1b397a4",
       "placeholder": "​",
       "style": "IPY_MODEL_33e8a170793c4e2f9344e29089a33fef",
       "value": " 5.05k/5.05k [00:00&lt;00:00, 143kB/s]"
      }
     },
     "2d722dc8a362472c86dd5d2e7c1b9a22": {
      "model_module": "@jupyter-widgets/controls",
      "model_module_version": "1.5.0",
      "model_name": "HTMLModel",
      "state": {
       "_dom_classes": [],
       "_model_module": "@jupyter-widgets/controls",
       "_model_module_version": "1.5.0",
       "_model_name": "HTMLModel",
       "_view_count": null,
       "_view_module": "@jupyter-widgets/controls",
       "_view_module_version": "1.5.0",
       "_view_name": "HTMLView",
       "description": "",
       "description_tooltip": null,
       "layout": "IPY_MODEL_2b5469e71a9243798d4e9d89cb5557f9",
       "placeholder": "​",
       "style": "IPY_MODEL_a56fd1c8650e47dc85cd9811ec8deb49",
       "value": "Downloading: 100%"
      }
     },
     "2e09736bd8a34eb98e5af5b9388cdd07": {
      "model_module": "@jupyter-widgets/controls",
      "model_module_version": "1.5.0",
      "model_name": "DescriptionStyleModel",
      "state": {
       "_model_module": "@jupyter-widgets/controls",
       "_model_module_version": "1.5.0",
       "_model_name": "DescriptionStyleModel",
       "_view_count": null,
       "_view_module": "@jupyter-widgets/base",
       "_view_module_version": "1.2.0",
       "_view_name": "StyleView",
       "description_width": ""
      }
     },
     "2ebf4453d9de4cebbd8e9984aa28cf0d": {
      "model_module": "@jupyter-widgets/controls",
      "model_module_version": "1.5.0",
      "model_name": "HBoxModel",
      "state": {
       "_dom_classes": [],
       "_model_module": "@jupyter-widgets/controls",
       "_model_module_version": "1.5.0",
       "_model_name": "HBoxModel",
       "_view_count": null,
       "_view_module": "@jupyter-widgets/controls",
       "_view_module_version": "1.5.0",
       "_view_name": "HBoxView",
       "box_style": "",
       "children": [
        "IPY_MODEL_9f9ce97a3a4c45079d477886d9552016",
        "IPY_MODEL_89d3793bb0df4e97b055e2a87d723073",
        "IPY_MODEL_2c925863710848f3b64b0065886edf2d"
       ],
       "layout": "IPY_MODEL_576af392a1864e249929ceac4221dea7"
      }
     },
     "322358c4b1b74e168d5941909b0c667f": {
      "model_module": "@jupyter-widgets/base",
      "model_module_version": "1.2.0",
      "model_name": "LayoutModel",
      "state": {
       "_model_module": "@jupyter-widgets/base",
       "_model_module_version": "1.2.0",
       "_model_name": "LayoutModel",
       "_view_count": null,
       "_view_module": "@jupyter-widgets/base",
       "_view_module_version": "1.2.0",
       "_view_name": "LayoutView",
       "align_content": null,
       "align_items": null,
       "align_self": null,
       "border": null,
       "bottom": null,
       "display": null,
       "flex": null,
       "flex_flow": null,
       "grid_area": null,
       "grid_auto_columns": null,
       "grid_auto_flow": null,
       "grid_auto_rows": null,
       "grid_column": null,
       "grid_gap": null,
       "grid_row": null,
       "grid_template_areas": null,
       "grid_template_columns": null,
       "grid_template_rows": null,
       "height": null,
       "justify_content": null,
       "justify_items": null,
       "left": null,
       "margin": null,
       "max_height": null,
       "max_width": null,
       "min_height": null,
       "min_width": null,
       "object_fit": null,
       "object_position": null,
       "order": null,
       "overflow": null,
       "overflow_x": null,
       "overflow_y": null,
       "padding": null,
       "right": null,
       "top": null,
       "visibility": null,
       "width": null
      }
     },
     "33e8a170793c4e2f9344e29089a33fef": {
      "model_module": "@jupyter-widgets/controls",
      "model_module_version": "1.5.0",
      "model_name": "DescriptionStyleModel",
      "state": {
       "_model_module": "@jupyter-widgets/controls",
       "_model_module_version": "1.5.0",
       "_model_name": "DescriptionStyleModel",
       "_view_count": null,
       "_view_module": "@jupyter-widgets/base",
       "_view_module_version": "1.2.0",
       "_view_name": "StyleView",
       "description_width": ""
      }
     },
     "3966e30d40a64fe5be76f8c77e2149c8": {
      "model_module": "@jupyter-widgets/base",
      "model_module_version": "1.2.0",
      "model_name": "LayoutModel",
      "state": {
       "_model_module": "@jupyter-widgets/base",
       "_model_module_version": "1.2.0",
       "_model_name": "LayoutModel",
       "_view_count": null,
       "_view_module": "@jupyter-widgets/base",
       "_view_module_version": "1.2.0",
       "_view_name": "LayoutView",
       "align_content": null,
       "align_items": null,
       "align_self": null,
       "border": null,
       "bottom": null,
       "display": null,
       "flex": null,
       "flex_flow": null,
       "grid_area": null,
       "grid_auto_columns": null,
       "grid_auto_flow": null,
       "grid_auto_rows": null,
       "grid_column": null,
       "grid_gap": null,
       "grid_row": null,
       "grid_template_areas": null,
       "grid_template_columns": null,
       "grid_template_rows": null,
       "height": null,
       "justify_content": null,
       "justify_items": null,
       "left": null,
       "margin": null,
       "max_height": null,
       "max_width": null,
       "min_height": null,
       "min_width": null,
       "object_fit": null,
       "object_position": null,
       "order": null,
       "overflow": null,
       "overflow_x": null,
       "overflow_y": null,
       "padding": null,
       "right": null,
       "top": null,
       "visibility": null,
       "width": null
      }
     },
     "39a21a877f624555a4aa22bece0b3b9c": {
      "model_module": "@jupyter-widgets/base",
      "model_module_version": "1.2.0",
      "model_name": "LayoutModel",
      "state": {
       "_model_module": "@jupyter-widgets/base",
       "_model_module_version": "1.2.0",
       "_model_name": "LayoutModel",
       "_view_count": null,
       "_view_module": "@jupyter-widgets/base",
       "_view_module_version": "1.2.0",
       "_view_name": "LayoutView",
       "align_content": null,
       "align_items": null,
       "align_self": null,
       "border": null,
       "bottom": null,
       "display": null,
       "flex": null,
       "flex_flow": null,
       "grid_area": null,
       "grid_auto_columns": null,
       "grid_auto_flow": null,
       "grid_auto_rows": null,
       "grid_column": null,
       "grid_gap": null,
       "grid_row": null,
       "grid_template_areas": null,
       "grid_template_columns": null,
       "grid_template_rows": null,
       "height": null,
       "justify_content": null,
       "justify_items": null,
       "left": null,
       "margin": null,
       "max_height": null,
       "max_width": null,
       "min_height": null,
       "min_width": null,
       "object_fit": null,
       "object_position": null,
       "order": null,
       "overflow": null,
       "overflow_x": null,
       "overflow_y": null,
       "padding": null,
       "right": null,
       "top": null,
       "visibility": null,
       "width": null
      }
     },
     "3a5fa50437644bd9b0851e2da9dd0639": {
      "model_module": "@jupyter-widgets/controls",
      "model_module_version": "1.5.0",
      "model_name": "HTMLModel",
      "state": {
       "_dom_classes": [],
       "_model_module": "@jupyter-widgets/controls",
       "_model_module_version": "1.5.0",
       "_model_name": "HTMLModel",
       "_view_count": null,
       "_view_module": "@jupyter-widgets/controls",
       "_view_module_version": "1.5.0",
       "_view_name": "HTMLView",
       "description": "",
       "description_tooltip": null,
       "layout": "IPY_MODEL_95eb2834bc034afa8f1c1e39cc391bb8",
       "placeholder": "​",
       "style": "IPY_MODEL_7fce4fef9f9747a1b6390c153dfcf041",
       "value": ""
      }
     },
     "3f2fcc76510f4b4c8680e2442b471d57": {
      "model_module": "@jupyter-widgets/base",
      "model_module_version": "1.2.0",
      "model_name": "LayoutModel",
      "state": {
       "_model_module": "@jupyter-widgets/base",
       "_model_module_version": "1.2.0",
       "_model_name": "LayoutModel",
       "_view_count": null,
       "_view_module": "@jupyter-widgets/base",
       "_view_module_version": "1.2.0",
       "_view_name": "LayoutView",
       "align_content": null,
       "align_items": null,
       "align_self": null,
       "border": null,
       "bottom": null,
       "display": null,
       "flex": null,
       "flex_flow": null,
       "grid_area": null,
       "grid_auto_columns": null,
       "grid_auto_flow": null,
       "grid_auto_rows": null,
       "grid_column": null,
       "grid_gap": null,
       "grid_row": null,
       "grid_template_areas": null,
       "grid_template_columns": null,
       "grid_template_rows": null,
       "height": null,
       "justify_content": null,
       "justify_items": null,
       "left": null,
       "margin": null,
       "max_height": null,
       "max_width": null,
       "min_height": null,
       "min_width": null,
       "object_fit": null,
       "object_position": null,
       "order": null,
       "overflow": null,
       "overflow_x": null,
       "overflow_y": null,
       "padding": null,
       "right": null,
       "top": null,
       "visibility": null,
       "width": null
      }
     },
     "3f467aae663a4d09a4808b2f0f80c8ea": {
      "model_module": "@jupyter-widgets/controls",
      "model_module_version": "1.5.0",
      "model_name": "HTMLModel",
      "state": {
       "_dom_classes": [],
       "_model_module": "@jupyter-widgets/controls",
       "_model_module_version": "1.5.0",
       "_model_name": "HTMLModel",
       "_view_count": null,
       "_view_module": "@jupyter-widgets/controls",
       "_view_module_version": "1.5.0",
       "_view_name": "HTMLView",
       "description": "",
       "description_tooltip": null,
       "layout": "IPY_MODEL_ffb1da6465274b2b9832414ef96b732b",
       "placeholder": "​",
       "style": "IPY_MODEL_195611292f744c028dafe6a095e1c2dd",
       "value": "Downloading: 100%"
      }
     },
     "401fe7f4223a407ea46db86a3ea1390c": {
      "model_module": "@jupyter-widgets/controls",
      "model_module_version": "1.5.0",
      "model_name": "HBoxModel",
      "state": {
       "_dom_classes": [],
       "_model_module": "@jupyter-widgets/controls",
       "_model_module_version": "1.5.0",
       "_model_name": "HBoxModel",
       "_view_count": null,
       "_view_module": "@jupyter-widgets/controls",
       "_view_module_version": "1.5.0",
       "_view_name": "HBoxView",
       "box_style": "",
       "children": [
        "IPY_MODEL_3a5fa50437644bd9b0851e2da9dd0639",
        "IPY_MODEL_9f30e70814d248cca8580d0d204984b9",
        "IPY_MODEL_be753a690b594526bf0233955d0a1180"
       ],
       "layout": "IPY_MODEL_0535f0cefe304b918074a8687720b2c1"
      }
     },
     "43161a6d5b644f47afec0e8b49c09e2d": {
      "model_module": "@jupyter-widgets/controls",
      "model_module_version": "1.5.0",
      "model_name": "FloatProgressModel",
      "state": {
       "_dom_classes": [],
       "_model_module": "@jupyter-widgets/controls",
       "_model_module_version": "1.5.0",
       "_model_name": "FloatProgressModel",
       "_view_count": null,
       "_view_module": "@jupyter-widgets/controls",
       "_view_module_version": "1.5.0",
       "_view_name": "ProgressView",
       "bar_style": "success",
       "description": "",
       "description_tooltip": null,
       "layout": "IPY_MODEL_39a21a877f624555a4aa22bece0b3b9c",
       "max": 734.0,
       "min": 0.0,
       "orientation": "horizontal",
       "style": "IPY_MODEL_11d1a460d9f544dea314ac0d2fd1e9f7",
       "value": 734.0
      }
     },
     "43f8d4ce3351449895ef1e3162311492": {
      "model_module": "@jupyter-widgets/controls",
      "model_module_version": "1.5.0",
      "model_name": "HTMLModel",
      "state": {
       "_dom_classes": [],
       "_model_module": "@jupyter-widgets/controls",
       "_model_module_version": "1.5.0",
       "_model_name": "HTMLModel",
       "_view_count": null,
       "_view_module": "@jupyter-widgets/controls",
       "_view_module_version": "1.5.0",
       "_view_name": "HTMLView",
       "description": "",
       "description_tooltip": null,
       "layout": "IPY_MODEL_d9055759a56b4b8e80d8ac6b000c10e9",
       "placeholder": "​",
       "style": "IPY_MODEL_9b80989fba8f4037b6a4f4a3b36a7e38",
       "value": "Downloading: 100%"
      }
     },
     "468c6e6684b74ac3975233348a311f40": {
      "model_module": "@jupyter-widgets/controls",
      "model_module_version": "1.5.0",
      "model_name": "DescriptionStyleModel",
      "state": {
       "_model_module": "@jupyter-widgets/controls",
       "_model_module_version": "1.5.0",
       "_model_name": "DescriptionStyleModel",
       "_view_count": null,
       "_view_module": "@jupyter-widgets/base",
       "_view_module_version": "1.2.0",
       "_view_name": "StyleView",
       "description_width": ""
      }
     },
     "4788564c9f004c6792b9f1a1ec8547a1": {
      "model_module": "@jupyter-widgets/base",
      "model_module_version": "1.2.0",
      "model_name": "LayoutModel",
      "state": {
       "_model_module": "@jupyter-widgets/base",
       "_model_module_version": "1.2.0",
       "_model_name": "LayoutModel",
       "_view_count": null,
       "_view_module": "@jupyter-widgets/base",
       "_view_module_version": "1.2.0",
       "_view_name": "LayoutView",
       "align_content": null,
       "align_items": null,
       "align_self": null,
       "border": null,
       "bottom": null,
       "display": null,
       "flex": null,
       "flex_flow": null,
       "grid_area": null,
       "grid_auto_columns": null,
       "grid_auto_flow": null,
       "grid_auto_rows": null,
       "grid_column": null,
       "grid_gap": null,
       "grid_row": null,
       "grid_template_areas": null,
       "grid_template_columns": null,
       "grid_template_rows": null,
       "height": null,
       "justify_content": null,
       "justify_items": null,
       "left": null,
       "margin": null,
       "max_height": null,
       "max_width": null,
       "min_height": null,
       "min_width": null,
       "object_fit": null,
       "object_position": null,
       "order": null,
       "overflow": null,
       "overflow_x": null,
       "overflow_y": null,
       "padding": null,
       "right": null,
       "top": null,
       "visibility": null,
       "width": null
      }
     },
     "533624a47b27431bb891809573d22957": {
      "model_module": "@jupyter-widgets/base",
      "model_module_version": "1.2.0",
      "model_name": "LayoutModel",
      "state": {
       "_model_module": "@jupyter-widgets/base",
       "_model_module_version": "1.2.0",
       "_model_name": "LayoutModel",
       "_view_count": null,
       "_view_module": "@jupyter-widgets/base",
       "_view_module_version": "1.2.0",
       "_view_name": "LayoutView",
       "align_content": null,
       "align_items": null,
       "align_self": null,
       "border": null,
       "bottom": null,
       "display": null,
       "flex": null,
       "flex_flow": null,
       "grid_area": null,
       "grid_auto_columns": null,
       "grid_auto_flow": null,
       "grid_auto_rows": null,
       "grid_column": null,
       "grid_gap": null,
       "grid_row": null,
       "grid_template_areas": null,
       "grid_template_columns": null,
       "grid_template_rows": null,
       "height": null,
       "justify_content": null,
       "justify_items": null,
       "left": null,
       "margin": null,
       "max_height": null,
       "max_width": null,
       "min_height": null,
       "min_width": null,
       "object_fit": null,
       "object_position": null,
       "order": null,
       "overflow": null,
       "overflow_x": null,
       "overflow_y": null,
       "padding": null,
       "right": null,
       "top": null,
       "visibility": null,
       "width": null
      }
     },
     "5397800552494eadb1e482b4372f45c5": {
      "model_module": "@jupyter-widgets/controls",
      "model_module_version": "1.5.0",
      "model_name": "ProgressStyleModel",
      "state": {
       "_model_module": "@jupyter-widgets/controls",
       "_model_module_version": "1.5.0",
       "_model_name": "ProgressStyleModel",
       "_view_count": null,
       "_view_module": "@jupyter-widgets/base",
       "_view_module_version": "1.2.0",
       "_view_name": "StyleView",
       "bar_color": null,
       "description_width": ""
      }
     },
     "54b2466573184ce3a067897cd9c5b660": {
      "model_module": "@jupyter-widgets/base",
      "model_module_version": "1.2.0",
      "model_name": "LayoutModel",
      "state": {
       "_model_module": "@jupyter-widgets/base",
       "_model_module_version": "1.2.0",
       "_model_name": "LayoutModel",
       "_view_count": null,
       "_view_module": "@jupyter-widgets/base",
       "_view_module_version": "1.2.0",
       "_view_name": "LayoutView",
       "align_content": null,
       "align_items": null,
       "align_self": null,
       "border": null,
       "bottom": null,
       "display": null,
       "flex": null,
       "flex_flow": null,
       "grid_area": null,
       "grid_auto_columns": null,
       "grid_auto_flow": null,
       "grid_auto_rows": null,
       "grid_column": null,
       "grid_gap": null,
       "grid_row": null,
       "grid_template_areas": null,
       "grid_template_columns": null,
       "grid_template_rows": null,
       "height": null,
       "justify_content": null,
       "justify_items": null,
       "left": null,
       "margin": null,
       "max_height": null,
       "max_width": null,
       "min_height": null,
       "min_width": null,
       "object_fit": null,
       "object_position": null,
       "order": null,
       "overflow": null,
       "overflow_x": null,
       "overflow_y": null,
       "padding": null,
       "right": null,
       "top": null,
       "visibility": null,
       "width": null
      }
     },
     "554e67becebd48b7b4527bb77ae75d10": {
      "model_module": "@jupyter-widgets/controls",
      "model_module_version": "1.5.0",
      "model_name": "HTMLModel",
      "state": {
       "_dom_classes": [],
       "_model_module": "@jupyter-widgets/controls",
       "_model_module_version": "1.5.0",
       "_model_name": "HTMLModel",
       "_view_count": null,
       "_view_module": "@jupyter-widgets/controls",
       "_view_module_version": "1.5.0",
       "_view_name": "HTMLView",
       "description": "",
       "description_tooltip": null,
       "layout": "IPY_MODEL_c8f909ae78934706942ab603c04dc553",
       "placeholder": "​",
       "style": "IPY_MODEL_69a6a945865e47b2bad83efa20d14e4e",
       "value": ""
      }
     },
     "570218a2e56745a589d4c275ba479951": {
      "model_module": "@jupyter-widgets/controls",
      "model_module_version": "1.5.0",
      "model_name": "HTMLModel",
      "state": {
       "_dom_classes": [],
       "_model_module": "@jupyter-widgets/controls",
       "_model_module_version": "1.5.0",
       "_model_name": "HTMLModel",
       "_view_count": null,
       "_view_module": "@jupyter-widgets/controls",
       "_view_module_version": "1.5.0",
       "_view_name": "HTMLView",
       "description": "",
       "description_tooltip": null,
       "layout": "IPY_MODEL_2aacdbf9cbca45a7a35b7500b1656da9",
       "placeholder": "​",
       "style": "IPY_MODEL_6acd6c3e364843cba933ce10c4265cfd",
       "value": "Downloading: 100%"
      }
     },
     "576af392a1864e249929ceac4221dea7": {
      "model_module": "@jupyter-widgets/base",
      "model_module_version": "1.2.0",
      "model_name": "LayoutModel",
      "state": {
       "_model_module": "@jupyter-widgets/base",
       "_model_module_version": "1.2.0",
       "_model_name": "LayoutModel",
       "_view_count": null,
       "_view_module": "@jupyter-widgets/base",
       "_view_module_version": "1.2.0",
       "_view_name": "LayoutView",
       "align_content": null,
       "align_items": null,
       "align_self": null,
       "border": null,
       "bottom": null,
       "display": null,
       "flex": null,
       "flex_flow": null,
       "grid_area": null,
       "grid_auto_columns": null,
       "grid_auto_flow": null,
       "grid_auto_rows": null,
       "grid_column": null,
       "grid_gap": null,
       "grid_row": null,
       "grid_template_areas": null,
       "grid_template_columns": null,
       "grid_template_rows": null,
       "height": null,
       "justify_content": null,
       "justify_items": null,
       "left": null,
       "margin": null,
       "max_height": null,
       "max_width": null,
       "min_height": null,
       "min_width": null,
       "object_fit": null,
       "object_position": null,
       "order": null,
       "overflow": null,
       "overflow_x": null,
       "overflow_y": null,
       "padding": null,
       "right": null,
       "top": null,
       "visibility": null,
       "width": null
      }
     },
     "581c6be19b6e4b11b67b45a86745c967": {
      "model_module": "@jupyter-widgets/base",
      "model_module_version": "1.2.0",
      "model_name": "LayoutModel",
      "state": {
       "_model_module": "@jupyter-widgets/base",
       "_model_module_version": "1.2.0",
       "_model_name": "LayoutModel",
       "_view_count": null,
       "_view_module": "@jupyter-widgets/base",
       "_view_module_version": "1.2.0",
       "_view_name": "LayoutView",
       "align_content": null,
       "align_items": null,
       "align_self": null,
       "border": null,
       "bottom": null,
       "display": null,
       "flex": null,
       "flex_flow": null,
       "grid_area": null,
       "grid_auto_columns": null,
       "grid_auto_flow": null,
       "grid_auto_rows": null,
       "grid_column": null,
       "grid_gap": null,
       "grid_row": null,
       "grid_template_areas": null,
       "grid_template_columns": null,
       "grid_template_rows": null,
       "height": null,
       "justify_content": null,
       "justify_items": null,
       "left": null,
       "margin": null,
       "max_height": null,
       "max_width": null,
       "min_height": null,
       "min_width": null,
       "object_fit": null,
       "object_position": null,
       "order": null,
       "overflow": null,
       "overflow_x": null,
       "overflow_y": null,
       "padding": null,
       "right": null,
       "top": null,
       "visibility": null,
       "width": null
      }
     },
     "64386009bb684020b106c4c4aae1ba65": {
      "model_module": "@jupyter-widgets/base",
      "model_module_version": "1.2.0",
      "model_name": "LayoutModel",
      "state": {
       "_model_module": "@jupyter-widgets/base",
       "_model_module_version": "1.2.0",
       "_model_name": "LayoutModel",
       "_view_count": null,
       "_view_module": "@jupyter-widgets/base",
       "_view_module_version": "1.2.0",
       "_view_name": "LayoutView",
       "align_content": null,
       "align_items": null,
       "align_self": null,
       "border": null,
       "bottom": null,
       "display": null,
       "flex": null,
       "flex_flow": null,
       "grid_area": null,
       "grid_auto_columns": null,
       "grid_auto_flow": null,
       "grid_auto_rows": null,
       "grid_column": null,
       "grid_gap": null,
       "grid_row": null,
       "grid_template_areas": null,
       "grid_template_columns": null,
       "grid_template_rows": null,
       "height": null,
       "justify_content": null,
       "justify_items": null,
       "left": null,
       "margin": null,
       "max_height": null,
       "max_width": null,
       "min_height": null,
       "min_width": null,
       "object_fit": null,
       "object_position": null,
       "order": null,
       "overflow": null,
       "overflow_x": null,
       "overflow_y": null,
       "padding": null,
       "right": null,
       "top": null,
       "visibility": null,
       "width": null
      }
     },
     "65977921ae32425b9758b035e50060a3": {
      "model_module": "@jupyter-widgets/controls",
      "model_module_version": "1.5.0",
      "model_name": "ProgressStyleModel",
      "state": {
       "_model_module": "@jupyter-widgets/controls",
       "_model_module_version": "1.5.0",
       "_model_name": "ProgressStyleModel",
       "_view_count": null,
       "_view_module": "@jupyter-widgets/base",
       "_view_module_version": "1.2.0",
       "_view_name": "StyleView",
       "bar_color": null,
       "description_width": ""
      }
     },
     "67136a26dfcf4dfa930d42c6d29df8b7": {
      "model_module": "@jupyter-widgets/controls",
      "model_module_version": "1.5.0",
      "model_name": "DescriptionStyleModel",
      "state": {
       "_model_module": "@jupyter-widgets/controls",
       "_model_module_version": "1.5.0",
       "_model_name": "DescriptionStyleModel",
       "_view_count": null,
       "_view_module": "@jupyter-widgets/base",
       "_view_module_version": "1.2.0",
       "_view_name": "StyleView",
       "description_width": ""
      }
     },
     "69a6a945865e47b2bad83efa20d14e4e": {
      "model_module": "@jupyter-widgets/controls",
      "model_module_version": "1.5.0",
      "model_name": "DescriptionStyleModel",
      "state": {
       "_model_module": "@jupyter-widgets/controls",
       "_model_module_version": "1.5.0",
       "_model_name": "DescriptionStyleModel",
       "_view_count": null,
       "_view_module": "@jupyter-widgets/base",
       "_view_module_version": "1.2.0",
       "_view_name": "StyleView",
       "description_width": ""
      }
     },
     "69cdd78da4ff421993d4cc7e2cf2862f": {
      "model_module": "@jupyter-widgets/controls",
      "model_module_version": "1.5.0",
      "model_name": "DescriptionStyleModel",
      "state": {
       "_model_module": "@jupyter-widgets/controls",
       "_model_module_version": "1.5.0",
       "_model_name": "DescriptionStyleModel",
       "_view_count": null,
       "_view_module": "@jupyter-widgets/base",
       "_view_module_version": "1.2.0",
       "_view_name": "StyleView",
       "description_width": ""
      }
     },
     "6acd6c3e364843cba933ce10c4265cfd": {
      "model_module": "@jupyter-widgets/controls",
      "model_module_version": "1.5.0",
      "model_name": "DescriptionStyleModel",
      "state": {
       "_model_module": "@jupyter-widgets/controls",
       "_model_module_version": "1.5.0",
       "_model_name": "DescriptionStyleModel",
       "_view_count": null,
       "_view_module": "@jupyter-widgets/base",
       "_view_module_version": "1.2.0",
       "_view_name": "StyleView",
       "description_width": ""
      }
     },
     "6d50f0d504e8468ca45f5eec7e193125": {
      "model_module": "@jupyter-widgets/base",
      "model_module_version": "1.2.0",
      "model_name": "LayoutModel",
      "state": {
       "_model_module": "@jupyter-widgets/base",
       "_model_module_version": "1.2.0",
       "_model_name": "LayoutModel",
       "_view_count": null,
       "_view_module": "@jupyter-widgets/base",
       "_view_module_version": "1.2.0",
       "_view_name": "LayoutView",
       "align_content": null,
       "align_items": null,
       "align_self": null,
       "border": null,
       "bottom": null,
       "display": null,
       "flex": null,
       "flex_flow": null,
       "grid_area": null,
       "grid_auto_columns": null,
       "grid_auto_flow": null,
       "grid_auto_rows": null,
       "grid_column": null,
       "grid_gap": null,
       "grid_row": null,
       "grid_template_areas": null,
       "grid_template_columns": null,
       "grid_template_rows": null,
       "height": null,
       "justify_content": null,
       "justify_items": null,
       "left": null,
       "margin": null,
       "max_height": null,
       "max_width": null,
       "min_height": null,
       "min_width": null,
       "object_fit": null,
       "object_position": null,
       "order": null,
       "overflow": null,
       "overflow_x": null,
       "overflow_y": null,
       "padding": null,
       "right": null,
       "top": null,
       "visibility": null,
       "width": null
      }
     },
     "6fa09293422b4dff9eee112d6ab6c877": {
      "model_module": "@jupyter-widgets/controls",
      "model_module_version": "1.5.0",
      "model_name": "FloatProgressModel",
      "state": {
       "_dom_classes": [],
       "_model_module": "@jupyter-widgets/controls",
       "_model_module_version": "1.5.0",
       "_model_name": "FloatProgressModel",
       "_view_count": null,
       "_view_module": "@jupyter-widgets/controls",
       "_view_module_version": "1.5.0",
       "_view_name": "ProgressView",
       "bar_style": "success",
       "description": "",
       "description_tooltip": null,
       "layout": "IPY_MODEL_b44723f511b54093a4c30ff8c088528d",
       "max": 25.0,
       "min": 0.0,
       "orientation": "horizontal",
       "style": "IPY_MODEL_65977921ae32425b9758b035e50060a3",
       "value": 25.0
      }
     },
     "7099674a91b24ff8906cea42fca2c0bd": {
      "model_module": "@jupyter-widgets/controls",
      "model_module_version": "1.5.0",
      "model_name": "HBoxModel",
      "state": {
       "_dom_classes": [],
       "_model_module": "@jupyter-widgets/controls",
       "_model_module_version": "1.5.0",
       "_model_name": "HBoxModel",
       "_view_count": null,
       "_view_module": "@jupyter-widgets/controls",
       "_view_module_version": "1.5.0",
       "_view_name": "HBoxView",
       "box_style": "",
       "children": [
        "IPY_MODEL_554e67becebd48b7b4527bb77ae75d10",
        "IPY_MODEL_bb78c05d04bb449d8da74d15bc1d7446",
        "IPY_MODEL_14203862449f4fe598e8f8487ef81f62"
       ],
       "layout": "IPY_MODEL_73c2b68ba3674d0f97678e6e50e52112"
      }
     },
     "70d82c14dbdc4c2789edaec591aa0632": {
      "model_module": "@jupyter-widgets/controls",
      "model_module_version": "1.5.0",
      "model_name": "HTMLModel",
      "state": {
       "_dom_classes": [],
       "_model_module": "@jupyter-widgets/controls",
       "_model_module_version": "1.5.0",
       "_model_name": "HTMLModel",
       "_view_count": null,
       "_view_module": "@jupyter-widgets/controls",
       "_view_module_version": "1.5.0",
       "_view_name": "HTMLView",
       "description": "",
       "description_tooltip": null,
       "layout": "IPY_MODEL_3966e30d40a64fe5be76f8c77e2149c8",
       "placeholder": "​",
       "style": "IPY_MODEL_fd67e277987c49888c594306aa85a70c",
       "value": ""
      }
     },
     "70eccc1a946b4fdab166fe0576d15967": {
      "model_module": "@jupyter-widgets/controls",
      "model_module_version": "1.5.0",
      "model_name": "HTMLModel",
      "state": {
       "_dom_classes": [],
       "_model_module": "@jupyter-widgets/controls",
       "_model_module_version": "1.5.0",
       "_model_name": "HTMLModel",
       "_view_count": null,
       "_view_module": "@jupyter-widgets/controls",
       "_view_module_version": "1.5.0",
       "_view_name": "HTMLView",
       "description": "",
       "description_tooltip": null,
       "layout": "IPY_MODEL_92007a1d292e4b5587cc346e9b05610d",
       "placeholder": "​",
       "style": "IPY_MODEL_27212ef7c255490b83a7e471e211cd8d",
       "value": " 2.24G/2.24G [00:55&lt;00:00, 40.7MB/s]"
      }
     },
     "73521b20adef4117b42d43f3e10d0654": {
      "model_module": "@jupyter-widgets/controls",
      "model_module_version": "1.5.0",
      "model_name": "HBoxModel",
      "state": {
       "_dom_classes": [],
       "_model_module": "@jupyter-widgets/controls",
       "_model_module_version": "1.5.0",
       "_model_name": "HBoxModel",
       "_view_count": null,
       "_view_module": "@jupyter-widgets/controls",
       "_view_module_version": "1.5.0",
       "_view_name": "HBoxView",
       "box_style": "",
       "children": [
        "IPY_MODEL_2d722dc8a362472c86dd5d2e7c1b9a22",
        "IPY_MODEL_43161a6d5b644f47afec0e8b49c09e2d",
        "IPY_MODEL_7646e55e9515426fbafc92b3b0c8c727"
       ],
       "layout": "IPY_MODEL_0992349aeda547f8b258928fe876aa1a"
      }
     },
     "73c2b68ba3674d0f97678e6e50e52112": {
      "model_module": "@jupyter-widgets/base",
      "model_module_version": "1.2.0",
      "model_name": "LayoutModel",
      "state": {
       "_model_module": "@jupyter-widgets/base",
       "_model_module_version": "1.2.0",
       "_model_name": "LayoutModel",
       "_view_count": null,
       "_view_module": "@jupyter-widgets/base",
       "_view_module_version": "1.2.0",
       "_view_name": "LayoutView",
       "align_content": null,
       "align_items": null,
       "align_self": null,
       "border": null,
       "bottom": null,
       "display": null,
       "flex": null,
       "flex_flow": null,
       "grid_area": null,
       "grid_auto_columns": null,
       "grid_auto_flow": null,
       "grid_auto_rows": null,
       "grid_column": null,
       "grid_gap": null,
       "grid_row": null,
       "grid_template_areas": null,
       "grid_template_columns": null,
       "grid_template_rows": null,
       "height": null,
       "justify_content": null,
       "justify_items": null,
       "left": null,
       "margin": null,
       "max_height": null,
       "max_width": null,
       "min_height": null,
       "min_width": null,
       "object_fit": null,
       "object_position": null,
       "order": null,
       "overflow": null,
       "overflow_x": null,
       "overflow_y": null,
       "padding": null,
       "right": null,
       "top": null,
       "visibility": null,
       "width": null
      }
     },
     "7646e55e9515426fbafc92b3b0c8c727": {
      "model_module": "@jupyter-widgets/controls",
      "model_module_version": "1.5.0",
      "model_name": "HTMLModel",
      "state": {
       "_dom_classes": [],
       "_model_module": "@jupyter-widgets/controls",
       "_model_module_version": "1.5.0",
       "_model_name": "HTMLModel",
       "_view_count": null,
       "_view_module": "@jupyter-widgets/controls",
       "_view_module_version": "1.5.0",
       "_view_name": "HTMLView",
       "description": "",
       "description_tooltip": null,
       "layout": "IPY_MODEL_a0c4768689104bf0a8d6f5f7fae9fdd5",
       "placeholder": "​",
       "style": "IPY_MODEL_b4706eddd91d42a491ed00111b5b1e76",
       "value": " 734/734 [00:00&lt;00:00, 23.0kB/s]"
      }
     },
     "77a70cfd336a42e2b6ba5209ba725c29": {
      "model_module": "@jupyter-widgets/base",
      "model_module_version": "1.2.0",
      "model_name": "LayoutModel",
      "state": {
       "_model_module": "@jupyter-widgets/base",
       "_model_module_version": "1.2.0",
       "_model_name": "LayoutModel",
       "_view_count": null,
       "_view_module": "@jupyter-widgets/base",
       "_view_module_version": "1.2.0",
       "_view_name": "LayoutView",
       "align_content": null,
       "align_items": null,
       "align_self": null,
       "border": null,
       "bottom": null,
       "display": null,
       "flex": null,
       "flex_flow": null,
       "grid_area": null,
       "grid_auto_columns": null,
       "grid_auto_flow": null,
       "grid_auto_rows": null,
       "grid_column": null,
       "grid_gap": null,
       "grid_row": null,
       "grid_template_areas": null,
       "grid_template_columns": null,
       "grid_template_rows": null,
       "height": null,
       "justify_content": null,
       "justify_items": null,
       "left": null,
       "margin": null,
       "max_height": null,
       "max_width": null,
       "min_height": null,
       "min_width": null,
       "object_fit": null,
       "object_position": null,
       "order": null,
       "overflow": null,
       "overflow_x": null,
       "overflow_y": null,
       "padding": null,
       "right": null,
       "top": null,
       "visibility": null,
       "width": null
      }
     },
     "798918a32f394b5480de99a0e6931089": {
      "model_module": "@jupyter-widgets/base",
      "model_module_version": "1.2.0",
      "model_name": "LayoutModel",
      "state": {
       "_model_module": "@jupyter-widgets/base",
       "_model_module_version": "1.2.0",
       "_model_name": "LayoutModel",
       "_view_count": null,
       "_view_module": "@jupyter-widgets/base",
       "_view_module_version": "1.2.0",
       "_view_name": "LayoutView",
       "align_content": null,
       "align_items": null,
       "align_self": null,
       "border": null,
       "bottom": null,
       "display": null,
       "flex": null,
       "flex_flow": null,
       "grid_area": null,
       "grid_auto_columns": null,
       "grid_auto_flow": null,
       "grid_auto_rows": null,
       "grid_column": null,
       "grid_gap": null,
       "grid_row": null,
       "grid_template_areas": null,
       "grid_template_columns": null,
       "grid_template_rows": null,
       "height": null,
       "justify_content": null,
       "justify_items": null,
       "left": null,
       "margin": null,
       "max_height": null,
       "max_width": null,
       "min_height": null,
       "min_width": null,
       "object_fit": null,
       "object_position": null,
       "order": null,
       "overflow": null,
       "overflow_x": null,
       "overflow_y": null,
       "padding": null,
       "right": null,
       "top": null,
       "visibility": null,
       "width": "20px"
      }
     },
     "7b11579da8bc42db9f3bb84bcaa7137c": {
      "model_module": "@jupyter-widgets/base",
      "model_module_version": "1.2.0",
      "model_name": "LayoutModel",
      "state": {
       "_model_module": "@jupyter-widgets/base",
       "_model_module_version": "1.2.0",
       "_model_name": "LayoutModel",
       "_view_count": null,
       "_view_module": "@jupyter-widgets/base",
       "_view_module_version": "1.2.0",
       "_view_name": "LayoutView",
       "align_content": null,
       "align_items": null,
       "align_self": null,
       "border": null,
       "bottom": null,
       "display": null,
       "flex": null,
       "flex_flow": null,
       "grid_area": null,
       "grid_auto_columns": null,
       "grid_auto_flow": null,
       "grid_auto_rows": null,
       "grid_column": null,
       "grid_gap": null,
       "grid_row": null,
       "grid_template_areas": null,
       "grid_template_columns": null,
       "grid_template_rows": null,
       "height": null,
       "justify_content": null,
       "justify_items": null,
       "left": null,
       "margin": null,
       "max_height": null,
       "max_width": null,
       "min_height": null,
       "min_width": null,
       "object_fit": null,
       "object_position": null,
       "order": null,
       "overflow": null,
       "overflow_x": null,
       "overflow_y": null,
       "padding": null,
       "right": null,
       "top": null,
       "visibility": null,
       "width": null
      }
     },
     "7e7c6ca14e87431ea8cde78978f71a92": {
      "model_module": "@jupyter-widgets/base",
      "model_module_version": "1.2.0",
      "model_name": "LayoutModel",
      "state": {
       "_model_module": "@jupyter-widgets/base",
       "_model_module_version": "1.2.0",
       "_model_name": "LayoutModel",
       "_view_count": null,
       "_view_module": "@jupyter-widgets/base",
       "_view_module_version": "1.2.0",
       "_view_name": "LayoutView",
       "align_content": null,
       "align_items": null,
       "align_self": null,
       "border": null,
       "bottom": null,
       "display": null,
       "flex": null,
       "flex_flow": null,
       "grid_area": null,
       "grid_auto_columns": null,
       "grid_auto_flow": null,
       "grid_auto_rows": null,
       "grid_column": null,
       "grid_gap": null,
       "grid_row": null,
       "grid_template_areas": null,
       "grid_template_columns": null,
       "grid_template_rows": null,
       "height": null,
       "justify_content": null,
       "justify_items": null,
       "left": null,
       "margin": null,
       "max_height": null,
       "max_width": null,
       "min_height": null,
       "min_width": null,
       "object_fit": null,
       "object_position": null,
       "order": null,
       "overflow": null,
       "overflow_x": null,
       "overflow_y": null,
       "padding": null,
       "right": null,
       "top": null,
       "visibility": null,
       "width": null
      }
     },
     "7fce4fef9f9747a1b6390c153dfcf041": {
      "model_module": "@jupyter-widgets/controls",
      "model_module_version": "1.5.0",
      "model_name": "DescriptionStyleModel",
      "state": {
       "_model_module": "@jupyter-widgets/controls",
       "_model_module_version": "1.5.0",
       "_model_name": "DescriptionStyleModel",
       "_view_count": null,
       "_view_module": "@jupyter-widgets/base",
       "_view_module_version": "1.2.0",
       "_view_name": "StyleView",
       "description_width": ""
      }
     },
     "8045059eb60c42419cf2d7ed6a0143fd": {
      "model_module": "@jupyter-widgets/controls",
      "model_module_version": "1.5.0",
      "model_name": "HTMLModel",
      "state": {
       "_dom_classes": [],
       "_model_module": "@jupyter-widgets/controls",
       "_model_module_version": "1.5.0",
       "_model_name": "HTMLModel",
       "_view_count": null,
       "_view_module": "@jupyter-widgets/controls",
       "_view_module_version": "1.5.0",
       "_view_name": "HTMLView",
       "description": "",
       "description_tooltip": null,
       "layout": "IPY_MODEL_a38f2aee89b04d358cd3abecc2396882",
       "placeholder": "​",
       "style": "IPY_MODEL_0c2f7756ff4448d09a0737578229c4b3",
       "value": " 5.07M/5.07M [00:00&lt;00:00, 7.76MB/s]"
      }
     },
     "80789e9236fd40389d4e6d3c4a7c5c68": {
      "model_module": "@jupyter-widgets/base",
      "model_module_version": "1.2.0",
      "model_name": "LayoutModel",
      "state": {
       "_model_module": "@jupyter-widgets/base",
       "_model_module_version": "1.2.0",
       "_model_name": "LayoutModel",
       "_view_count": null,
       "_view_module": "@jupyter-widgets/base",
       "_view_module_version": "1.2.0",
       "_view_name": "LayoutView",
       "align_content": null,
       "align_items": null,
       "align_self": null,
       "border": null,
       "bottom": null,
       "display": null,
       "flex": null,
       "flex_flow": null,
       "grid_area": null,
       "grid_auto_columns": null,
       "grid_auto_flow": null,
       "grid_auto_rows": null,
       "grid_column": null,
       "grid_gap": null,
       "grid_row": null,
       "grid_template_areas": null,
       "grid_template_columns": null,
       "grid_template_rows": null,
       "height": null,
       "justify_content": null,
       "justify_items": null,
       "left": null,
       "margin": null,
       "max_height": null,
       "max_width": null,
       "min_height": null,
       "min_width": null,
       "object_fit": null,
       "object_position": null,
       "order": null,
       "overflow": null,
       "overflow_x": null,
       "overflow_y": null,
       "padding": null,
       "right": null,
       "top": null,
       "visibility": null,
       "width": null
      }
     },
     "80a4c01d0a3c49819e6fc9e6c25d5e24": {
      "model_module": "@jupyter-widgets/controls",
      "model_module_version": "1.5.0",
      "model_name": "HTMLModel",
      "state": {
       "_dom_classes": [],
       "_model_module": "@jupyter-widgets/controls",
       "_model_module_version": "1.5.0",
       "_model_name": "HTMLModel",
       "_view_count": null,
       "_view_module": "@jupyter-widgets/controls",
       "_view_module_version": "1.5.0",
       "_view_name": "HTMLView",
       "description": "",
       "description_tooltip": null,
       "layout": "IPY_MODEL_14f3c81271d54cf689438885cfacefa3",
       "placeholder": "​",
       "style": "IPY_MODEL_87aac326a95b4d349dc7414f087d411e",
       "value": "Downloading: 100%"
      }
     },
     "83fd316ba7a54c04b8e968ef17320754": {
      "model_module": "@jupyter-widgets/base",
      "model_module_version": "1.2.0",
      "model_name": "LayoutModel",
      "state": {
       "_model_module": "@jupyter-widgets/base",
       "_model_module_version": "1.2.0",
       "_model_name": "LayoutModel",
       "_view_count": null,
       "_view_module": "@jupyter-widgets/base",
       "_view_module_version": "1.2.0",
       "_view_name": "LayoutView",
       "align_content": null,
       "align_items": null,
       "align_self": null,
       "border": null,
       "bottom": null,
       "display": null,
       "flex": null,
       "flex_flow": null,
       "grid_area": null,
       "grid_auto_columns": null,
       "grid_auto_flow": null,
       "grid_auto_rows": null,
       "grid_column": null,
       "grid_gap": null,
       "grid_row": null,
       "grid_template_areas": null,
       "grid_template_columns": null,
       "grid_template_rows": null,
       "height": null,
       "justify_content": null,
       "justify_items": null,
       "left": null,
       "margin": null,
       "max_height": null,
       "max_width": null,
       "min_height": null,
       "min_width": null,
       "object_fit": null,
       "object_position": null,
       "order": null,
       "overflow": null,
       "overflow_x": null,
       "overflow_y": null,
       "padding": null,
       "right": null,
       "top": null,
       "visibility": null,
       "width": null
      }
     },
     "87aac326a95b4d349dc7414f087d411e": {
      "model_module": "@jupyter-widgets/controls",
      "model_module_version": "1.5.0",
      "model_name": "DescriptionStyleModel",
      "state": {
       "_model_module": "@jupyter-widgets/controls",
       "_model_module_version": "1.5.0",
       "_model_name": "DescriptionStyleModel",
       "_view_count": null,
       "_view_module": "@jupyter-widgets/base",
       "_view_module_version": "1.2.0",
       "_view_name": "StyleView",
       "description_width": ""
      }
     },
     "89d3793bb0df4e97b055e2a87d723073": {
      "model_module": "@jupyter-widgets/controls",
      "model_module_version": "1.5.0",
      "model_name": "FloatProgressModel",
      "state": {
       "_dom_classes": [],
       "_model_module": "@jupyter-widgets/controls",
       "_model_module_version": "1.5.0",
       "_model_name": "FloatProgressModel",
       "_view_count": null,
       "_view_module": "@jupyter-widgets/controls",
       "_view_module_version": "1.5.0",
       "_view_name": "ProgressView",
       "bar_style": "success",
       "description": "",
       "description_tooltip": null,
       "layout": "IPY_MODEL_9857d16b24484da08d80717c7ccac289",
       "max": 5048.0,
       "min": 0.0,
       "orientation": "horizontal",
       "style": "IPY_MODEL_a7acd8ee63354cac924a9d5b5df9b107",
       "value": 5048.0
      }
     },
     "8cfb0edeafe846ea85bb7c1d8ba38f75": {
      "model_module": "@jupyter-widgets/controls",
      "model_module_version": "1.5.0",
      "model_name": "HTMLModel",
      "state": {
       "_dom_classes": [],
       "_model_module": "@jupyter-widgets/controls",
       "_model_module_version": "1.5.0",
       "_model_name": "HTMLModel",
       "_view_count": null,
       "_view_module": "@jupyter-widgets/controls",
       "_view_module_version": "1.5.0",
       "_view_name": "HTMLView",
       "description": "",
       "description_tooltip": null,
       "layout": "IPY_MODEL_aae55f87ff3f4f3e971e9f05daa78d8d",
       "placeholder": "​",
       "style": "IPY_MODEL_cdb0cd6be0c14ca1bd3b779d17d125fc",
       "value": " 25.0/25.0 [00:00&lt;00:00, 797B/s]"
      }
     },
     "8d051bca453f40c6aa7599f13b708d8a": {
      "model_module": "@jupyter-widgets/controls",
      "model_module_version": "1.5.0",
      "model_name": "HTMLModel",
      "state": {
       "_dom_classes": [],
       "_model_module": "@jupyter-widgets/controls",
       "_model_module_version": "1.5.0",
       "_model_name": "HTMLModel",
       "_view_count": null,
       "_view_module": "@jupyter-widgets/controls",
       "_view_module_version": "1.5.0",
       "_view_name": "HTMLView",
       "description": "",
       "description_tooltip": null,
       "layout": "IPY_MODEL_80789e9236fd40389d4e6d3c4a7c5c68",
       "placeholder": "​",
       "style": "IPY_MODEL_c62977920b5f4715b6a1ec0a27a106b9",
       "value": " 2.47k/2.47k [00:00&lt;00:00, 72.5kB/s]"
      }
     },
     "90b82b3509f14f7eb3c763eb3a1a5c50": {
      "model_module": "@jupyter-widgets/controls",
      "model_module_version": "1.5.0",
      "model_name": "HBoxModel",
      "state": {
       "_dom_classes": [],
       "_model_module": "@jupyter-widgets/controls",
       "_model_module_version": "1.5.0",
       "_model_name": "HBoxModel",
       "_view_count": null,
       "_view_module": "@jupyter-widgets/controls",
       "_view_module_version": "1.5.0",
       "_view_name": "HBoxView",
       "box_style": "",
       "children": [
        "IPY_MODEL_570218a2e56745a589d4c275ba479951",
        "IPY_MODEL_08f3559a27564812a989f6e8dd774f42",
        "IPY_MODEL_bc603e1ed5f543c584071c41980e1bb4"
       ],
       "layout": "IPY_MODEL_9d8539c576f1441e8eede42b99f808e5"
      }
     },
     "9128facce5564282b0d651e5ea9dca27": {
      "model_module": "@jupyter-widgets/controls",
      "model_module_version": "1.5.0",
      "model_name": "HBoxModel",
      "state": {
       "_dom_classes": [],
       "_model_module": "@jupyter-widgets/controls",
       "_model_module_version": "1.5.0",
       "_model_name": "HBoxModel",
       "_view_count": null,
       "_view_module": "@jupyter-widgets/controls",
       "_view_module_version": "1.5.0",
       "_view_name": "HBoxView",
       "box_style": "",
       "children": [
        "IPY_MODEL_43f8d4ce3351449895ef1e3162311492",
        "IPY_MODEL_15f1040ab76247ddaa5edca8f53ab28f",
        "IPY_MODEL_de4ad4f86fa0493587cb1e085594358b"
       ],
       "layout": "IPY_MODEL_83fd316ba7a54c04b8e968ef17320754"
      }
     },
     "92007a1d292e4b5587cc346e9b05610d": {
      "model_module": "@jupyter-widgets/base",
      "model_module_version": "1.2.0",
      "model_name": "LayoutModel",
      "state": {
       "_model_module": "@jupyter-widgets/base",
       "_model_module_version": "1.2.0",
       "_model_name": "LayoutModel",
       "_view_count": null,
       "_view_module": "@jupyter-widgets/base",
       "_view_module_version": "1.2.0",
       "_view_name": "LayoutView",
       "align_content": null,
       "align_items": null,
       "align_self": null,
       "border": null,
       "bottom": null,
       "display": null,
       "flex": null,
       "flex_flow": null,
       "grid_area": null,
       "grid_auto_columns": null,
       "grid_auto_flow": null,
       "grid_auto_rows": null,
       "grid_column": null,
       "grid_gap": null,
       "grid_row": null,
       "grid_template_areas": null,
       "grid_template_columns": null,
       "grid_template_rows": null,
       "height": null,
       "justify_content": null,
       "justify_items": null,
       "left": null,
       "margin": null,
       "max_height": null,
       "max_width": null,
       "min_height": null,
       "min_width": null,
       "object_fit": null,
       "object_position": null,
       "order": null,
       "overflow": null,
       "overflow_x": null,
       "overflow_y": null,
       "padding": null,
       "right": null,
       "top": null,
       "visibility": null,
       "width": null
      }
     },
     "93c431d88b8f424db4ce57db8e7a9c96": {
      "model_module": "@jupyter-widgets/controls",
      "model_module_version": "1.5.0",
      "model_name": "FloatProgressModel",
      "state": {
       "_dom_classes": [],
       "_model_module": "@jupyter-widgets/controls",
       "_model_module_version": "1.5.0",
       "_model_name": "FloatProgressModel",
       "_view_count": null,
       "_view_module": "@jupyter-widgets/controls",
       "_view_module_version": "1.5.0",
       "_view_name": "ProgressView",
       "bar_style": "success",
       "description": "",
       "description_tooltip": null,
       "layout": "IPY_MODEL_6d50f0d504e8468ca45f5eec7e193125",
       "max": 2471.0,
       "min": 0.0,
       "orientation": "horizontal",
       "style": "IPY_MODEL_5397800552494eadb1e482b4372f45c5",
       "value": 2471.0
      }
     },
     "95eb2834bc034afa8f1c1e39cc391bb8": {
      "model_module": "@jupyter-widgets/base",
      "model_module_version": "1.2.0",
      "model_name": "LayoutModel",
      "state": {
       "_model_module": "@jupyter-widgets/base",
       "_model_module_version": "1.2.0",
       "_model_name": "LayoutModel",
       "_view_count": null,
       "_view_module": "@jupyter-widgets/base",
       "_view_module_version": "1.2.0",
       "_view_name": "LayoutView",
       "align_content": null,
       "align_items": null,
       "align_self": null,
       "border": null,
       "bottom": null,
       "display": null,
       "flex": null,
       "flex_flow": null,
       "grid_area": null,
       "grid_auto_columns": null,
       "grid_auto_flow": null,
       "grid_auto_rows": null,
       "grid_column": null,
       "grid_gap": null,
       "grid_row": null,
       "grid_template_areas": null,
       "grid_template_columns": null,
       "grid_template_rows": null,
       "height": null,
       "justify_content": null,
       "justify_items": null,
       "left": null,
       "margin": null,
       "max_height": null,
       "max_width": null,
       "min_height": null,
       "min_width": null,
       "object_fit": null,
       "object_position": null,
       "order": null,
       "overflow": null,
       "overflow_x": null,
       "overflow_y": null,
       "padding": null,
       "right": null,
       "top": null,
       "visibility": null,
       "width": null
      }
     },
     "9857d16b24484da08d80717c7ccac289": {
      "model_module": "@jupyter-widgets/base",
      "model_module_version": "1.2.0",
      "model_name": "LayoutModel",
      "state": {
       "_model_module": "@jupyter-widgets/base",
       "_model_module_version": "1.2.0",
       "_model_name": "LayoutModel",
       "_view_count": null,
       "_view_module": "@jupyter-widgets/base",
       "_view_module_version": "1.2.0",
       "_view_name": "LayoutView",
       "align_content": null,
       "align_items": null,
       "align_self": null,
       "border": null,
       "bottom": null,
       "display": null,
       "flex": null,
       "flex_flow": null,
       "grid_area": null,
       "grid_auto_columns": null,
       "grid_auto_flow": null,
       "grid_auto_rows": null,
       "grid_column": null,
       "grid_gap": null,
       "grid_row": null,
       "grid_template_areas": null,
       "grid_template_columns": null,
       "grid_template_rows": null,
       "height": null,
       "justify_content": null,
       "justify_items": null,
       "left": null,
       "margin": null,
       "max_height": null,
       "max_width": null,
       "min_height": null,
       "min_width": null,
       "object_fit": null,
       "object_position": null,
       "order": null,
       "overflow": null,
       "overflow_x": null,
       "overflow_y": null,
       "padding": null,
       "right": null,
       "top": null,
       "visibility": null,
       "width": null
      }
     },
     "99a95b4dead943f5a79df2daf188d771": {
      "model_module": "@jupyter-widgets/controls",
      "model_module_version": "1.5.0",
      "model_name": "ProgressStyleModel",
      "state": {
       "_model_module": "@jupyter-widgets/controls",
       "_model_module_version": "1.5.0",
       "_model_name": "ProgressStyleModel",
       "_view_count": null,
       "_view_module": "@jupyter-widgets/base",
       "_view_module_version": "1.2.0",
       "_view_name": "StyleView",
       "bar_color": null,
       "description_width": ""
      }
     },
     "9b80989fba8f4037b6a4f4a3b36a7e38": {
      "model_module": "@jupyter-widgets/controls",
      "model_module_version": "1.5.0",
      "model_name": "DescriptionStyleModel",
      "state": {
       "_model_module": "@jupyter-widgets/controls",
       "_model_module_version": "1.5.0",
       "_model_name": "DescriptionStyleModel",
       "_view_count": null,
       "_view_module": "@jupyter-widgets/base",
       "_view_module_version": "1.2.0",
       "_view_name": "StyleView",
       "description_width": ""
      }
     },
     "9d8539c576f1441e8eede42b99f808e5": {
      "model_module": "@jupyter-widgets/base",
      "model_module_version": "1.2.0",
      "model_name": "LayoutModel",
      "state": {
       "_model_module": "@jupyter-widgets/base",
       "_model_module_version": "1.2.0",
       "_model_name": "LayoutModel",
       "_view_count": null,
       "_view_module": "@jupyter-widgets/base",
       "_view_module_version": "1.2.0",
       "_view_name": "LayoutView",
       "align_content": null,
       "align_items": null,
       "align_self": null,
       "border": null,
       "bottom": null,
       "display": null,
       "flex": null,
       "flex_flow": null,
       "grid_area": null,
       "grid_auto_columns": null,
       "grid_auto_flow": null,
       "grid_auto_rows": null,
       "grid_column": null,
       "grid_gap": null,
       "grid_row": null,
       "grid_template_areas": null,
       "grid_template_columns": null,
       "grid_template_rows": null,
       "height": null,
       "justify_content": null,
       "justify_items": null,
       "left": null,
       "margin": null,
       "max_height": null,
       "max_width": null,
       "min_height": null,
       "min_width": null,
       "object_fit": null,
       "object_position": null,
       "order": null,
       "overflow": null,
       "overflow_x": null,
       "overflow_y": null,
       "padding": null,
       "right": null,
       "top": null,
       "visibility": null,
       "width": null
      }
     },
     "9f30e70814d248cca8580d0d204984b9": {
      "model_module": "@jupyter-widgets/controls",
      "model_module_version": "1.5.0",
      "model_name": "FloatProgressModel",
      "state": {
       "_dom_classes": [],
       "_model_module": "@jupyter-widgets/controls",
       "_model_module_version": "1.5.0",
       "_model_name": "FloatProgressModel",
       "_view_count": null,
       "_view_module": "@jupyter-widgets/controls",
       "_view_module_version": "1.5.0",
       "_view_name": "ProgressView",
       "bar_style": "info",
       "description": "",
       "description_tooltip": null,
       "layout": "IPY_MODEL_798918a32f394b5480de99a0e6931089",
       "max": 1.0,
       "min": 0.0,
       "orientation": "horizontal",
       "style": "IPY_MODEL_ae53060d3388418e91f57414e8a80125",
       "value": 1.0
      }
     },
     "9f9ce97a3a4c45079d477886d9552016": {
      "model_module": "@jupyter-widgets/controls",
      "model_module_version": "1.5.0",
      "model_name": "HTMLModel",
      "state": {
       "_dom_classes": [],
       "_model_module": "@jupyter-widgets/controls",
       "_model_module_version": "1.5.0",
       "_model_name": "HTMLModel",
       "_view_count": null,
       "_view_module": "@jupyter-widgets/controls",
       "_view_module_version": "1.5.0",
       "_view_name": "HTMLView",
       "description": "",
       "description_tooltip": null,
       "layout": "IPY_MODEL_54b2466573184ce3a067897cd9c5b660",
       "placeholder": "​",
       "style": "IPY_MODEL_69cdd78da4ff421993d4cc7e2cf2862f",
       "value": "Downloading: 100%"
      }
     },
     "a055e22807ff4222b1d72d3e4d1c607b": {
      "model_module": "@jupyter-widgets/controls",
      "model_module_version": "1.5.0",
      "model_name": "FloatProgressModel",
      "state": {
       "_dom_classes": [],
       "_model_module": "@jupyter-widgets/controls",
       "_model_module_version": "1.5.0",
       "_model_name": "FloatProgressModel",
       "_view_count": null,
       "_view_module": "@jupyter-widgets/controls",
       "_view_module_version": "1.5.0",
       "_view_name": "ProgressView",
       "bar_style": "success",
       "description": "",
       "description_tooltip": null,
       "layout": "IPY_MODEL_aa2ac4e77d0c4598a5ed3f262941610a",
       "max": 2244296816.0,
       "min": 0.0,
       "orientation": "horizontal",
       "style": "IPY_MODEL_0541492c56ba4f14b026015fbc971359",
       "value": 2244296816.0
      }
     },
     "a0c4768689104bf0a8d6f5f7fae9fdd5": {
      "model_module": "@jupyter-widgets/base",
      "model_module_version": "1.2.0",
      "model_name": "LayoutModel",
      "state": {
       "_model_module": "@jupyter-widgets/base",
       "_model_module_version": "1.2.0",
       "_model_name": "LayoutModel",
       "_view_count": null,
       "_view_module": "@jupyter-widgets/base",
       "_view_module_version": "1.2.0",
       "_view_name": "LayoutView",
       "align_content": null,
       "align_items": null,
       "align_self": null,
       "border": null,
       "bottom": null,
       "display": null,
       "flex": null,
       "flex_flow": null,
       "grid_area": null,
       "grid_auto_columns": null,
       "grid_auto_flow": null,
       "grid_auto_rows": null,
       "grid_column": null,
       "grid_gap": null,
       "grid_row": null,
       "grid_template_areas": null,
       "grid_template_columns": null,
       "grid_template_rows": null,
       "height": null,
       "justify_content": null,
       "justify_items": null,
       "left": null,
       "margin": null,
       "max_height": null,
       "max_width": null,
       "min_height": null,
       "min_width": null,
       "object_fit": null,
       "object_position": null,
       "order": null,
       "overflow": null,
       "overflow_x": null,
       "overflow_y": null,
       "padding": null,
       "right": null,
       "top": null,
       "visibility": null,
       "width": null
      }
     },
     "a2e9f0dc1d37404a852186a0bc4e461e": {
      "model_module": "@jupyter-widgets/controls",
      "model_module_version": "1.5.0",
      "model_name": "ProgressStyleModel",
      "state": {
       "_model_module": "@jupyter-widgets/controls",
       "_model_module_version": "1.5.0",
       "_model_name": "ProgressStyleModel",
       "_view_count": null,
       "_view_module": "@jupyter-widgets/base",
       "_view_module_version": "1.2.0",
       "_view_name": "StyleView",
       "bar_color": null,
       "description_width": ""
      }
     },
     "a38f2aee89b04d358cd3abecc2396882": {
      "model_module": "@jupyter-widgets/base",
      "model_module_version": "1.2.0",
      "model_name": "LayoutModel",
      "state": {
       "_model_module": "@jupyter-widgets/base",
       "_model_module_version": "1.2.0",
       "_model_name": "LayoutModel",
       "_view_count": null,
       "_view_module": "@jupyter-widgets/base",
       "_view_module_version": "1.2.0",
       "_view_name": "LayoutView",
       "align_content": null,
       "align_items": null,
       "align_self": null,
       "border": null,
       "bottom": null,
       "display": null,
       "flex": null,
       "flex_flow": null,
       "grid_area": null,
       "grid_auto_columns": null,
       "grid_auto_flow": null,
       "grid_auto_rows": null,
       "grid_column": null,
       "grid_gap": null,
       "grid_row": null,
       "grid_template_areas": null,
       "grid_template_columns": null,
       "grid_template_rows": null,
       "height": null,
       "justify_content": null,
       "justify_items": null,
       "left": null,
       "margin": null,
       "max_height": null,
       "max_width": null,
       "min_height": null,
       "min_width": null,
       "object_fit": null,
       "object_position": null,
       "order": null,
       "overflow": null,
       "overflow_x": null,
       "overflow_y": null,
       "padding": null,
       "right": null,
       "top": null,
       "visibility": null,
       "width": null
      }
     },
     "a5207b94b6f1427893bb08a0ee88d721": {
      "model_module": "@jupyter-widgets/controls",
      "model_module_version": "1.5.0",
      "model_name": "FloatProgressModel",
      "state": {
       "_dom_classes": [],
       "_model_module": "@jupyter-widgets/controls",
       "_model_module_version": "1.5.0",
       "_model_name": "FloatProgressModel",
       "_view_count": null,
       "_view_module": "@jupyter-widgets/controls",
       "_view_module_version": "1.5.0",
       "_view_name": "ProgressView",
       "bar_style": "info",
       "description": "",
       "description_tooltip": null,
       "layout": "IPY_MODEL_fd1529d24b4a4a92837864082ca166f8",
       "max": 1.0,
       "min": 0.0,
       "orientation": "horizontal",
       "style": "IPY_MODEL_99a95b4dead943f5a79df2daf188d771",
       "value": 1.0
      }
     },
     "a56fd1c8650e47dc85cd9811ec8deb49": {
      "model_module": "@jupyter-widgets/controls",
      "model_module_version": "1.5.0",
      "model_name": "DescriptionStyleModel",
      "state": {
       "_model_module": "@jupyter-widgets/controls",
       "_model_module_version": "1.5.0",
       "_model_name": "DescriptionStyleModel",
       "_view_count": null,
       "_view_module": "@jupyter-widgets/base",
       "_view_module_version": "1.2.0",
       "_view_name": "StyleView",
       "description_width": ""
      }
     },
     "a5990624349c49ef95f07a6d4a970183": {
      "model_module": "@jupyter-widgets/controls",
      "model_module_version": "1.5.0",
      "model_name": "HBoxModel",
      "state": {
       "_dom_classes": [],
       "_model_module": "@jupyter-widgets/controls",
       "_model_module_version": "1.5.0",
       "_model_name": "HBoxModel",
       "_view_count": null,
       "_view_module": "@jupyter-widgets/controls",
       "_view_module_version": "1.5.0",
       "_view_name": "HBoxView",
       "box_style": "",
       "children": [
        "IPY_MODEL_0278c23287d940e2b3d8c00ba19a5d4a",
        "IPY_MODEL_eb764eeae3734beda65af14ab71f906d",
        "IPY_MODEL_8045059eb60c42419cf2d7ed6a0143fd"
       ],
       "layout": "IPY_MODEL_322358c4b1b74e168d5941909b0c667f"
      }
     },
     "a7acd8ee63354cac924a9d5b5df9b107": {
      "model_module": "@jupyter-widgets/controls",
      "model_module_version": "1.5.0",
      "model_name": "ProgressStyleModel",
      "state": {
       "_model_module": "@jupyter-widgets/controls",
       "_model_module_version": "1.5.0",
       "_model_name": "ProgressStyleModel",
       "_view_count": null,
       "_view_module": "@jupyter-widgets/base",
       "_view_module_version": "1.2.0",
       "_view_name": "StyleView",
       "bar_color": null,
       "description_width": ""
      }
     },
     "aa2ac4e77d0c4598a5ed3f262941610a": {
      "model_module": "@jupyter-widgets/base",
      "model_module_version": "1.2.0",
      "model_name": "LayoutModel",
      "state": {
       "_model_module": "@jupyter-widgets/base",
       "_model_module_version": "1.2.0",
       "_model_name": "LayoutModel",
       "_view_count": null,
       "_view_module": "@jupyter-widgets/base",
       "_view_module_version": "1.2.0",
       "_view_name": "LayoutView",
       "align_content": null,
       "align_items": null,
       "align_self": null,
       "border": null,
       "bottom": null,
       "display": null,
       "flex": null,
       "flex_flow": null,
       "grid_area": null,
       "grid_auto_columns": null,
       "grid_auto_flow": null,
       "grid_auto_rows": null,
       "grid_column": null,
       "grid_gap": null,
       "grid_row": null,
       "grid_template_areas": null,
       "grid_template_columns": null,
       "grid_template_rows": null,
       "height": null,
       "justify_content": null,
       "justify_items": null,
       "left": null,
       "margin": null,
       "max_height": null,
       "max_width": null,
       "min_height": null,
       "min_width": null,
       "object_fit": null,
       "object_position": null,
       "order": null,
       "overflow": null,
       "overflow_x": null,
       "overflow_y": null,
       "padding": null,
       "right": null,
       "top": null,
       "visibility": null,
       "width": null
      }
     },
     "aae55f87ff3f4f3e971e9f05daa78d8d": {
      "model_module": "@jupyter-widgets/base",
      "model_module_version": "1.2.0",
      "model_name": "LayoutModel",
      "state": {
       "_model_module": "@jupyter-widgets/base",
       "_model_module_version": "1.2.0",
       "_model_name": "LayoutModel",
       "_view_count": null,
       "_view_module": "@jupyter-widgets/base",
       "_view_module_version": "1.2.0",
       "_view_name": "LayoutView",
       "align_content": null,
       "align_items": null,
       "align_self": null,
       "border": null,
       "bottom": null,
       "display": null,
       "flex": null,
       "flex_flow": null,
       "grid_area": null,
       "grid_auto_columns": null,
       "grid_auto_flow": null,
       "grid_auto_rows": null,
       "grid_column": null,
       "grid_gap": null,
       "grid_row": null,
       "grid_template_areas": null,
       "grid_template_columns": null,
       "grid_template_rows": null,
       "height": null,
       "justify_content": null,
       "justify_items": null,
       "left": null,
       "margin": null,
       "max_height": null,
       "max_width": null,
       "min_height": null,
       "min_width": null,
       "object_fit": null,
       "object_position": null,
       "order": null,
       "overflow": null,
       "overflow_x": null,
       "overflow_y": null,
       "padding": null,
       "right": null,
       "top": null,
       "visibility": null,
       "width": null
      }
     },
     "ae53060d3388418e91f57414e8a80125": {
      "model_module": "@jupyter-widgets/controls",
      "model_module_version": "1.5.0",
      "model_name": "ProgressStyleModel",
      "state": {
       "_model_module": "@jupyter-widgets/controls",
       "_model_module_version": "1.5.0",
       "_model_name": "ProgressStyleModel",
       "_view_count": null,
       "_view_module": "@jupyter-widgets/base",
       "_view_module_version": "1.2.0",
       "_view_name": "StyleView",
       "bar_color": null,
       "description_width": ""
      }
     },
     "b44723f511b54093a4c30ff8c088528d": {
      "model_module": "@jupyter-widgets/base",
      "model_module_version": "1.2.0",
      "model_name": "LayoutModel",
      "state": {
       "_model_module": "@jupyter-widgets/base",
       "_model_module_version": "1.2.0",
       "_model_name": "LayoutModel",
       "_view_count": null,
       "_view_module": "@jupyter-widgets/base",
       "_view_module_version": "1.2.0",
       "_view_name": "LayoutView",
       "align_content": null,
       "align_items": null,
       "align_self": null,
       "border": null,
       "bottom": null,
       "display": null,
       "flex": null,
       "flex_flow": null,
       "grid_area": null,
       "grid_auto_columns": null,
       "grid_auto_flow": null,
       "grid_auto_rows": null,
       "grid_column": null,
       "grid_gap": null,
       "grid_row": null,
       "grid_template_areas": null,
       "grid_template_columns": null,
       "grid_template_rows": null,
       "height": null,
       "justify_content": null,
       "justify_items": null,
       "left": null,
       "margin": null,
       "max_height": null,
       "max_width": null,
       "min_height": null,
       "min_width": null,
       "object_fit": null,
       "object_position": null,
       "order": null,
       "overflow": null,
       "overflow_x": null,
       "overflow_y": null,
       "padding": null,
       "right": null,
       "top": null,
       "visibility": null,
       "width": null
      }
     },
     "b4706eddd91d42a491ed00111b5b1e76": {
      "model_module": "@jupyter-widgets/controls",
      "model_module_version": "1.5.0",
      "model_name": "DescriptionStyleModel",
      "state": {
       "_model_module": "@jupyter-widgets/controls",
       "_model_module_version": "1.5.0",
       "_model_name": "DescriptionStyleModel",
       "_view_count": null,
       "_view_module": "@jupyter-widgets/base",
       "_view_module_version": "1.2.0",
       "_view_name": "StyleView",
       "description_width": ""
      }
     },
     "b96c1ecc1daf4a7fa36b0c0d63223e84": {
      "model_module": "@jupyter-widgets/controls",
      "model_module_version": "1.5.0",
      "model_name": "HBoxModel",
      "state": {
       "_dom_classes": [],
       "_model_module": "@jupyter-widgets/controls",
       "_model_module_version": "1.5.0",
       "_model_name": "HBoxModel",
       "_view_count": null,
       "_view_module": "@jupyter-widgets/controls",
       "_view_module_version": "1.5.0",
       "_view_name": "HBoxView",
       "box_style": "",
       "children": [
        "IPY_MODEL_80a4c01d0a3c49819e6fc9e6c25d5e24",
        "IPY_MODEL_93c431d88b8f424db4ce57db8e7a9c96",
        "IPY_MODEL_8d051bca453f40c6aa7599f13b708d8a"
       ],
       "layout": "IPY_MODEL_64386009bb684020b106c4c4aae1ba65"
      }
     },
     "bb78c05d04bb449d8da74d15bc1d7446": {
      "model_module": "@jupyter-widgets/controls",
      "model_module_version": "1.5.0",
      "model_name": "FloatProgressModel",
      "state": {
       "_dom_classes": [],
       "_model_module": "@jupyter-widgets/controls",
       "_model_module_version": "1.5.0",
       "_model_name": "FloatProgressModel",
       "_view_count": null,
       "_view_module": "@jupyter-widgets/controls",
       "_view_module_version": "1.5.0",
       "_view_name": "ProgressView",
       "bar_style": "info",
       "description": "",
       "description_tooltip": null,
       "layout": "IPY_MODEL_285be0e72f774ed380f6bba3046f5773",
       "max": 1.0,
       "min": 0.0,
       "orientation": "horizontal",
       "style": "IPY_MODEL_290e7b308c614dc3af135423019dc4e4",
       "value": 1.0
      }
     },
     "bbbc9f4ad58e4d0d9123c0d33398056c": {
      "model_module": "@jupyter-widgets/controls",
      "model_module_version": "1.5.0",
      "model_name": "HBoxModel",
      "state": {
       "_dom_classes": [],
       "_model_module": "@jupyter-widgets/controls",
       "_model_module_version": "1.5.0",
       "_model_name": "HBoxModel",
       "_view_count": null,
       "_view_module": "@jupyter-widgets/controls",
       "_view_module_version": "1.5.0",
       "_view_name": "HBoxView",
       "box_style": "",
       "children": [
        "IPY_MODEL_1b404407ed854dd99e8574e5641941e3",
        "IPY_MODEL_a055e22807ff4222b1d72d3e4d1c607b",
        "IPY_MODEL_70eccc1a946b4fdab166fe0576d15967"
       ],
       "layout": "IPY_MODEL_0f99f154b64649cab22ea0b98b8a1285"
      }
     },
     "bc603e1ed5f543c584071c41980e1bb4": {
      "model_module": "@jupyter-widgets/controls",
      "model_module_version": "1.5.0",
      "model_name": "HTMLModel",
      "state": {
       "_dom_classes": [],
       "_model_module": "@jupyter-widgets/controls",
       "_model_module_version": "1.5.0",
       "_model_name": "HTMLModel",
       "_view_count": null,
       "_view_module": "@jupyter-widgets/controls",
       "_view_module_version": "1.5.0",
       "_view_name": "HTMLView",
       "description": "",
       "description_tooltip": null,
       "layout": "IPY_MODEL_7b11579da8bc42db9f3bb84bcaa7137c",
       "placeholder": "​",
       "style": "IPY_MODEL_67136a26dfcf4dfa930d42c6d29df8b7",
       "value": " 227M/227M [00:05&lt;00:00, 39.5MB/s]"
      }
     },
     "be753a690b594526bf0233955d0a1180": {
      "model_module": "@jupyter-widgets/controls",
      "model_module_version": "1.5.0",
      "model_name": "HTMLModel",
      "state": {
       "_dom_classes": [],
       "_model_module": "@jupyter-widgets/controls",
       "_model_module_version": "1.5.0",
       "_model_name": "HTMLModel",
       "_view_count": null,
       "_view_module": "@jupyter-widgets/controls",
       "_view_module_version": "1.5.0",
       "_view_name": "HTMLView",
       "description": "",
       "description_tooltip": null,
       "layout": "IPY_MODEL_f63977985d714330945e2fa5c5963979",
       "placeholder": "​",
       "style": "IPY_MODEL_468c6e6684b74ac3975233348a311f40",
       "value": " 9490/0 [00:00&lt;00:00, 32899.17 examples/s]"
      }
     },
     "c0ca3e7b41fd45209c18b65356e00e45": {
      "model_module": "@jupyter-widgets/base",
      "model_module_version": "1.2.0",
      "model_name": "LayoutModel",
      "state": {
       "_model_module": "@jupyter-widgets/base",
       "_model_module_version": "1.2.0",
       "_model_name": "LayoutModel",
       "_view_count": null,
       "_view_module": "@jupyter-widgets/base",
       "_view_module_version": "1.2.0",
       "_view_name": "LayoutView",
       "align_content": null,
       "align_items": null,
       "align_self": null,
       "border": null,
       "bottom": null,
       "display": null,
       "flex": null,
       "flex_flow": null,
       "grid_area": null,
       "grid_auto_columns": null,
       "grid_auto_flow": null,
       "grid_auto_rows": null,
       "grid_column": null,
       "grid_gap": null,
       "grid_row": null,
       "grid_template_areas": null,
       "grid_template_columns": null,
       "grid_template_rows": null,
       "height": null,
       "justify_content": null,
       "justify_items": null,
       "left": null,
       "margin": null,
       "max_height": null,
       "max_width": null,
       "min_height": null,
       "min_width": null,
       "object_fit": null,
       "object_position": null,
       "order": null,
       "overflow": null,
       "overflow_x": null,
       "overflow_y": null,
       "padding": null,
       "right": null,
       "top": null,
       "visibility": null,
       "width": null
      }
     },
     "c62977920b5f4715b6a1ec0a27a106b9": {
      "model_module": "@jupyter-widgets/controls",
      "model_module_version": "1.5.0",
      "model_name": "DescriptionStyleModel",
      "state": {
       "_model_module": "@jupyter-widgets/controls",
       "_model_module_version": "1.5.0",
       "_model_name": "DescriptionStyleModel",
       "_view_count": null,
       "_view_module": "@jupyter-widgets/base",
       "_view_module_version": "1.2.0",
       "_view_name": "StyleView",
       "description_width": ""
      }
     },
     "c8f909ae78934706942ab603c04dc553": {
      "model_module": "@jupyter-widgets/base",
      "model_module_version": "1.2.0",
      "model_name": "LayoutModel",
      "state": {
       "_model_module": "@jupyter-widgets/base",
       "_model_module_version": "1.2.0",
       "_model_name": "LayoutModel",
       "_view_count": null,
       "_view_module": "@jupyter-widgets/base",
       "_view_module_version": "1.2.0",
       "_view_name": "LayoutView",
       "align_content": null,
       "align_items": null,
       "align_self": null,
       "border": null,
       "bottom": null,
       "display": null,
       "flex": null,
       "flex_flow": null,
       "grid_area": null,
       "grid_auto_columns": null,
       "grid_auto_flow": null,
       "grid_auto_rows": null,
       "grid_column": null,
       "grid_gap": null,
       "grid_row": null,
       "grid_template_areas": null,
       "grid_template_columns": null,
       "grid_template_rows": null,
       "height": null,
       "justify_content": null,
       "justify_items": null,
       "left": null,
       "margin": null,
       "max_height": null,
       "max_width": null,
       "min_height": null,
       "min_width": null,
       "object_fit": null,
       "object_position": null,
       "order": null,
       "overflow": null,
       "overflow_x": null,
       "overflow_y": null,
       "padding": null,
       "right": null,
       "top": null,
       "visibility": null,
       "width": null
      }
     },
     "cdb0cd6be0c14ca1bd3b779d17d125fc": {
      "model_module": "@jupyter-widgets/controls",
      "model_module_version": "1.5.0",
      "model_name": "DescriptionStyleModel",
      "state": {
       "_model_module": "@jupyter-widgets/controls",
       "_model_module_version": "1.5.0",
       "_model_name": "DescriptionStyleModel",
       "_view_count": null,
       "_view_module": "@jupyter-widgets/base",
       "_view_module_version": "1.2.0",
       "_view_name": "StyleView",
       "description_width": ""
      }
     },
     "d9055759a56b4b8e80d8ac6b000c10e9": {
      "model_module": "@jupyter-widgets/base",
      "model_module_version": "1.2.0",
      "model_name": "LayoutModel",
      "state": {
       "_model_module": "@jupyter-widgets/base",
       "_model_module_version": "1.2.0",
       "_model_name": "LayoutModel",
       "_view_count": null,
       "_view_module": "@jupyter-widgets/base",
       "_view_module_version": "1.2.0",
       "_view_name": "LayoutView",
       "align_content": null,
       "align_items": null,
       "align_self": null,
       "border": null,
       "bottom": null,
       "display": null,
       "flex": null,
       "flex_flow": null,
       "grid_area": null,
       "grid_auto_columns": null,
       "grid_auto_flow": null,
       "grid_auto_rows": null,
       "grid_column": null,
       "grid_gap": null,
       "grid_row": null,
       "grid_template_areas": null,
       "grid_template_columns": null,
       "grid_template_rows": null,
       "height": null,
       "justify_content": null,
       "justify_items": null,
       "left": null,
       "margin": null,
       "max_height": null,
       "max_width": null,
       "min_height": null,
       "min_width": null,
       "object_fit": null,
       "object_position": null,
       "order": null,
       "overflow": null,
       "overflow_x": null,
       "overflow_y": null,
       "padding": null,
       "right": null,
       "top": null,
       "visibility": null,
       "width": null
      }
     },
     "dbea1050e8264ec39a8efaa9b120985c": {
      "model_module": "@jupyter-widgets/controls",
      "model_module_version": "1.5.0",
      "model_name": "DescriptionStyleModel",
      "state": {
       "_model_module": "@jupyter-widgets/controls",
       "_model_module_version": "1.5.0",
       "_model_name": "DescriptionStyleModel",
       "_view_count": null,
       "_view_module": "@jupyter-widgets/base",
       "_view_module_version": "1.2.0",
       "_view_name": "StyleView",
       "description_width": ""
      }
     },
     "de4ad4f86fa0493587cb1e085594358b": {
      "model_module": "@jupyter-widgets/controls",
      "model_module_version": "1.5.0",
      "model_name": "HTMLModel",
      "state": {
       "_dom_classes": [],
       "_model_module": "@jupyter-widgets/controls",
       "_model_module_version": "1.5.0",
       "_model_name": "HTMLModel",
       "_view_count": null,
       "_view_module": "@jupyter-widgets/controls",
       "_view_module_version": "1.5.0",
       "_view_name": "HTMLView",
       "description": "",
       "description_tooltip": null,
       "layout": "IPY_MODEL_23b2241b64aa4b4dacb5bc20db42dee0",
       "placeholder": "​",
       "style": "IPY_MODEL_2e09736bd8a34eb98e5af5b9388cdd07",
       "value": " 150/150 [00:00&lt;00:00, 5.06kB/s]"
      }
     },
     "e40c7c91cd3b4de89f0b2bc31b87d0f6": {
      "model_module": "@jupyter-widgets/controls",
      "model_module_version": "1.5.0",
      "model_name": "HBoxModel",
      "state": {
       "_dom_classes": [],
       "_model_module": "@jupyter-widgets/controls",
       "_model_module_version": "1.5.0",
       "_model_name": "HBoxModel",
       "_view_count": null,
       "_view_module": "@jupyter-widgets/controls",
       "_view_module_version": "1.5.0",
       "_view_name": "HBoxView",
       "box_style": "",
       "children": [
        "IPY_MODEL_3f467aae663a4d09a4808b2f0f80c8ea",
        "IPY_MODEL_6fa09293422b4dff9eee112d6ab6c877",
        "IPY_MODEL_8cfb0edeafe846ea85bb7c1d8ba38f75"
       ],
       "layout": "IPY_MODEL_7e7c6ca14e87431ea8cde78978f71a92"
      }
     },
     "eb764eeae3734beda65af14ab71f906d": {
      "model_module": "@jupyter-widgets/controls",
      "model_module_version": "1.5.0",
      "model_name": "FloatProgressModel",
      "state": {
       "_dom_classes": [],
       "_model_module": "@jupyter-widgets/controls",
       "_model_module_version": "1.5.0",
       "_model_name": "FloatProgressModel",
       "_view_count": null,
       "_view_module": "@jupyter-widgets/controls",
       "_view_module_version": "1.5.0",
       "_view_name": "ProgressView",
       "bar_style": "success",
       "description": "",
       "description_tooltip": null,
       "layout": "IPY_MODEL_533624a47b27431bb891809573d22957",
       "max": 5069051.0,
       "min": 0.0,
       "orientation": "horizontal",
       "style": "IPY_MODEL_a2e9f0dc1d37404a852186a0bc4e461e",
       "value": 5069051.0
      }
     },
     "f63977985d714330945e2fa5c5963979": {
      "model_module": "@jupyter-widgets/base",
      "model_module_version": "1.2.0",
      "model_name": "LayoutModel",
      "state": {
       "_model_module": "@jupyter-widgets/base",
       "_model_module_version": "1.2.0",
       "_model_name": "LayoutModel",
       "_view_count": null,
       "_view_module": "@jupyter-widgets/base",
       "_view_module_version": "1.2.0",
       "_view_name": "LayoutView",
       "align_content": null,
       "align_items": null,
       "align_self": null,
       "border": null,
       "bottom": null,
       "display": null,
       "flex": null,
       "flex_flow": null,
       "grid_area": null,
       "grid_auto_columns": null,
       "grid_auto_flow": null,
       "grid_auto_rows": null,
       "grid_column": null,
       "grid_gap": null,
       "grid_row": null,
       "grid_template_areas": null,
       "grid_template_columns": null,
       "grid_template_rows": null,
       "height": null,
       "justify_content": null,
       "justify_items": null,
       "left": null,
       "margin": null,
       "max_height": null,
       "max_width": null,
       "min_height": null,
       "min_width": null,
       "object_fit": null,
       "object_position": null,
       "order": null,
       "overflow": null,
       "overflow_x": null,
       "overflow_y": null,
       "padding": null,
       "right": null,
       "top": null,
       "visibility": null,
       "width": null
      }
     },
     "f7d1bbaeda5c48b590a6545ff1b397a4": {
      "model_module": "@jupyter-widgets/base",
      "model_module_version": "1.2.0",
      "model_name": "LayoutModel",
      "state": {
       "_model_module": "@jupyter-widgets/base",
       "_model_module_version": "1.2.0",
       "_model_name": "LayoutModel",
       "_view_count": null,
       "_view_module": "@jupyter-widgets/base",
       "_view_module_version": "1.2.0",
       "_view_name": "LayoutView",
       "align_content": null,
       "align_items": null,
       "align_self": null,
       "border": null,
       "bottom": null,
       "display": null,
       "flex": null,
       "flex_flow": null,
       "grid_area": null,
       "grid_auto_columns": null,
       "grid_auto_flow": null,
       "grid_auto_rows": null,
       "grid_column": null,
       "grid_gap": null,
       "grid_row": null,
       "grid_template_areas": null,
       "grid_template_columns": null,
       "grid_template_rows": null,
       "height": null,
       "justify_content": null,
       "justify_items": null,
       "left": null,
       "margin": null,
       "max_height": null,
       "max_width": null,
       "min_height": null,
       "min_width": null,
       "object_fit": null,
       "object_position": null,
       "order": null,
       "overflow": null,
       "overflow_x": null,
       "overflow_y": null,
       "padding": null,
       "right": null,
       "top": null,
       "visibility": null,
       "width": null
      }
     },
     "fd1529d24b4a4a92837864082ca166f8": {
      "model_module": "@jupyter-widgets/base",
      "model_module_version": "1.2.0",
      "model_name": "LayoutModel",
      "state": {
       "_model_module": "@jupyter-widgets/base",
       "_model_module_version": "1.2.0",
       "_model_name": "LayoutModel",
       "_view_count": null,
       "_view_module": "@jupyter-widgets/base",
       "_view_module_version": "1.2.0",
       "_view_name": "LayoutView",
       "align_content": null,
       "align_items": null,
       "align_self": null,
       "border": null,
       "bottom": null,
       "display": null,
       "flex": null,
       "flex_flow": null,
       "grid_area": null,
       "grid_auto_columns": null,
       "grid_auto_flow": null,
       "grid_auto_rows": null,
       "grid_column": null,
       "grid_gap": null,
       "grid_row": null,
       "grid_template_areas": null,
       "grid_template_columns": null,
       "grid_template_rows": null,
       "height": null,
       "justify_content": null,
       "justify_items": null,
       "left": null,
       "margin": null,
       "max_height": null,
       "max_width": null,
       "min_height": null,
       "min_width": null,
       "object_fit": null,
       "object_position": null,
       "order": null,
       "overflow": null,
       "overflow_x": null,
       "overflow_y": null,
       "padding": null,
       "right": null,
       "top": null,
       "visibility": null,
       "width": "20px"
      }
     },
     "fd65cab379214d6fb146bbee69077309": {
      "model_module": "@jupyter-widgets/base",
      "model_module_version": "1.2.0",
      "model_name": "LayoutModel",
      "state": {
       "_model_module": "@jupyter-widgets/base",
       "_model_module_version": "1.2.0",
       "_model_name": "LayoutModel",
       "_view_count": null,
       "_view_module": "@jupyter-widgets/base",
       "_view_module_version": "1.2.0",
       "_view_name": "LayoutView",
       "align_content": null,
       "align_items": null,
       "align_self": null,
       "border": null,
       "bottom": null,
       "display": null,
       "flex": null,
       "flex_flow": null,
       "grid_area": null,
       "grid_auto_columns": null,
       "grid_auto_flow": null,
       "grid_auto_rows": null,
       "grid_column": null,
       "grid_gap": null,
       "grid_row": null,
       "grid_template_areas": null,
       "grid_template_columns": null,
       "grid_template_rows": null,
       "height": null,
       "justify_content": null,
       "justify_items": null,
       "left": null,
       "margin": null,
       "max_height": null,
       "max_width": null,
       "min_height": null,
       "min_width": null,
       "object_fit": null,
       "object_position": null,
       "order": null,
       "overflow": null,
       "overflow_x": null,
       "overflow_y": null,
       "padding": null,
       "right": null,
       "top": null,
       "visibility": null,
       "width": null
      }
     },
     "fd67e277987c49888c594306aa85a70c": {
      "model_module": "@jupyter-widgets/controls",
      "model_module_version": "1.5.0",
      "model_name": "DescriptionStyleModel",
      "state": {
       "_model_module": "@jupyter-widgets/controls",
       "_model_module_version": "1.5.0",
       "_model_name": "DescriptionStyleModel",
       "_view_count": null,
       "_view_module": "@jupyter-widgets/base",
       "_view_module_version": "1.2.0",
       "_view_name": "StyleView",
       "description_width": ""
      }
     },
     "ffb1da6465274b2b9832414ef96b732b": {
      "model_module": "@jupyter-widgets/base",
      "model_module_version": "1.2.0",
      "model_name": "LayoutModel",
      "state": {
       "_model_module": "@jupyter-widgets/base",
       "_model_module_version": "1.2.0",
       "_model_name": "LayoutModel",
       "_view_count": null,
       "_view_module": "@jupyter-widgets/base",
       "_view_module_version": "1.2.0",
       "_view_name": "LayoutView",
       "align_content": null,
       "align_items": null,
       "align_self": null,
       "border": null,
       "bottom": null,
       "display": null,
       "flex": null,
       "flex_flow": null,
       "grid_area": null,
       "grid_auto_columns": null,
       "grid_auto_flow": null,
       "grid_auto_rows": null,
       "grid_column": null,
       "grid_gap": null,
       "grid_row": null,
       "grid_template_areas": null,
       "grid_template_columns": null,
       "grid_template_rows": null,
       "height": null,
       "justify_content": null,
       "justify_items": null,
       "left": null,
       "margin": null,
       "max_height": null,
       "max_width": null,
       "min_height": null,
       "min_width": null,
       "object_fit": null,
       "object_position": null,
       "order": null,
       "overflow": null,
       "overflow_x": null,
       "overflow_y": null,
       "padding": null,
       "right": null,
       "top": null,
       "visibility": null,
       "width": null
      }
     }
    },
    "version_major": 2,
    "version_minor": 0
   }
  }
 },
 "nbformat": 4,
 "nbformat_minor": 5
}
